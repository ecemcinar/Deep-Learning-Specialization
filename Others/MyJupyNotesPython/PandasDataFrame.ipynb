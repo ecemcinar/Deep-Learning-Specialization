{
 "cells": [
  {
   "cell_type": "code",
   "execution_count": 1,
   "id": "85155440",
   "metadata": {},
   "outputs": [],
   "source": [
    "import pandas as pd\n",
    "import numpy as np"
   ]
  },
  {
   "cell_type": "code",
   "execution_count": 2,
   "id": "76a7636e",
   "metadata": {},
   "outputs": [],
   "source": [
    "randMatrix=np.random.randn(4,3)"
   ]
  },
  {
   "cell_type": "code",
   "execution_count": 3,
   "id": "ee0587c8",
   "metadata": {},
   "outputs": [
    {
     "data": {
      "text/plain": [
       "array([[-1.13410644, -0.95751835, -0.98821867],\n",
       "       [ 1.66506257,  1.35895275,  1.42628135],\n",
       "       [ 0.45055647,  1.76922774,  0.08453874],\n",
       "       [ 0.67107921, -1.81559975,  0.40487646]])"
      ]
     },
     "execution_count": 3,
     "metadata": {},
     "output_type": "execute_result"
    }
   ],
   "source": [
    "randMatrix"
   ]
  },
  {
   "cell_type": "code",
   "execution_count": 4,
   "id": "11011df5",
   "metadata": {},
   "outputs": [],
   "source": [
    "dataFrame = pd.DataFrame(randMatrix)"
   ]
  },
  {
   "cell_type": "code",
   "execution_count": 5,
   "id": "08d57298",
   "metadata": {},
   "outputs": [
    {
     "data": {
      "text/html": [
       "<div>\n",
       "<style scoped>\n",
       "    .dataframe tbody tr th:only-of-type {\n",
       "        vertical-align: middle;\n",
       "    }\n",
       "\n",
       "    .dataframe tbody tr th {\n",
       "        vertical-align: top;\n",
       "    }\n",
       "\n",
       "    .dataframe thead th {\n",
       "        text-align: right;\n",
       "    }\n",
       "</style>\n",
       "<table border=\"1\" class=\"dataframe\">\n",
       "  <thead>\n",
       "    <tr style=\"text-align: right;\">\n",
       "      <th></th>\n",
       "      <th>0</th>\n",
       "      <th>1</th>\n",
       "      <th>2</th>\n",
       "    </tr>\n",
       "  </thead>\n",
       "  <tbody>\n",
       "    <tr>\n",
       "      <th>0</th>\n",
       "      <td>-1.134106</td>\n",
       "      <td>-0.957518</td>\n",
       "      <td>-0.988219</td>\n",
       "    </tr>\n",
       "    <tr>\n",
       "      <th>1</th>\n",
       "      <td>1.665063</td>\n",
       "      <td>1.358953</td>\n",
       "      <td>1.426281</td>\n",
       "    </tr>\n",
       "    <tr>\n",
       "      <th>2</th>\n",
       "      <td>0.450556</td>\n",
       "      <td>1.769228</td>\n",
       "      <td>0.084539</td>\n",
       "    </tr>\n",
       "    <tr>\n",
       "      <th>3</th>\n",
       "      <td>0.671079</td>\n",
       "      <td>-1.815600</td>\n",
       "      <td>0.404876</td>\n",
       "    </tr>\n",
       "  </tbody>\n",
       "</table>\n",
       "</div>"
      ],
      "text/plain": [
       "          0         1         2\n",
       "0 -1.134106 -0.957518 -0.988219\n",
       "1  1.665063  1.358953  1.426281\n",
       "2  0.450556  1.769228  0.084539\n",
       "3  0.671079 -1.815600  0.404876"
      ]
     },
     "execution_count": 5,
     "metadata": {},
     "output_type": "execute_result"
    }
   ],
   "source": [
    "dataFrame"
   ]
  },
  {
   "cell_type": "code",
   "execution_count": 6,
   "id": "95bd1c26",
   "metadata": {},
   "outputs": [
    {
     "data": {
      "text/plain": [
       "0   -1.134106\n",
       "1    1.665063\n",
       "2    0.450556\n",
       "3    0.671079\n",
       "Name: 0, dtype: float64"
      ]
     },
     "execution_count": 6,
     "metadata": {},
     "output_type": "execute_result"
    }
   ],
   "source": [
    "dataFrame[0] #column olarak getirir"
   ]
  },
  {
   "cell_type": "code",
   "execution_count": 7,
   "id": "e56485d7",
   "metadata": {},
   "outputs": [
    {
     "data": {
      "text/plain": [
       "pandas.core.series.Series"
      ]
     },
     "execution_count": 7,
     "metadata": {},
     "output_type": "execute_result"
    }
   ],
   "source": [
    "type(dataFrame[0])"
   ]
  },
  {
   "cell_type": "code",
   "execution_count": 8,
   "id": "36ae6ca3",
   "metadata": {},
   "outputs": [],
   "source": [
    "newDataFrame=pd.DataFrame(randMatrix,index=[\"Ecem\",\"Sevval\",\"Cinar\",\"Izmir\"],columns=[\"Age\",\"Hour\",\"Price\"])"
   ]
  },
  {
   "cell_type": "code",
   "execution_count": 9,
   "id": "417cf2de",
   "metadata": {},
   "outputs": [
    {
     "data": {
      "text/html": [
       "<div>\n",
       "<style scoped>\n",
       "    .dataframe tbody tr th:only-of-type {\n",
       "        vertical-align: middle;\n",
       "    }\n",
       "\n",
       "    .dataframe tbody tr th {\n",
       "        vertical-align: top;\n",
       "    }\n",
       "\n",
       "    .dataframe thead th {\n",
       "        text-align: right;\n",
       "    }\n",
       "</style>\n",
       "<table border=\"1\" class=\"dataframe\">\n",
       "  <thead>\n",
       "    <tr style=\"text-align: right;\">\n",
       "      <th></th>\n",
       "      <th>Age</th>\n",
       "      <th>Hour</th>\n",
       "      <th>Price</th>\n",
       "    </tr>\n",
       "  </thead>\n",
       "  <tbody>\n",
       "    <tr>\n",
       "      <th>Ecem</th>\n",
       "      <td>-1.134106</td>\n",
       "      <td>-0.957518</td>\n",
       "      <td>-0.988219</td>\n",
       "    </tr>\n",
       "    <tr>\n",
       "      <th>Sevval</th>\n",
       "      <td>1.665063</td>\n",
       "      <td>1.358953</td>\n",
       "      <td>1.426281</td>\n",
       "    </tr>\n",
       "    <tr>\n",
       "      <th>Cinar</th>\n",
       "      <td>0.450556</td>\n",
       "      <td>1.769228</td>\n",
       "      <td>0.084539</td>\n",
       "    </tr>\n",
       "    <tr>\n",
       "      <th>Izmir</th>\n",
       "      <td>0.671079</td>\n",
       "      <td>-1.815600</td>\n",
       "      <td>0.404876</td>\n",
       "    </tr>\n",
       "  </tbody>\n",
       "</table>\n",
       "</div>"
      ],
      "text/plain": [
       "             Age      Hour     Price\n",
       "Ecem   -1.134106 -0.957518 -0.988219\n",
       "Sevval  1.665063  1.358953  1.426281\n",
       "Cinar   0.450556  1.769228  0.084539\n",
       "Izmir   0.671079 -1.815600  0.404876"
      ]
     },
     "execution_count": 9,
     "metadata": {},
     "output_type": "execute_result"
    }
   ],
   "source": [
    "newDataFrame"
   ]
  },
  {
   "cell_type": "code",
   "execution_count": 10,
   "id": "ec2c4353",
   "metadata": {},
   "outputs": [
    {
     "data": {
      "text/plain": [
       "Ecem     -1.134106\n",
       "Sevval    1.665063\n",
       "Cinar     0.450556\n",
       "Izmir     0.671079\n",
       "Name: Age, dtype: float64"
      ]
     },
     "execution_count": 10,
     "metadata": {},
     "output_type": "execute_result"
    }
   ],
   "source": [
    "newDataFrame[\"Age\"]"
   ]
  },
  {
   "cell_type": "code",
   "execution_count": 11,
   "id": "af71805e",
   "metadata": {},
   "outputs": [
    {
     "data": {
      "text/html": [
       "<div>\n",
       "<style scoped>\n",
       "    .dataframe tbody tr th:only-of-type {\n",
       "        vertical-align: middle;\n",
       "    }\n",
       "\n",
       "    .dataframe tbody tr th {\n",
       "        vertical-align: top;\n",
       "    }\n",
       "\n",
       "    .dataframe thead th {\n",
       "        text-align: right;\n",
       "    }\n",
       "</style>\n",
       "<table border=\"1\" class=\"dataframe\">\n",
       "  <thead>\n",
       "    <tr style=\"text-align: right;\">\n",
       "      <th></th>\n",
       "      <th>Hour</th>\n",
       "      <th>Age</th>\n",
       "    </tr>\n",
       "  </thead>\n",
       "  <tbody>\n",
       "    <tr>\n",
       "      <th>Ecem</th>\n",
       "      <td>-0.957518</td>\n",
       "      <td>-1.134106</td>\n",
       "    </tr>\n",
       "    <tr>\n",
       "      <th>Sevval</th>\n",
       "      <td>1.358953</td>\n",
       "      <td>1.665063</td>\n",
       "    </tr>\n",
       "    <tr>\n",
       "      <th>Cinar</th>\n",
       "      <td>1.769228</td>\n",
       "      <td>0.450556</td>\n",
       "    </tr>\n",
       "    <tr>\n",
       "      <th>Izmir</th>\n",
       "      <td>-1.815600</td>\n",
       "      <td>0.671079</td>\n",
       "    </tr>\n",
       "  </tbody>\n",
       "</table>\n",
       "</div>"
      ],
      "text/plain": [
       "            Hour       Age\n",
       "Ecem   -0.957518 -1.134106\n",
       "Sevval  1.358953  1.665063\n",
       "Cinar   1.769228  0.450556\n",
       "Izmir  -1.815600  0.671079"
      ]
     },
     "execution_count": 11,
     "metadata": {},
     "output_type": "execute_result"
    }
   ],
   "source": [
    "newDataFrame[[\"Hour\",\"Age\"]]"
   ]
  },
  {
   "cell_type": "code",
   "execution_count": 12,
   "id": "862c071d",
   "metadata": {},
   "outputs": [
    {
     "data": {
      "text/plain": [
       "Age     -1.134106\n",
       "Hour    -0.957518\n",
       "Price   -0.988219\n",
       "Name: Ecem, dtype: float64"
      ]
     },
     "execution_count": 12,
     "metadata": {},
     "output_type": "execute_result"
    }
   ],
   "source": [
    "newDataFrame.loc[\"Ecem\"]\n",
    "#get row, loc->locate"
   ]
  },
  {
   "cell_type": "code",
   "execution_count": 13,
   "id": "cd8343c5",
   "metadata": {},
   "outputs": [
    {
     "data": {
      "text/plain": [
       "Age      0.671079\n",
       "Hour    -1.815600\n",
       "Price    0.404876\n",
       "Name: Izmir, dtype: float64"
      ]
     },
     "execution_count": 13,
     "metadata": {},
     "output_type": "execute_result"
    }
   ],
   "source": [
    "newDataFrame.loc[\"Izmir\"]"
   ]
  },
  {
   "cell_type": "code",
   "execution_count": 14,
   "id": "761c3654",
   "metadata": {},
   "outputs": [
    {
     "data": {
      "text/plain": [
       "Age      1.665063\n",
       "Hour     1.358953\n",
       "Price    1.426281\n",
       "Name: Sevval, dtype: float64"
      ]
     },
     "execution_count": 14,
     "metadata": {},
     "output_type": "execute_result"
    }
   ],
   "source": [
    "newDataFrame.iloc[1]\n",
    "#get row by index"
   ]
  },
  {
   "cell_type": "code",
   "execution_count": 15,
   "id": "01b60fa2",
   "metadata": {},
   "outputs": [],
   "source": [
    "newDataFrame[\"Retired\"]=newDataFrame[\"Age\"] + newDataFrame[\"Age\"]"
   ]
  },
  {
   "cell_type": "code",
   "execution_count": 16,
   "id": "4cb3879b",
   "metadata": {},
   "outputs": [
    {
     "data": {
      "text/html": [
       "<div>\n",
       "<style scoped>\n",
       "    .dataframe tbody tr th:only-of-type {\n",
       "        vertical-align: middle;\n",
       "    }\n",
       "\n",
       "    .dataframe tbody tr th {\n",
       "        vertical-align: top;\n",
       "    }\n",
       "\n",
       "    .dataframe thead th {\n",
       "        text-align: right;\n",
       "    }\n",
       "</style>\n",
       "<table border=\"1\" class=\"dataframe\">\n",
       "  <thead>\n",
       "    <tr style=\"text-align: right;\">\n",
       "      <th></th>\n",
       "      <th>Age</th>\n",
       "      <th>Hour</th>\n",
       "      <th>Price</th>\n",
       "      <th>Retired</th>\n",
       "    </tr>\n",
       "  </thead>\n",
       "  <tbody>\n",
       "    <tr>\n",
       "      <th>Ecem</th>\n",
       "      <td>-1.134106</td>\n",
       "      <td>-0.957518</td>\n",
       "      <td>-0.988219</td>\n",
       "      <td>-2.268213</td>\n",
       "    </tr>\n",
       "    <tr>\n",
       "      <th>Sevval</th>\n",
       "      <td>1.665063</td>\n",
       "      <td>1.358953</td>\n",
       "      <td>1.426281</td>\n",
       "      <td>3.330125</td>\n",
       "    </tr>\n",
       "    <tr>\n",
       "      <th>Cinar</th>\n",
       "      <td>0.450556</td>\n",
       "      <td>1.769228</td>\n",
       "      <td>0.084539</td>\n",
       "      <td>0.901113</td>\n",
       "    </tr>\n",
       "    <tr>\n",
       "      <th>Izmir</th>\n",
       "      <td>0.671079</td>\n",
       "      <td>-1.815600</td>\n",
       "      <td>0.404876</td>\n",
       "      <td>1.342158</td>\n",
       "    </tr>\n",
       "  </tbody>\n",
       "</table>\n",
       "</div>"
      ],
      "text/plain": [
       "             Age      Hour     Price   Retired\n",
       "Ecem   -1.134106 -0.957518 -0.988219 -2.268213\n",
       "Sevval  1.665063  1.358953  1.426281  3.330125\n",
       "Cinar   0.450556  1.769228  0.084539  0.901113\n",
       "Izmir   0.671079 -1.815600  0.404876  1.342158"
      ]
     },
     "execution_count": 16,
     "metadata": {},
     "output_type": "execute_result"
    }
   ],
   "source": [
    "newDataFrame"
   ]
  },
  {
   "cell_type": "code",
   "execution_count": 17,
   "id": "06b7025b",
   "metadata": {},
   "outputs": [
    {
     "data": {
      "text/html": [
       "<div>\n",
       "<style scoped>\n",
       "    .dataframe tbody tr th:only-of-type {\n",
       "        vertical-align: middle;\n",
       "    }\n",
       "\n",
       "    .dataframe tbody tr th {\n",
       "        vertical-align: top;\n",
       "    }\n",
       "\n",
       "    .dataframe thead th {\n",
       "        text-align: right;\n",
       "    }\n",
       "</style>\n",
       "<table border=\"1\" class=\"dataframe\">\n",
       "  <thead>\n",
       "    <tr style=\"text-align: right;\">\n",
       "      <th></th>\n",
       "      <th>Age</th>\n",
       "      <th>Hour</th>\n",
       "      <th>Price</th>\n",
       "    </tr>\n",
       "  </thead>\n",
       "  <tbody>\n",
       "    <tr>\n",
       "      <th>Ecem</th>\n",
       "      <td>-1.134106</td>\n",
       "      <td>-0.957518</td>\n",
       "      <td>-0.988219</td>\n",
       "    </tr>\n",
       "    <tr>\n",
       "      <th>Sevval</th>\n",
       "      <td>1.665063</td>\n",
       "      <td>1.358953</td>\n",
       "      <td>1.426281</td>\n",
       "    </tr>\n",
       "    <tr>\n",
       "      <th>Cinar</th>\n",
       "      <td>0.450556</td>\n",
       "      <td>1.769228</td>\n",
       "      <td>0.084539</td>\n",
       "    </tr>\n",
       "    <tr>\n",
       "      <th>Izmir</th>\n",
       "      <td>0.671079</td>\n",
       "      <td>-1.815600</td>\n",
       "      <td>0.404876</td>\n",
       "    </tr>\n",
       "  </tbody>\n",
       "</table>\n",
       "</div>"
      ],
      "text/plain": [
       "             Age      Hour     Price\n",
       "Ecem   -1.134106 -0.957518 -0.988219\n",
       "Sevval  1.665063  1.358953  1.426281\n",
       "Cinar   0.450556  1.769228  0.084539\n",
       "Izmir   0.671079 -1.815600  0.404876"
      ]
     },
     "execution_count": 17,
     "metadata": {},
     "output_type": "execute_result"
    }
   ],
   "source": [
    "newDataFrame.drop(\"Retired\",axis=1)\n",
    "#delete from column"
   ]
  },
  {
   "cell_type": "code",
   "execution_count": 18,
   "id": "35b3bd31",
   "metadata": {},
   "outputs": [
    {
     "data": {
      "text/html": [
       "<div>\n",
       "<style scoped>\n",
       "    .dataframe tbody tr th:only-of-type {\n",
       "        vertical-align: middle;\n",
       "    }\n",
       "\n",
       "    .dataframe tbody tr th {\n",
       "        vertical-align: top;\n",
       "    }\n",
       "\n",
       "    .dataframe thead th {\n",
       "        text-align: right;\n",
       "    }\n",
       "</style>\n",
       "<table border=\"1\" class=\"dataframe\">\n",
       "  <thead>\n",
       "    <tr style=\"text-align: right;\">\n",
       "      <th></th>\n",
       "      <th>Age</th>\n",
       "      <th>Hour</th>\n",
       "      <th>Price</th>\n",
       "      <th>Retired</th>\n",
       "    </tr>\n",
       "  </thead>\n",
       "  <tbody>\n",
       "    <tr>\n",
       "      <th>Ecem</th>\n",
       "      <td>-1.134106</td>\n",
       "      <td>-0.957518</td>\n",
       "      <td>-0.988219</td>\n",
       "      <td>-2.268213</td>\n",
       "    </tr>\n",
       "    <tr>\n",
       "      <th>Sevval</th>\n",
       "      <td>1.665063</td>\n",
       "      <td>1.358953</td>\n",
       "      <td>1.426281</td>\n",
       "      <td>3.330125</td>\n",
       "    </tr>\n",
       "    <tr>\n",
       "      <th>Izmir</th>\n",
       "      <td>0.671079</td>\n",
       "      <td>-1.815600</td>\n",
       "      <td>0.404876</td>\n",
       "      <td>1.342158</td>\n",
       "    </tr>\n",
       "  </tbody>\n",
       "</table>\n",
       "</div>"
      ],
      "text/plain": [
       "             Age      Hour     Price   Retired\n",
       "Ecem   -1.134106 -0.957518 -0.988219 -2.268213\n",
       "Sevval  1.665063  1.358953  1.426281  3.330125\n",
       "Izmir   0.671079 -1.815600  0.404876  1.342158"
      ]
     },
     "execution_count": 18,
     "metadata": {},
     "output_type": "execute_result"
    }
   ],
   "source": [
    "newDataFrame.drop(\"Cinar\",axis=0)\n",
    "#delete from row"
   ]
  },
  {
   "cell_type": "code",
   "execution_count": 19,
   "id": "572f3cb7",
   "metadata": {},
   "outputs": [
    {
     "data": {
      "text/html": [
       "<div>\n",
       "<style scoped>\n",
       "    .dataframe tbody tr th:only-of-type {\n",
       "        vertical-align: middle;\n",
       "    }\n",
       "\n",
       "    .dataframe tbody tr th {\n",
       "        vertical-align: top;\n",
       "    }\n",
       "\n",
       "    .dataframe thead th {\n",
       "        text-align: right;\n",
       "    }\n",
       "</style>\n",
       "<table border=\"1\" class=\"dataframe\">\n",
       "  <thead>\n",
       "    <tr style=\"text-align: right;\">\n",
       "      <th></th>\n",
       "      <th>Age</th>\n",
       "      <th>Hour</th>\n",
       "      <th>Price</th>\n",
       "      <th>Retired</th>\n",
       "    </tr>\n",
       "  </thead>\n",
       "  <tbody>\n",
       "    <tr>\n",
       "      <th>Ecem</th>\n",
       "      <td>-1.134106</td>\n",
       "      <td>-0.957518</td>\n",
       "      <td>-0.988219</td>\n",
       "      <td>-2.268213</td>\n",
       "    </tr>\n",
       "    <tr>\n",
       "      <th>Sevval</th>\n",
       "      <td>1.665063</td>\n",
       "      <td>1.358953</td>\n",
       "      <td>1.426281</td>\n",
       "      <td>3.330125</td>\n",
       "    </tr>\n",
       "    <tr>\n",
       "      <th>Cinar</th>\n",
       "      <td>0.450556</td>\n",
       "      <td>1.769228</td>\n",
       "      <td>0.084539</td>\n",
       "      <td>0.901113</td>\n",
       "    </tr>\n",
       "    <tr>\n",
       "      <th>Izmir</th>\n",
       "      <td>0.671079</td>\n",
       "      <td>-1.815600</td>\n",
       "      <td>0.404876</td>\n",
       "      <td>1.342158</td>\n",
       "    </tr>\n",
       "  </tbody>\n",
       "</table>\n",
       "</div>"
      ],
      "text/plain": [
       "             Age      Hour     Price   Retired\n",
       "Ecem   -1.134106 -0.957518 -0.988219 -2.268213\n",
       "Sevval  1.665063  1.358953  1.426281  3.330125\n",
       "Cinar   0.450556  1.769228  0.084539  0.901113\n",
       "Izmir   0.671079 -1.815600  0.404876  1.342158"
      ]
     },
     "execution_count": 19,
     "metadata": {},
     "output_type": "execute_result"
    }
   ],
   "source": [
    "newDataFrame\n",
    "#deleted some row and column vars but nothing changed"
   ]
  },
  {
   "cell_type": "code",
   "execution_count": 20,
   "id": "db8a6726",
   "metadata": {},
   "outputs": [],
   "source": [
    "newDataFrame.drop(\"Retired\",axis=1,inplace=True)\n",
    "#inplace=True means drop/delete from the exact serie"
   ]
  },
  {
   "cell_type": "code",
   "execution_count": 21,
   "id": "be72dc87",
   "metadata": {},
   "outputs": [
    {
     "data": {
      "text/html": [
       "<div>\n",
       "<style scoped>\n",
       "    .dataframe tbody tr th:only-of-type {\n",
       "        vertical-align: middle;\n",
       "    }\n",
       "\n",
       "    .dataframe tbody tr th {\n",
       "        vertical-align: top;\n",
       "    }\n",
       "\n",
       "    .dataframe thead th {\n",
       "        text-align: right;\n",
       "    }\n",
       "</style>\n",
       "<table border=\"1\" class=\"dataframe\">\n",
       "  <thead>\n",
       "    <tr style=\"text-align: right;\">\n",
       "      <th></th>\n",
       "      <th>Age</th>\n",
       "      <th>Hour</th>\n",
       "      <th>Price</th>\n",
       "    </tr>\n",
       "  </thead>\n",
       "  <tbody>\n",
       "    <tr>\n",
       "      <th>Ecem</th>\n",
       "      <td>-1.134106</td>\n",
       "      <td>-0.957518</td>\n",
       "      <td>-0.988219</td>\n",
       "    </tr>\n",
       "    <tr>\n",
       "      <th>Sevval</th>\n",
       "      <td>1.665063</td>\n",
       "      <td>1.358953</td>\n",
       "      <td>1.426281</td>\n",
       "    </tr>\n",
       "    <tr>\n",
       "      <th>Cinar</th>\n",
       "      <td>0.450556</td>\n",
       "      <td>1.769228</td>\n",
       "      <td>0.084539</td>\n",
       "    </tr>\n",
       "    <tr>\n",
       "      <th>Izmir</th>\n",
       "      <td>0.671079</td>\n",
       "      <td>-1.815600</td>\n",
       "      <td>0.404876</td>\n",
       "    </tr>\n",
       "  </tbody>\n",
       "</table>\n",
       "</div>"
      ],
      "text/plain": [
       "             Age      Hour     Price\n",
       "Ecem   -1.134106 -0.957518 -0.988219\n",
       "Sevval  1.665063  1.358953  1.426281\n",
       "Cinar   0.450556  1.769228  0.084539\n",
       "Izmir   0.671079 -1.815600  0.404876"
      ]
     },
     "execution_count": 21,
     "metadata": {},
     "output_type": "execute_result"
    }
   ],
   "source": [
    "newDataFrame\n",
    "#deleted"
   ]
  },
  {
   "cell_type": "code",
   "execution_count": 22,
   "id": "50d60ccf",
   "metadata": {},
   "outputs": [],
   "source": [
    "newDataFrame.drop(\"Izmir\",axis=0,inplace=True)"
   ]
  },
  {
   "cell_type": "code",
   "execution_count": 23,
   "id": "9da09221",
   "metadata": {},
   "outputs": [
    {
     "data": {
      "text/html": [
       "<div>\n",
       "<style scoped>\n",
       "    .dataframe tbody tr th:only-of-type {\n",
       "        vertical-align: middle;\n",
       "    }\n",
       "\n",
       "    .dataframe tbody tr th {\n",
       "        vertical-align: top;\n",
       "    }\n",
       "\n",
       "    .dataframe thead th {\n",
       "        text-align: right;\n",
       "    }\n",
       "</style>\n",
       "<table border=\"1\" class=\"dataframe\">\n",
       "  <thead>\n",
       "    <tr style=\"text-align: right;\">\n",
       "      <th></th>\n",
       "      <th>Age</th>\n",
       "      <th>Hour</th>\n",
       "      <th>Price</th>\n",
       "    </tr>\n",
       "  </thead>\n",
       "  <tbody>\n",
       "    <tr>\n",
       "      <th>Ecem</th>\n",
       "      <td>-1.134106</td>\n",
       "      <td>-0.957518</td>\n",
       "      <td>-0.988219</td>\n",
       "    </tr>\n",
       "    <tr>\n",
       "      <th>Sevval</th>\n",
       "      <td>1.665063</td>\n",
       "      <td>1.358953</td>\n",
       "      <td>1.426281</td>\n",
       "    </tr>\n",
       "    <tr>\n",
       "      <th>Cinar</th>\n",
       "      <td>0.450556</td>\n",
       "      <td>1.769228</td>\n",
       "      <td>0.084539</td>\n",
       "    </tr>\n",
       "  </tbody>\n",
       "</table>\n",
       "</div>"
      ],
      "text/plain": [
       "             Age      Hour     Price\n",
       "Ecem   -1.134106 -0.957518 -0.988219\n",
       "Sevval  1.665063  1.358953  1.426281\n",
       "Cinar   0.450556  1.769228  0.084539"
      ]
     },
     "execution_count": 23,
     "metadata": {},
     "output_type": "execute_result"
    }
   ],
   "source": [
    "newDataFrame"
   ]
  },
  {
   "cell_type": "code",
   "execution_count": 24,
   "id": "e007a470",
   "metadata": {},
   "outputs": [
    {
     "data": {
      "text/plain": [
       "Age     -1.134106\n",
       "Hour    -0.957518\n",
       "Price   -0.988219\n",
       "Name: Ecem, dtype: float64"
      ]
     },
     "execution_count": 24,
     "metadata": {},
     "output_type": "execute_result"
    }
   ],
   "source": [
    "newDataFrame.loc[\"Ecem\"]"
   ]
  },
  {
   "cell_type": "code",
   "execution_count": 25,
   "id": "9bdc9bbf",
   "metadata": {},
   "outputs": [
    {
     "data": {
      "text/plain": [
       "-1.1341064430131746"
      ]
     },
     "execution_count": 25,
     "metadata": {},
     "output_type": "execute_result"
    }
   ],
   "source": [
    "newDataFrame.loc[\"Ecem\"][\"Age\"]"
   ]
  },
  {
   "cell_type": "code",
   "execution_count": 26,
   "id": "d125e6e4",
   "metadata": {},
   "outputs": [
    {
     "data": {
      "text/plain": [
       "-1.1341064430131746"
      ]
     },
     "execution_count": 26,
     "metadata": {},
     "output_type": "execute_result"
    }
   ],
   "source": [
    "newDataFrame.loc[\"Ecem\",\"Age\"]"
   ]
  },
  {
   "cell_type": "code",
   "execution_count": 27,
   "id": "a0220ab7",
   "metadata": {},
   "outputs": [
    {
     "data": {
      "text/html": [
       "<div>\n",
       "<style scoped>\n",
       "    .dataframe tbody tr th:only-of-type {\n",
       "        vertical-align: middle;\n",
       "    }\n",
       "\n",
       "    .dataframe tbody tr th {\n",
       "        vertical-align: top;\n",
       "    }\n",
       "\n",
       "    .dataframe thead th {\n",
       "        text-align: right;\n",
       "    }\n",
       "</style>\n",
       "<table border=\"1\" class=\"dataframe\">\n",
       "  <thead>\n",
       "    <tr style=\"text-align: right;\">\n",
       "      <th></th>\n",
       "      <th>Age</th>\n",
       "      <th>Hour</th>\n",
       "      <th>Price</th>\n",
       "    </tr>\n",
       "  </thead>\n",
       "  <tbody>\n",
       "    <tr>\n",
       "      <th>Ecem</th>\n",
       "      <td>True</td>\n",
       "      <td>True</td>\n",
       "      <td>True</td>\n",
       "    </tr>\n",
       "    <tr>\n",
       "      <th>Sevval</th>\n",
       "      <td>False</td>\n",
       "      <td>False</td>\n",
       "      <td>False</td>\n",
       "    </tr>\n",
       "    <tr>\n",
       "      <th>Cinar</th>\n",
       "      <td>False</td>\n",
       "      <td>False</td>\n",
       "      <td>False</td>\n",
       "    </tr>\n",
       "  </tbody>\n",
       "</table>\n",
       "</div>"
      ],
      "text/plain": [
       "          Age   Hour  Price\n",
       "Ecem     True   True   True\n",
       "Sevval  False  False  False\n",
       "Cinar   False  False  False"
      ]
     },
     "execution_count": 27,
     "metadata": {},
     "output_type": "execute_result"
    }
   ],
   "source": [
    "newDataFrame<0"
   ]
  },
  {
   "cell_type": "code",
   "execution_count": 28,
   "id": "b00d3ad5",
   "metadata": {},
   "outputs": [],
   "source": [
    "booleanFrame=newDataFrame<0"
   ]
  },
  {
   "cell_type": "code",
   "execution_count": 29,
   "id": "91d47582",
   "metadata": {},
   "outputs": [
    {
     "data": {
      "text/html": [
       "<div>\n",
       "<style scoped>\n",
       "    .dataframe tbody tr th:only-of-type {\n",
       "        vertical-align: middle;\n",
       "    }\n",
       "\n",
       "    .dataframe tbody tr th {\n",
       "        vertical-align: top;\n",
       "    }\n",
       "\n",
       "    .dataframe thead th {\n",
       "        text-align: right;\n",
       "    }\n",
       "</style>\n",
       "<table border=\"1\" class=\"dataframe\">\n",
       "  <thead>\n",
       "    <tr style=\"text-align: right;\">\n",
       "      <th></th>\n",
       "      <th>Age</th>\n",
       "      <th>Hour</th>\n",
       "      <th>Price</th>\n",
       "    </tr>\n",
       "  </thead>\n",
       "  <tbody>\n",
       "    <tr>\n",
       "      <th>Ecem</th>\n",
       "      <td>True</td>\n",
       "      <td>True</td>\n",
       "      <td>True</td>\n",
       "    </tr>\n",
       "    <tr>\n",
       "      <th>Sevval</th>\n",
       "      <td>False</td>\n",
       "      <td>False</td>\n",
       "      <td>False</td>\n",
       "    </tr>\n",
       "    <tr>\n",
       "      <th>Cinar</th>\n",
       "      <td>False</td>\n",
       "      <td>False</td>\n",
       "      <td>False</td>\n",
       "    </tr>\n",
       "  </tbody>\n",
       "</table>\n",
       "</div>"
      ],
      "text/plain": [
       "          Age   Hour  Price\n",
       "Ecem     True   True   True\n",
       "Sevval  False  False  False\n",
       "Cinar   False  False  False"
      ]
     },
     "execution_count": 29,
     "metadata": {},
     "output_type": "execute_result"
    }
   ],
   "source": [
    "booleanFrame"
   ]
  },
  {
   "cell_type": "code",
   "execution_count": 30,
   "id": "769ec272",
   "metadata": {},
   "outputs": [
    {
     "data": {
      "text/html": [
       "<div>\n",
       "<style scoped>\n",
       "    .dataframe tbody tr th:only-of-type {\n",
       "        vertical-align: middle;\n",
       "    }\n",
       "\n",
       "    .dataframe tbody tr th {\n",
       "        vertical-align: top;\n",
       "    }\n",
       "\n",
       "    .dataframe thead th {\n",
       "        text-align: right;\n",
       "    }\n",
       "</style>\n",
       "<table border=\"1\" class=\"dataframe\">\n",
       "  <thead>\n",
       "    <tr style=\"text-align: right;\">\n",
       "      <th></th>\n",
       "      <th>Age</th>\n",
       "      <th>Hour</th>\n",
       "      <th>Price</th>\n",
       "    </tr>\n",
       "  </thead>\n",
       "  <tbody>\n",
       "    <tr>\n",
       "      <th>Ecem</th>\n",
       "      <td>-1.134106</td>\n",
       "      <td>-0.957518</td>\n",
       "      <td>-0.988219</td>\n",
       "    </tr>\n",
       "    <tr>\n",
       "      <th>Sevval</th>\n",
       "      <td>NaN</td>\n",
       "      <td>NaN</td>\n",
       "      <td>NaN</td>\n",
       "    </tr>\n",
       "    <tr>\n",
       "      <th>Cinar</th>\n",
       "      <td>NaN</td>\n",
       "      <td>NaN</td>\n",
       "      <td>NaN</td>\n",
       "    </tr>\n",
       "  </tbody>\n",
       "</table>\n",
       "</div>"
      ],
      "text/plain": [
       "             Age      Hour     Price\n",
       "Ecem   -1.134106 -0.957518 -0.988219\n",
       "Sevval       NaN       NaN       NaN\n",
       "Cinar        NaN       NaN       NaN"
      ]
     },
     "execution_count": 30,
     "metadata": {},
     "output_type": "execute_result"
    }
   ],
   "source": [
    "newDataFrame[booleanFrame]"
   ]
  },
  {
   "cell_type": "code",
   "execution_count": 31,
   "id": "60f85d63",
   "metadata": {},
   "outputs": [
    {
     "data": {
      "text/html": [
       "<div>\n",
       "<style scoped>\n",
       "    .dataframe tbody tr th:only-of-type {\n",
       "        vertical-align: middle;\n",
       "    }\n",
       "\n",
       "    .dataframe tbody tr th {\n",
       "        vertical-align: top;\n",
       "    }\n",
       "\n",
       "    .dataframe thead th {\n",
       "        text-align: right;\n",
       "    }\n",
       "</style>\n",
       "<table border=\"1\" class=\"dataframe\">\n",
       "  <thead>\n",
       "    <tr style=\"text-align: right;\">\n",
       "      <th></th>\n",
       "      <th>Age</th>\n",
       "      <th>Hour</th>\n",
       "      <th>Price</th>\n",
       "    </tr>\n",
       "  </thead>\n",
       "  <tbody>\n",
       "    <tr>\n",
       "      <th>Ecem</th>\n",
       "      <td>-1.134106</td>\n",
       "      <td>-0.957518</td>\n",
       "      <td>-0.988219</td>\n",
       "    </tr>\n",
       "    <tr>\n",
       "      <th>Sevval</th>\n",
       "      <td>NaN</td>\n",
       "      <td>NaN</td>\n",
       "      <td>NaN</td>\n",
       "    </tr>\n",
       "    <tr>\n",
       "      <th>Cinar</th>\n",
       "      <td>NaN</td>\n",
       "      <td>NaN</td>\n",
       "      <td>NaN</td>\n",
       "    </tr>\n",
       "  </tbody>\n",
       "</table>\n",
       "</div>"
      ],
      "text/plain": [
       "             Age      Hour     Price\n",
       "Ecem   -1.134106 -0.957518 -0.988219\n",
       "Sevval       NaN       NaN       NaN\n",
       "Cinar        NaN       NaN       NaN"
      ]
     },
     "execution_count": 31,
     "metadata": {},
     "output_type": "execute_result"
    }
   ],
   "source": [
    "newDataFrame[newDataFrame<0]"
   ]
  },
  {
   "cell_type": "code",
   "execution_count": 32,
   "id": "e7e732b1",
   "metadata": {},
   "outputs": [
    {
     "data": {
      "text/html": [
       "<div>\n",
       "<style scoped>\n",
       "    .dataframe tbody tr th:only-of-type {\n",
       "        vertical-align: middle;\n",
       "    }\n",
       "\n",
       "    .dataframe tbody tr th {\n",
       "        vertical-align: top;\n",
       "    }\n",
       "\n",
       "    .dataframe thead th {\n",
       "        text-align: right;\n",
       "    }\n",
       "</style>\n",
       "<table border=\"1\" class=\"dataframe\">\n",
       "  <thead>\n",
       "    <tr style=\"text-align: right;\">\n",
       "      <th></th>\n",
       "      <th>Age</th>\n",
       "      <th>Hour</th>\n",
       "      <th>Price</th>\n",
       "    </tr>\n",
       "  </thead>\n",
       "  <tbody>\n",
       "    <tr>\n",
       "      <th>Sevval</th>\n",
       "      <td>1.665063</td>\n",
       "      <td>1.358953</td>\n",
       "      <td>1.426281</td>\n",
       "    </tr>\n",
       "    <tr>\n",
       "      <th>Cinar</th>\n",
       "      <td>0.450556</td>\n",
       "      <td>1.769228</td>\n",
       "      <td>0.084539</td>\n",
       "    </tr>\n",
       "  </tbody>\n",
       "</table>\n",
       "</div>"
      ],
      "text/plain": [
       "             Age      Hour     Price\n",
       "Sevval  1.665063  1.358953  1.426281\n",
       "Cinar   0.450556  1.769228  0.084539"
      ]
     },
     "execution_count": 32,
     "metadata": {},
     "output_type": "execute_result"
    }
   ],
   "source": [
    "newDataFrame[newDataFrame[\"Hour\"]>0]\n",
    "#hour verisi >0 olanlari getirir"
   ]
  },
  {
   "cell_type": "markdown",
   "id": "db6074f8",
   "metadata": {},
   "source": [
    "## Multi Indexing"
   ]
  },
  {
   "cell_type": "code",
   "execution_count": 33,
   "id": "1a68cda6",
   "metadata": {},
   "outputs": [],
   "source": [
    "firstIndex=[\"Simpson\",\"Simpson\",\"Simpson\",\"South Park\",\"South Park\",\"South Park\"]"
   ]
  },
  {
   "cell_type": "code",
   "execution_count": 34,
   "id": "e31f9eaf",
   "metadata": {},
   "outputs": [],
   "source": [
    "secondIndex=[\"Homer\",\"Bart\",\"Marge\",\"Cartman\",\"Kenny\",\"Kyle\"]"
   ]
  },
  {
   "cell_type": "code",
   "execution_count": 35,
   "id": "7c00686b",
   "metadata": {},
   "outputs": [],
   "source": [
    "joinedIndex=list(zip(firstIndex,secondIndex))"
   ]
  },
  {
   "cell_type": "code",
   "execution_count": 36,
   "id": "891a104b",
   "metadata": {},
   "outputs": [
    {
     "data": {
      "text/plain": [
       "[('Simpson', 'Homer'),\n",
       " ('Simpson', 'Bart'),\n",
       " ('Simpson', 'Marge'),\n",
       " ('South Park', 'Cartman'),\n",
       " ('South Park', 'Kenny'),\n",
       " ('South Park', 'Kyle')]"
      ]
     },
     "execution_count": 36,
     "metadata": {},
     "output_type": "execute_result"
    }
   ],
   "source": [
    "joinedIndex"
   ]
  },
  {
   "cell_type": "code",
   "execution_count": 37,
   "id": "5eea40c2",
   "metadata": {},
   "outputs": [],
   "source": [
    "joinedIndex=pd.MultiIndex.from_tuples(joinedIndex)"
   ]
  },
  {
   "cell_type": "code",
   "execution_count": 38,
   "id": "ff046a25",
   "metadata": {},
   "outputs": [
    {
     "data": {
      "text/plain": [
       "MultiIndex([(   'Simpson',   'Homer'),\n",
       "            (   'Simpson',    'Bart'),\n",
       "            (   'Simpson',   'Marge'),\n",
       "            ('South Park', 'Cartman'),\n",
       "            ('South Park',   'Kenny'),\n",
       "            ('South Park',    'Kyle')],\n",
       "           )"
      ]
     },
     "execution_count": 38,
     "metadata": {},
     "output_type": "execute_result"
    }
   ],
   "source": [
    "joinedIndex"
   ]
  },
  {
   "cell_type": "code",
   "execution_count": 39,
   "id": "7f0f0aab",
   "metadata": {},
   "outputs": [
    {
     "data": {
      "text/plain": [
       "pandas.core.indexes.multi.MultiIndex"
      ]
     },
     "execution_count": 39,
     "metadata": {},
     "output_type": "execute_result"
    }
   ],
   "source": [
    "type(joinedIndex)"
   ]
  },
  {
   "cell_type": "code",
   "execution_count": 40,
   "id": "18a43958",
   "metadata": {},
   "outputs": [],
   "source": [
    "cartoonList=[[40,\"A\"],[30,\"B\"],[10,\"C\"],[20,\"D\"],[9,\"E\"],[11,\"F\"]]"
   ]
  },
  {
   "cell_type": "code",
   "execution_count": 42,
   "id": "4ff4e641",
   "metadata": {},
   "outputs": [],
   "source": [
    "cartNumpyArr=np.array(cartoonList)"
   ]
  },
  {
   "cell_type": "code",
   "execution_count": 46,
   "id": "ddeb5e21",
   "metadata": {},
   "outputs": [],
   "source": [
    "cartDataFrame=pd.DataFrame(cartNumpyArr,index=joinedIndex,columns={\"Age\",\"Job\"})"
   ]
  },
  {
   "cell_type": "code",
   "execution_count": 47,
   "id": "e2cb13b2",
   "metadata": {},
   "outputs": [
    {
     "data": {
      "text/html": [
       "<div>\n",
       "<style scoped>\n",
       "    .dataframe tbody tr th:only-of-type {\n",
       "        vertical-align: middle;\n",
       "    }\n",
       "\n",
       "    .dataframe tbody tr th {\n",
       "        vertical-align: top;\n",
       "    }\n",
       "\n",
       "    .dataframe thead th {\n",
       "        text-align: right;\n",
       "    }\n",
       "</style>\n",
       "<table border=\"1\" class=\"dataframe\">\n",
       "  <thead>\n",
       "    <tr style=\"text-align: right;\">\n",
       "      <th></th>\n",
       "      <th></th>\n",
       "      <th>Job</th>\n",
       "      <th>Age</th>\n",
       "    </tr>\n",
       "  </thead>\n",
       "  <tbody>\n",
       "    <tr>\n",
       "      <th rowspan=\"3\" valign=\"top\">Simpson</th>\n",
       "      <th>Homer</th>\n",
       "      <td>40</td>\n",
       "      <td>A</td>\n",
       "    </tr>\n",
       "    <tr>\n",
       "      <th>Bart</th>\n",
       "      <td>30</td>\n",
       "      <td>B</td>\n",
       "    </tr>\n",
       "    <tr>\n",
       "      <th>Marge</th>\n",
       "      <td>10</td>\n",
       "      <td>C</td>\n",
       "    </tr>\n",
       "    <tr>\n",
       "      <th rowspan=\"3\" valign=\"top\">South Park</th>\n",
       "      <th>Cartman</th>\n",
       "      <td>20</td>\n",
       "      <td>D</td>\n",
       "    </tr>\n",
       "    <tr>\n",
       "      <th>Kenny</th>\n",
       "      <td>9</td>\n",
       "      <td>E</td>\n",
       "    </tr>\n",
       "    <tr>\n",
       "      <th>Kyle</th>\n",
       "      <td>11</td>\n",
       "      <td>F</td>\n",
       "    </tr>\n",
       "  </tbody>\n",
       "</table>\n",
       "</div>"
      ],
      "text/plain": [
       "                   Job Age\n",
       "Simpson    Homer    40   A\n",
       "           Bart     30   B\n",
       "           Marge    10   C\n",
       "South Park Cartman  20   D\n",
       "           Kenny     9   E\n",
       "           Kyle     11   F"
      ]
     },
     "execution_count": 47,
     "metadata": {},
     "output_type": "execute_result"
    }
   ],
   "source": [
    "cartDataFrame"
   ]
  },
  {
   "cell_type": "code",
   "execution_count": 48,
   "id": "31d73ea1",
   "metadata": {},
   "outputs": [
    {
     "data": {
      "text/html": [
       "<div>\n",
       "<style scoped>\n",
       "    .dataframe tbody tr th:only-of-type {\n",
       "        vertical-align: middle;\n",
       "    }\n",
       "\n",
       "    .dataframe tbody tr th {\n",
       "        vertical-align: top;\n",
       "    }\n",
       "\n",
       "    .dataframe thead th {\n",
       "        text-align: right;\n",
       "    }\n",
       "</style>\n",
       "<table border=\"1\" class=\"dataframe\">\n",
       "  <thead>\n",
       "    <tr style=\"text-align: right;\">\n",
       "      <th></th>\n",
       "      <th>Job</th>\n",
       "      <th>Age</th>\n",
       "    </tr>\n",
       "  </thead>\n",
       "  <tbody>\n",
       "    <tr>\n",
       "      <th>Homer</th>\n",
       "      <td>40</td>\n",
       "      <td>A</td>\n",
       "    </tr>\n",
       "    <tr>\n",
       "      <th>Bart</th>\n",
       "      <td>30</td>\n",
       "      <td>B</td>\n",
       "    </tr>\n",
       "    <tr>\n",
       "      <th>Marge</th>\n",
       "      <td>10</td>\n",
       "      <td>C</td>\n",
       "    </tr>\n",
       "  </tbody>\n",
       "</table>\n",
       "</div>"
      ],
      "text/plain": [
       "      Job Age\n",
       "Homer  40   A\n",
       "Bart   30   B\n",
       "Marge  10   C"
      ]
     },
     "execution_count": 48,
     "metadata": {},
     "output_type": "execute_result"
    }
   ],
   "source": [
    "cartDataFrame.loc[\"Simpson\"]"
   ]
  },
  {
   "cell_type": "code",
   "execution_count": 50,
   "id": "21c419cd",
   "metadata": {},
   "outputs": [
    {
     "data": {
      "text/plain": [
       "Job    9\n",
       "Age    E\n",
       "Name: Kenny, dtype: object"
      ]
     },
     "execution_count": 50,
     "metadata": {},
     "output_type": "execute_result"
    }
   ],
   "source": [
    "cartDataFrame.loc[\"South Park\"].loc[\"Kenny\"]"
   ]
  },
  {
   "cell_type": "code",
   "execution_count": 53,
   "id": "14996947",
   "metadata": {},
   "outputs": [],
   "source": [
    "cartDataFrame.index.names=[\"Cartoon\",\"Name\"]"
   ]
  },
  {
   "cell_type": "code",
   "execution_count": 54,
   "id": "7a607925",
   "metadata": {},
   "outputs": [
    {
     "data": {
      "text/html": [
       "<div>\n",
       "<style scoped>\n",
       "    .dataframe tbody tr th:only-of-type {\n",
       "        vertical-align: middle;\n",
       "    }\n",
       "\n",
       "    .dataframe tbody tr th {\n",
       "        vertical-align: top;\n",
       "    }\n",
       "\n",
       "    .dataframe thead th {\n",
       "        text-align: right;\n",
       "    }\n",
       "</style>\n",
       "<table border=\"1\" class=\"dataframe\">\n",
       "  <thead>\n",
       "    <tr style=\"text-align: right;\">\n",
       "      <th></th>\n",
       "      <th></th>\n",
       "      <th>Job</th>\n",
       "      <th>Age</th>\n",
       "    </tr>\n",
       "    <tr>\n",
       "      <th>Cartoon</th>\n",
       "      <th>Name</th>\n",
       "      <th></th>\n",
       "      <th></th>\n",
       "    </tr>\n",
       "  </thead>\n",
       "  <tbody>\n",
       "    <tr>\n",
       "      <th rowspan=\"3\" valign=\"top\">Simpson</th>\n",
       "      <th>Homer</th>\n",
       "      <td>40</td>\n",
       "      <td>A</td>\n",
       "    </tr>\n",
       "    <tr>\n",
       "      <th>Bart</th>\n",
       "      <td>30</td>\n",
       "      <td>B</td>\n",
       "    </tr>\n",
       "    <tr>\n",
       "      <th>Marge</th>\n",
       "      <td>10</td>\n",
       "      <td>C</td>\n",
       "    </tr>\n",
       "    <tr>\n",
       "      <th rowspan=\"3\" valign=\"top\">South Park</th>\n",
       "      <th>Cartman</th>\n",
       "      <td>20</td>\n",
       "      <td>D</td>\n",
       "    </tr>\n",
       "    <tr>\n",
       "      <th>Kenny</th>\n",
       "      <td>9</td>\n",
       "      <td>E</td>\n",
       "    </tr>\n",
       "    <tr>\n",
       "      <th>Kyle</th>\n",
       "      <td>11</td>\n",
       "      <td>F</td>\n",
       "    </tr>\n",
       "  </tbody>\n",
       "</table>\n",
       "</div>"
      ],
      "text/plain": [
       "                   Job Age\n",
       "Cartoon    Name           \n",
       "Simpson    Homer    40   A\n",
       "           Bart     30   B\n",
       "           Marge    10   C\n",
       "South Park Cartman  20   D\n",
       "           Kenny     9   E\n",
       "           Kyle     11   F"
      ]
     },
     "execution_count": 54,
     "metadata": {},
     "output_type": "execute_result"
    }
   ],
   "source": [
    "cartDataFrame"
   ]
  }
 ],
 "metadata": {
  "kernelspec": {
   "display_name": "Python 3 (ipykernel)",
   "language": "python",
   "name": "python3"
  },
  "language_info": {
   "codemirror_mode": {
    "name": "ipython",
    "version": 3
   },
   "file_extension": ".py",
   "mimetype": "text/x-python",
   "name": "python",
   "nbconvert_exporter": "python",
   "pygments_lexer": "ipython3",
   "version": "3.9.7"
  }
 },
 "nbformat": 4,
 "nbformat_minor": 5
}
