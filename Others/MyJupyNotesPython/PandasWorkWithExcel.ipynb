{
 "cells": [
  {
   "cell_type": "code",
   "execution_count": 1,
   "id": "7e26d7a3",
   "metadata": {},
   "outputs": [],
   "source": [
    "import numpy as np\n",
    "import pandas as pd"
   ]
  },
  {
   "cell_type": "code",
   "execution_count": 11,
   "id": "100d6bfb",
   "metadata": {},
   "outputs": [],
   "source": [
    "empDataFrame=pd.read_excel(\"employees.xlsx\")\n",
    "#read from excel"
   ]
  },
  {
   "cell_type": "code",
   "execution_count": 12,
   "id": "b848e924",
   "metadata": {},
   "outputs": [
    {
     "data": {
      "text/html": [
       "<div>\n",
       "<style scoped>\n",
       "    .dataframe tbody tr th:only-of-type {\n",
       "        vertical-align: middle;\n",
       "    }\n",
       "\n",
       "    .dataframe tbody tr th {\n",
       "        vertical-align: top;\n",
       "    }\n",
       "\n",
       "    .dataframe thead th {\n",
       "        text-align: right;\n",
       "    }\n",
       "</style>\n",
       "<table border=\"1\" class=\"dataframe\">\n",
       "  <thead>\n",
       "    <tr style=\"text-align: right;\">\n",
       "      <th></th>\n",
       "      <th>Unnamed: 0</th>\n",
       "      <th>Salary</th>\n",
       "      <th>Age</th>\n",
       "      <th>Department</th>\n",
       "    </tr>\n",
       "  </thead>\n",
       "  <tbody>\n",
       "    <tr>\n",
       "      <th>0</th>\n",
       "      <td>Pam</td>\n",
       "      <td>600</td>\n",
       "      <td>26.0</td>\n",
       "      <td>Sales</td>\n",
       "    </tr>\n",
       "    <tr>\n",
       "      <th>1</th>\n",
       "      <td>Jim</td>\n",
       "      <td>900</td>\n",
       "      <td>30.0</td>\n",
       "      <td>Sales</td>\n",
       "    </tr>\n",
       "    <tr>\n",
       "      <th>2</th>\n",
       "      <td>Toby</td>\n",
       "      <td>600</td>\n",
       "      <td>NaN</td>\n",
       "      <td>Human Res</td>\n",
       "    </tr>\n",
       "    <tr>\n",
       "      <th>3</th>\n",
       "      <td>Erin</td>\n",
       "      <td>300</td>\n",
       "      <td>24.0</td>\n",
       "      <td>NaN</td>\n",
       "    </tr>\n",
       "    <tr>\n",
       "      <th>4</th>\n",
       "      <td>Angela</td>\n",
       "      <td>600</td>\n",
       "      <td>NaN</td>\n",
       "      <td>Finance</td>\n",
       "    </tr>\n",
       "    <tr>\n",
       "      <th>5</th>\n",
       "      <td>Dwight</td>\n",
       "      <td>800</td>\n",
       "      <td>33.0</td>\n",
       "      <td>Sales</td>\n",
       "    </tr>\n",
       "    <tr>\n",
       "      <th>6</th>\n",
       "      <td>Andy</td>\n",
       "      <td>700</td>\n",
       "      <td>35.0</td>\n",
       "      <td>NaN</td>\n",
       "    </tr>\n",
       "  </tbody>\n",
       "</table>\n",
       "</div>"
      ],
      "text/plain": [
       "  Unnamed: 0  Salary   Age Department\n",
       "0        Pam     600  26.0      Sales\n",
       "1        Jim     900  30.0      Sales\n",
       "2       Toby     600   NaN  Human Res\n",
       "3       Erin     300  24.0        NaN\n",
       "4     Angela     600   NaN    Finance\n",
       "5     Dwight     800  33.0      Sales\n",
       "6       Andy     700  35.0        NaN"
      ]
     },
     "execution_count": 12,
     "metadata": {},
     "output_type": "execute_result"
    }
   ],
   "source": [
    "empDataFrame"
   ]
  },
  {
   "cell_type": "code",
   "execution_count": 13,
   "id": "1cfcf64a",
   "metadata": {},
   "outputs": [],
   "source": [
    "nonEmptyDF=empDataFrame.dropna()"
   ]
  },
  {
   "cell_type": "code",
   "execution_count": 14,
   "id": "021185b8",
   "metadata": {},
   "outputs": [
    {
     "data": {
      "text/html": [
       "<div>\n",
       "<style scoped>\n",
       "    .dataframe tbody tr th:only-of-type {\n",
       "        vertical-align: middle;\n",
       "    }\n",
       "\n",
       "    .dataframe tbody tr th {\n",
       "        vertical-align: top;\n",
       "    }\n",
       "\n",
       "    .dataframe thead th {\n",
       "        text-align: right;\n",
       "    }\n",
       "</style>\n",
       "<table border=\"1\" class=\"dataframe\">\n",
       "  <thead>\n",
       "    <tr style=\"text-align: right;\">\n",
       "      <th></th>\n",
       "      <th>Unnamed: 0</th>\n",
       "      <th>Salary</th>\n",
       "      <th>Age</th>\n",
       "      <th>Department</th>\n",
       "    </tr>\n",
       "  </thead>\n",
       "  <tbody>\n",
       "    <tr>\n",
       "      <th>0</th>\n",
       "      <td>Pam</td>\n",
       "      <td>600</td>\n",
       "      <td>26.0</td>\n",
       "      <td>Sales</td>\n",
       "    </tr>\n",
       "    <tr>\n",
       "      <th>1</th>\n",
       "      <td>Jim</td>\n",
       "      <td>900</td>\n",
       "      <td>30.0</td>\n",
       "      <td>Sales</td>\n",
       "    </tr>\n",
       "    <tr>\n",
       "      <th>5</th>\n",
       "      <td>Dwight</td>\n",
       "      <td>800</td>\n",
       "      <td>33.0</td>\n",
       "      <td>Sales</td>\n",
       "    </tr>\n",
       "  </tbody>\n",
       "</table>\n",
       "</div>"
      ],
      "text/plain": [
       "  Unnamed: 0  Salary   Age Department\n",
       "0        Pam     600  26.0      Sales\n",
       "1        Jim     900  30.0      Sales\n",
       "5     Dwight     800  33.0      Sales"
      ]
     },
     "execution_count": 14,
     "metadata": {},
     "output_type": "execute_result"
    }
   ],
   "source": [
    "nonEmptyDF"
   ]
  },
  {
   "cell_type": "code",
   "execution_count": 15,
   "id": "82c7e4d1",
   "metadata": {},
   "outputs": [],
   "source": [
    "nonEmptyDF.to_excel(\"non_empty_emp.xlsx\")\n",
    "#write to excel"
   ]
  },
  {
   "cell_type": "code",
   "execution_count": 16,
   "id": "0acbad38",
   "metadata": {},
   "outputs": [],
   "source": [
    "# csv format --> read_csv - to_csv"
   ]
  },
  {
   "cell_type": "code",
   "execution_count": null,
   "id": "ed6976de",
   "metadata": {},
   "outputs": [],
   "source": []
  }
 ],
 "metadata": {
  "kernelspec": {
   "display_name": "Python 3 (ipykernel)",
   "language": "python",
   "name": "python3"
  },
  "language_info": {
   "codemirror_mode": {
    "name": "ipython",
    "version": 3
   },
   "file_extension": ".py",
   "mimetype": "text/x-python",
   "name": "python",
   "nbconvert_exporter": "python",
   "pygments_lexer": "ipython3",
   "version": "3.9.7"
  }
 },
 "nbformat": 4,
 "nbformat_minor": 5
}
