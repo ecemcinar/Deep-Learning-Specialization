{
 "cells": [
  {
   "cell_type": "code",
   "execution_count": 1,
   "id": "12c9c161",
   "metadata": {},
   "outputs": [],
   "source": [
    "import tensorflow as tf\n",
    "import pandas as pd\n",
    "import numpy as np\n",
    "import seaborn as sbn\n",
    "import matplotlib.pyplot as plt\n",
    "%matplotlib inline"
   ]
  },
  {
   "cell_type": "code",
   "execution_count": 2,
   "id": "1ae59e30",
   "metadata": {},
   "outputs": [],
   "source": [
    "dataFrame = pd.read_excel(\"merc.xlsx\")\n",
    "# get data set"
   ]
  },
  {
   "cell_type": "code",
   "execution_count": 3,
   "id": "0f496940",
   "metadata": {},
   "outputs": [
    {
     "data": {
      "text/html": [
       "<div>\n",
       "<style scoped>\n",
       "    .dataframe tbody tr th:only-of-type {\n",
       "        vertical-align: middle;\n",
       "    }\n",
       "\n",
       "    .dataframe tbody tr th {\n",
       "        vertical-align: top;\n",
       "    }\n",
       "\n",
       "    .dataframe thead th {\n",
       "        text-align: right;\n",
       "    }\n",
       "</style>\n",
       "<table border=\"1\" class=\"dataframe\">\n",
       "  <thead>\n",
       "    <tr style=\"text-align: right;\">\n",
       "      <th></th>\n",
       "      <th>year</th>\n",
       "      <th>price</th>\n",
       "      <th>transmission</th>\n",
       "      <th>mileage</th>\n",
       "      <th>tax</th>\n",
       "      <th>mpg</th>\n",
       "      <th>engineSize</th>\n",
       "    </tr>\n",
       "  </thead>\n",
       "  <tbody>\n",
       "    <tr>\n",
       "      <th>0</th>\n",
       "      <td>2005</td>\n",
       "      <td>5200</td>\n",
       "      <td>Automatic</td>\n",
       "      <td>63000</td>\n",
       "      <td>325</td>\n",
       "      <td>32.1</td>\n",
       "      <td>1.8</td>\n",
       "    </tr>\n",
       "    <tr>\n",
       "      <th>1</th>\n",
       "      <td>2017</td>\n",
       "      <td>34948</td>\n",
       "      <td>Automatic</td>\n",
       "      <td>27000</td>\n",
       "      <td>20</td>\n",
       "      <td>61.4</td>\n",
       "      <td>2.1</td>\n",
       "    </tr>\n",
       "    <tr>\n",
       "      <th>2</th>\n",
       "      <td>2016</td>\n",
       "      <td>49948</td>\n",
       "      <td>Automatic</td>\n",
       "      <td>6200</td>\n",
       "      <td>555</td>\n",
       "      <td>28.0</td>\n",
       "      <td>5.5</td>\n",
       "    </tr>\n",
       "    <tr>\n",
       "      <th>3</th>\n",
       "      <td>2016</td>\n",
       "      <td>61948</td>\n",
       "      <td>Automatic</td>\n",
       "      <td>16000</td>\n",
       "      <td>325</td>\n",
       "      <td>30.4</td>\n",
       "      <td>4.0</td>\n",
       "    </tr>\n",
       "    <tr>\n",
       "      <th>4</th>\n",
       "      <td>2016</td>\n",
       "      <td>73948</td>\n",
       "      <td>Automatic</td>\n",
       "      <td>4000</td>\n",
       "      <td>325</td>\n",
       "      <td>30.1</td>\n",
       "      <td>4.0</td>\n",
       "    </tr>\n",
       "  </tbody>\n",
       "</table>\n",
       "</div>"
      ],
      "text/plain": [
       "   year  price transmission  mileage  tax   mpg  engineSize\n",
       "0  2005   5200    Automatic    63000  325  32.1         1.8\n",
       "1  2017  34948    Automatic    27000   20  61.4         2.1\n",
       "2  2016  49948    Automatic     6200  555  28.0         5.5\n",
       "3  2016  61948    Automatic    16000  325  30.4         4.0\n",
       "4  2016  73948    Automatic     4000  325  30.1         4.0"
      ]
     },
     "execution_count": 3,
     "metadata": {},
     "output_type": "execute_result"
    }
   ],
   "source": [
    "dataFrame.head()"
   ]
  },
  {
   "cell_type": "code",
   "execution_count": 4,
   "id": "14980277",
   "metadata": {},
   "outputs": [
    {
     "data": {
      "text/html": [
       "<div>\n",
       "<style scoped>\n",
       "    .dataframe tbody tr th:only-of-type {\n",
       "        vertical-align: middle;\n",
       "    }\n",
       "\n",
       "    .dataframe tbody tr th {\n",
       "        vertical-align: top;\n",
       "    }\n",
       "\n",
       "    .dataframe thead th {\n",
       "        text-align: right;\n",
       "    }\n",
       "</style>\n",
       "<table border=\"1\" class=\"dataframe\">\n",
       "  <thead>\n",
       "    <tr style=\"text-align: right;\">\n",
       "      <th></th>\n",
       "      <th>year</th>\n",
       "      <th>price</th>\n",
       "      <th>mileage</th>\n",
       "      <th>tax</th>\n",
       "      <th>mpg</th>\n",
       "      <th>engineSize</th>\n",
       "    </tr>\n",
       "  </thead>\n",
       "  <tbody>\n",
       "    <tr>\n",
       "      <th>count</th>\n",
       "      <td>13119.000000</td>\n",
       "      <td>13119.000000</td>\n",
       "      <td>13119.000000</td>\n",
       "      <td>13119.000000</td>\n",
       "      <td>13119.000000</td>\n",
       "      <td>13119.000000</td>\n",
       "    </tr>\n",
       "    <tr>\n",
       "      <th>mean</th>\n",
       "      <td>2017.296288</td>\n",
       "      <td>24698.596920</td>\n",
       "      <td>21949.559037</td>\n",
       "      <td>129.972178</td>\n",
       "      <td>55.155843</td>\n",
       "      <td>2.071530</td>\n",
       "    </tr>\n",
       "    <tr>\n",
       "      <th>std</th>\n",
       "      <td>2.224709</td>\n",
       "      <td>11842.675542</td>\n",
       "      <td>21176.512267</td>\n",
       "      <td>65.260286</td>\n",
       "      <td>15.220082</td>\n",
       "      <td>0.572426</td>\n",
       "    </tr>\n",
       "    <tr>\n",
       "      <th>min</th>\n",
       "      <td>1970.000000</td>\n",
       "      <td>650.000000</td>\n",
       "      <td>1.000000</td>\n",
       "      <td>0.000000</td>\n",
       "      <td>1.100000</td>\n",
       "      <td>0.000000</td>\n",
       "    </tr>\n",
       "    <tr>\n",
       "      <th>25%</th>\n",
       "      <td>2016.000000</td>\n",
       "      <td>17450.000000</td>\n",
       "      <td>6097.500000</td>\n",
       "      <td>125.000000</td>\n",
       "      <td>45.600000</td>\n",
       "      <td>1.800000</td>\n",
       "    </tr>\n",
       "    <tr>\n",
       "      <th>50%</th>\n",
       "      <td>2018.000000</td>\n",
       "      <td>22480.000000</td>\n",
       "      <td>15189.000000</td>\n",
       "      <td>145.000000</td>\n",
       "      <td>56.500000</td>\n",
       "      <td>2.000000</td>\n",
       "    </tr>\n",
       "    <tr>\n",
       "      <th>75%</th>\n",
       "      <td>2019.000000</td>\n",
       "      <td>28980.000000</td>\n",
       "      <td>31779.500000</td>\n",
       "      <td>145.000000</td>\n",
       "      <td>64.200000</td>\n",
       "      <td>2.100000</td>\n",
       "    </tr>\n",
       "    <tr>\n",
       "      <th>max</th>\n",
       "      <td>2020.000000</td>\n",
       "      <td>159999.000000</td>\n",
       "      <td>259000.000000</td>\n",
       "      <td>580.000000</td>\n",
       "      <td>217.300000</td>\n",
       "      <td>6.200000</td>\n",
       "    </tr>\n",
       "  </tbody>\n",
       "</table>\n",
       "</div>"
      ],
      "text/plain": [
       "               year          price        mileage           tax           mpg  \\\n",
       "count  13119.000000   13119.000000   13119.000000  13119.000000  13119.000000   \n",
       "mean    2017.296288   24698.596920   21949.559037    129.972178     55.155843   \n",
       "std        2.224709   11842.675542   21176.512267     65.260286     15.220082   \n",
       "min     1970.000000     650.000000       1.000000      0.000000      1.100000   \n",
       "25%     2016.000000   17450.000000    6097.500000    125.000000     45.600000   \n",
       "50%     2018.000000   22480.000000   15189.000000    145.000000     56.500000   \n",
       "75%     2019.000000   28980.000000   31779.500000    145.000000     64.200000   \n",
       "max     2020.000000  159999.000000  259000.000000    580.000000    217.300000   \n",
       "\n",
       "         engineSize  \n",
       "count  13119.000000  \n",
       "mean       2.071530  \n",
       "std        0.572426  \n",
       "min        0.000000  \n",
       "25%        1.800000  \n",
       "50%        2.000000  \n",
       "75%        2.100000  \n",
       "max        6.200000  "
      ]
     },
     "execution_count": 4,
     "metadata": {},
     "output_type": "execute_result"
    }
   ],
   "source": [
    "dataFrame.describe()"
   ]
  },
  {
   "cell_type": "code",
   "execution_count": 5,
   "id": "139c26ca",
   "metadata": {},
   "outputs": [
    {
     "data": {
      "text/plain": [
       "year            0\n",
       "price           0\n",
       "transmission    0\n",
       "mileage         0\n",
       "tax             0\n",
       "mpg             0\n",
       "engineSize      0\n",
       "dtype: int64"
      ]
     },
     "execution_count": 5,
     "metadata": {},
     "output_type": "execute_result"
    }
   ],
   "source": [
    "dataFrame.isnull().sum()\n",
    "# ornegin, year kategorisinde kac tane null veri var, onu dondurur\n",
    "# bu sette null veri bulunmamaktadir."
   ]
  },
  {
   "cell_type": "code",
   "execution_count": 6,
   "id": "84c67013",
   "metadata": {},
   "outputs": [
    {
     "name": "stderr",
     "output_type": "stream",
     "text": [
      "C:\\Users\\ecem\\anaconda3\\envs\\tf\\lib\\site-packages\\seaborn\\distributions.py:2619: FutureWarning: `distplot` is a deprecated function and will be removed in a future version. Please adapt your code to use either `displot` (a figure-level function with similar flexibility) or `histplot` (an axes-level function for histograms).\n",
      "  warnings.warn(msg, FutureWarning)\n"
     ]
    },
    {
     "data": {
      "text/plain": [
       "<AxesSubplot:xlabel='price', ylabel='Density'>"
      ]
     },
     "execution_count": 6,
     "metadata": {},
     "output_type": "execute_result"
    },
    {
     "data": {
      "image/png": "[encoded data removed]",
      "text/plain": [
       "<Figure size 504x360 with 1 Axes>"
      ]
     },
     "metadata": {
      "needs_background": "light"
     },
     "output_type": "display_data"
    }
   ],
   "source": [
    "plt.figure(figsize=(7,5))\n",
    "sbn.distplot(dataFrame[\"price\"])\n",
    "# distribution"
   ]
  },
  {
   "cell_type": "code",
   "execution_count": 7,
   "id": "37405a06",
   "metadata": {},
   "outputs": [
    {
     "data": {
      "text/plain": [
       "<AxesSubplot:xlabel='price', ylabel='Count'>"
      ]
     },
     "execution_count": 7,
     "metadata": {},
     "output_type": "execute_result"
    },
    {
     "data": {
      "image/png": "[encoded data removed]",
      "text/plain": [
       "<Figure size 504x360 with 1 Axes>"
      ]
     },
     "metadata": {
      "needs_background": "light"
     },
     "output_type": "display_data"
    }
   ],
   "source": [
    "plt.figure(figsize=(7,5))\n",
    "sbn.histplot(dataFrame[\"price\"])"
   ]
  },
  {
   "cell_type": "code",
   "execution_count": 11,
   "id": "c7d71385",
   "metadata": {},
   "outputs": [
    {
     "name": "stderr",
     "output_type": "stream",
     "text": [
      "C:\\Users\\ecem\\anaconda3\\envs\\tf\\lib\\site-packages\\seaborn\\_decorators.py:36: FutureWarning: Pass the following variable as a keyword arg: x. From version 0.12, the only valid positional argument will be `data`, and passing other arguments without an explicit keyword will result in an error or misinterpretation.\n",
      "  warnings.warn(\n"
     ]
    },
    {
     "data": {
      "text/plain": [
       "<AxesSubplot:xlabel='year', ylabel='count'>"
      ]
     },
     "execution_count": 11,
     "metadata": {},
     "output_type": "execute_result"
    },
    {
     "data": {
      "image/png": "[encoded data removed]",
      "text/plain": [
       "<Figure size 432x288 with 1 Axes>"
      ]
     },
     "metadata": {
      "needs_background": "light"
     },
     "output_type": "display_data"
    }
   ],
   "source": [
    "sbn.countplot(dataFrame[\"year\"])\n",
    "# get count of cars by grouping by their year"
   ]
  },
  {
   "cell_type": "code",
   "execution_count": 16,
   "id": "7add4f46",
   "metadata": {},
   "outputs": [
    {
     "data": {
      "text/html": [
       "<div>\n",
       "<style scoped>\n",
       "    .dataframe tbody tr th:only-of-type {\n",
       "        vertical-align: middle;\n",
       "    }\n",
       "\n",
       "    .dataframe tbody tr th {\n",
       "        vertical-align: top;\n",
       "    }\n",
       "\n",
       "    .dataframe thead th {\n",
       "        text-align: right;\n",
       "    }\n",
       "</style>\n",
       "<table border=\"1\" class=\"dataframe\">\n",
       "  <thead>\n",
       "    <tr style=\"text-align: right;\">\n",
       "      <th></th>\n",
       "      <th>year</th>\n",
       "      <th>price</th>\n",
       "      <th>mileage</th>\n",
       "      <th>tax</th>\n",
       "      <th>mpg</th>\n",
       "      <th>engineSize</th>\n",
       "    </tr>\n",
       "  </thead>\n",
       "  <tbody>\n",
       "    <tr>\n",
       "      <th>year</th>\n",
       "      <td>1.000000</td>\n",
       "      <td>0.520712</td>\n",
       "      <td>-0.738027</td>\n",
       "      <td>0.012480</td>\n",
       "      <td>-0.094626</td>\n",
       "      <td>-0.142147</td>\n",
       "    </tr>\n",
       "    <tr>\n",
       "      <th>price</th>\n",
       "      <td>0.520712</td>\n",
       "      <td>1.000000</td>\n",
       "      <td>-0.537214</td>\n",
       "      <td>0.268717</td>\n",
       "      <td>-0.438445</td>\n",
       "      <td>0.516126</td>\n",
       "    </tr>\n",
       "    <tr>\n",
       "      <th>mileage</th>\n",
       "      <td>-0.738027</td>\n",
       "      <td>-0.537214</td>\n",
       "      <td>1.000000</td>\n",
       "      <td>-0.160223</td>\n",
       "      <td>0.202850</td>\n",
       "      <td>0.063652</td>\n",
       "    </tr>\n",
       "    <tr>\n",
       "      <th>tax</th>\n",
       "      <td>0.012480</td>\n",
       "      <td>0.268717</td>\n",
       "      <td>-0.160223</td>\n",
       "      <td>1.000000</td>\n",
       "      <td>-0.513742</td>\n",
       "      <td>0.338341</td>\n",
       "    </tr>\n",
       "    <tr>\n",
       "      <th>mpg</th>\n",
       "      <td>-0.094626</td>\n",
       "      <td>-0.438445</td>\n",
       "      <td>0.202850</td>\n",
       "      <td>-0.513742</td>\n",
       "      <td>1.000000</td>\n",
       "      <td>-0.339862</td>\n",
       "    </tr>\n",
       "    <tr>\n",
       "      <th>engineSize</th>\n",
       "      <td>-0.142147</td>\n",
       "      <td>0.516126</td>\n",
       "      <td>0.063652</td>\n",
       "      <td>0.338341</td>\n",
       "      <td>-0.339862</td>\n",
       "      <td>1.000000</td>\n",
       "    </tr>\n",
       "  </tbody>\n",
       "</table>\n",
       "</div>"
      ],
      "text/plain": [
       "                year     price   mileage       tax       mpg  engineSize\n",
       "year        1.000000  0.520712 -0.738027  0.012480 -0.094626   -0.142147\n",
       "price       0.520712  1.000000 -0.537214  0.268717 -0.438445    0.516126\n",
       "mileage    -0.738027 -0.537214  1.000000 -0.160223  0.202850    0.063652\n",
       "tax         0.012480  0.268717 -0.160223  1.000000 -0.513742    0.338341\n",
       "mpg        -0.094626 -0.438445  0.202850 -0.513742  1.000000   -0.339862\n",
       "engineSize -0.142147  0.516126  0.063652  0.338341 -0.339862    1.000000"
      ]
     },
     "execution_count": 16,
     "metadata": {},
     "output_type": "execute_result"
    }
   ],
   "source": [
    "dataFrame.corr()\n",
    "# correlation or dependence is any statistical relationship, whether causal or not, between two random variables or bivariate data.\n",
    "# it's a common tool for describing simple relationships without making a statement about cause and effect.\n",
    "# the values range between -1.0 and 1.0. A calculated number greater than 1.0 or less than -1.0 means that there was an error in the correlation measurement.\n",
    "# if corr = -1 -> negative correlation\n",
    "# if corr = 1 -> positive correlation\n",
    "# if corr = 0 -> no correlation\n",
    "\n",
    "# korelasyon analizi sayısal veya kategorik değişkenler arasında istatistiksel olarak bir ilişkinin var olup olmadığını test etmek için kullanılır. (nedensellik aranmaz)"
   ]
  },
  {
   "cell_type": "code",
   "execution_count": 18,
   "id": "bf2be203",
   "metadata": {},
   "outputs": [
    {
     "data": {
      "text/plain": [
       "mileage      -0.537214\n",
       "mpg          -0.438445\n",
       "tax           0.268717\n",
       "engineSize    0.516126\n",
       "year          0.520712\n",
       "price         1.000000\n",
       "Name: price, dtype: float64"
      ]
     },
     "execution_count": 18,
     "metadata": {},
     "output_type": "execute_result"
    }
   ],
   "source": [
    "dataFrame.corr()[\"price\"].sort_values()\n",
    "# price'in diger kategoriler ile iliskisi"
   ]
  },
  {
   "cell_type": "code",
   "execution_count": 21,
   "id": "eb67220c",
   "metadata": {},
   "outputs": [
    {
     "data": {
      "text/plain": [
       "<AxesSubplot:xlabel='mileage', ylabel='price'>"
      ]
     },
     "execution_count": 21,
     "metadata": {},
     "output_type": "execute_result"
    },
    {
     "data": {
      "image/png": "[encoded data removed]",
      "text/plain": [
       "<Figure size 432x288 with 1 Axes>"
      ]
     },
     "metadata": {
      "needs_background": "light"
     },
     "output_type": "display_data"
    }
   ],
   "source": [
    "sbn.scatterplot(x=\"mileage\",y=\"price\",data=dataFrame)\n",
    "# when mileage increases, price decreases. it makes sense"
   ]
  },
  {
   "cell_type": "code",
   "execution_count": 22,
   "id": "1fa9e86f",
   "metadata": {},
   "outputs": [
    {
     "data": {
      "text/html": [
       "<div>\n",
       "<style scoped>\n",
       "    .dataframe tbody tr th:only-of-type {\n",
       "        vertical-align: middle;\n",
       "    }\n",
       "\n",
       "    .dataframe tbody tr th {\n",
       "        vertical-align: top;\n",
       "    }\n",
       "\n",
       "    .dataframe thead th {\n",
       "        text-align: right;\n",
       "    }\n",
       "</style>\n",
       "<table border=\"1\" class=\"dataframe\">\n",
       "  <thead>\n",
       "    <tr style=\"text-align: right;\">\n",
       "      <th></th>\n",
       "      <th>year</th>\n",
       "      <th>price</th>\n",
       "      <th>transmission</th>\n",
       "      <th>mileage</th>\n",
       "      <th>tax</th>\n",
       "      <th>mpg</th>\n",
       "      <th>engineSize</th>\n",
       "    </tr>\n",
       "  </thead>\n",
       "  <tbody>\n",
       "    <tr>\n",
       "      <th>6199</th>\n",
       "      <td>2020</td>\n",
       "      <td>159999</td>\n",
       "      <td>Semi-Auto</td>\n",
       "      <td>1350</td>\n",
       "      <td>145</td>\n",
       "      <td>21.4</td>\n",
       "      <td>4.0</td>\n",
       "    </tr>\n",
       "    <tr>\n",
       "      <th>10044</th>\n",
       "      <td>2020</td>\n",
       "      <td>154998</td>\n",
       "      <td>Automatic</td>\n",
       "      <td>3000</td>\n",
       "      <td>150</td>\n",
       "      <td>21.4</td>\n",
       "      <td>4.0</td>\n",
       "    </tr>\n",
       "    <tr>\n",
       "      <th>5</th>\n",
       "      <td>2011</td>\n",
       "      <td>149948</td>\n",
       "      <td>Automatic</td>\n",
       "      <td>3000</td>\n",
       "      <td>570</td>\n",
       "      <td>21.4</td>\n",
       "      <td>6.2</td>\n",
       "    </tr>\n",
       "    <tr>\n",
       "      <th>8737</th>\n",
       "      <td>2019</td>\n",
       "      <td>140319</td>\n",
       "      <td>Semi-Auto</td>\n",
       "      <td>785</td>\n",
       "      <td>150</td>\n",
       "      <td>22.1</td>\n",
       "      <td>4.0</td>\n",
       "    </tr>\n",
       "    <tr>\n",
       "      <th>6386</th>\n",
       "      <td>2018</td>\n",
       "      <td>139995</td>\n",
       "      <td>Semi-Auto</td>\n",
       "      <td>13046</td>\n",
       "      <td>145</td>\n",
       "      <td>21.4</td>\n",
       "      <td>4.0</td>\n",
       "    </tr>\n",
       "    <tr>\n",
       "      <th>8</th>\n",
       "      <td>2019</td>\n",
       "      <td>139948</td>\n",
       "      <td>Automatic</td>\n",
       "      <td>12000</td>\n",
       "      <td>145</td>\n",
       "      <td>21.4</td>\n",
       "      <td>4.0</td>\n",
       "    </tr>\n",
       "    <tr>\n",
       "      <th>9133</th>\n",
       "      <td>2019</td>\n",
       "      <td>139559</td>\n",
       "      <td>Semi-Auto</td>\n",
       "      <td>1000</td>\n",
       "      <td>145</td>\n",
       "      <td>22.1</td>\n",
       "      <td>4.0</td>\n",
       "    </tr>\n",
       "    <tr>\n",
       "      <th>8821</th>\n",
       "      <td>2020</td>\n",
       "      <td>138439</td>\n",
       "      <td>Semi-Auto</td>\n",
       "      <td>1000</td>\n",
       "      <td>145</td>\n",
       "      <td>22.1</td>\n",
       "      <td>4.0</td>\n",
       "    </tr>\n",
       "    <tr>\n",
       "      <th>5902</th>\n",
       "      <td>2018</td>\n",
       "      <td>135771</td>\n",
       "      <td>Semi-Auto</td>\n",
       "      <td>19000</td>\n",
       "      <td>145</td>\n",
       "      <td>21.4</td>\n",
       "      <td>4.0</td>\n",
       "    </tr>\n",
       "    <tr>\n",
       "      <th>7864</th>\n",
       "      <td>2018</td>\n",
       "      <td>135124</td>\n",
       "      <td>Semi-Auto</td>\n",
       "      <td>18234</td>\n",
       "      <td>150</td>\n",
       "      <td>21.4</td>\n",
       "      <td>4.0</td>\n",
       "    </tr>\n",
       "  </tbody>\n",
       "</table>\n",
       "</div>"
      ],
      "text/plain": [
       "       year   price transmission  mileage  tax   mpg  engineSize\n",
       "6199   2020  159999    Semi-Auto     1350  145  21.4         4.0\n",
       "10044  2020  154998    Automatic     3000  150  21.4         4.0\n",
       "5      2011  149948    Automatic     3000  570  21.4         6.2\n",
       "8737   2019  140319    Semi-Auto      785  150  22.1         4.0\n",
       "6386   2018  139995    Semi-Auto    13046  145  21.4         4.0\n",
       "8      2019  139948    Automatic    12000  145  21.4         4.0\n",
       "9133   2019  139559    Semi-Auto     1000  145  22.1         4.0\n",
       "8821   2020  138439    Semi-Auto     1000  145  22.1         4.0\n",
       "5902   2018  135771    Semi-Auto    19000  145  21.4         4.0\n",
       "7864   2018  135124    Semi-Auto    18234  150  21.4         4.0"
      ]
     },
     "execution_count": 22,
     "metadata": {},
     "output_type": "execute_result"
    }
   ],
   "source": [
    "dataFrame.sort_values(\"price\",ascending=False).head(10)\n",
    "# en yuksek fiyatli 10 araba\n",
    "# when ascending = False, decreasing form"
   ]
  },
  {
   "cell_type": "code",
   "execution_count": 23,
   "id": "a6ef1346",
   "metadata": {},
   "outputs": [
    {
     "data": {
      "text/html": [
       "<div>\n",
       "<style scoped>\n",
       "    .dataframe tbody tr th:only-of-type {\n",
       "        vertical-align: middle;\n",
       "    }\n",
       "\n",
       "    .dataframe tbody tr th {\n",
       "        vertical-align: top;\n",
       "    }\n",
       "\n",
       "    .dataframe thead th {\n",
       "        text-align: right;\n",
       "    }\n",
       "</style>\n",
       "<table border=\"1\" class=\"dataframe\">\n",
       "  <thead>\n",
       "    <tr style=\"text-align: right;\">\n",
       "      <th></th>\n",
       "      <th>year</th>\n",
       "      <th>price</th>\n",
       "      <th>transmission</th>\n",
       "      <th>mileage</th>\n",
       "      <th>tax</th>\n",
       "      <th>mpg</th>\n",
       "      <th>engineSize</th>\n",
       "    </tr>\n",
       "  </thead>\n",
       "  <tbody>\n",
       "    <tr>\n",
       "      <th>11816</th>\n",
       "      <td>2003</td>\n",
       "      <td>650</td>\n",
       "      <td>Manual</td>\n",
       "      <td>109090</td>\n",
       "      <td>235</td>\n",
       "      <td>40.0</td>\n",
       "      <td>1.4</td>\n",
       "    </tr>\n",
       "    <tr>\n",
       "      <th>12008</th>\n",
       "      <td>2010</td>\n",
       "      <td>1350</td>\n",
       "      <td>Manual</td>\n",
       "      <td>116126</td>\n",
       "      <td>145</td>\n",
       "      <td>54.3</td>\n",
       "      <td>2.0</td>\n",
       "    </tr>\n",
       "    <tr>\n",
       "      <th>11765</th>\n",
       "      <td>2000</td>\n",
       "      <td>1490</td>\n",
       "      <td>Automatic</td>\n",
       "      <td>87000</td>\n",
       "      <td>265</td>\n",
       "      <td>27.2</td>\n",
       "      <td>3.2</td>\n",
       "    </tr>\n",
       "    <tr>\n",
       "      <th>11549</th>\n",
       "      <td>2002</td>\n",
       "      <td>1495</td>\n",
       "      <td>Automatic</td>\n",
       "      <td>13800</td>\n",
       "      <td>305</td>\n",
       "      <td>39.8</td>\n",
       "      <td>2.7</td>\n",
       "    </tr>\n",
       "    <tr>\n",
       "      <th>12594</th>\n",
       "      <td>2004</td>\n",
       "      <td>1495</td>\n",
       "      <td>Manual</td>\n",
       "      <td>119000</td>\n",
       "      <td>300</td>\n",
       "      <td>34.5</td>\n",
       "      <td>1.8</td>\n",
       "    </tr>\n",
       "    <tr>\n",
       "      <th>11174</th>\n",
       "      <td>2001</td>\n",
       "      <td>1695</td>\n",
       "      <td>Automatic</td>\n",
       "      <td>108800</td>\n",
       "      <td>325</td>\n",
       "      <td>31.7</td>\n",
       "      <td>3.2</td>\n",
       "    </tr>\n",
       "    <tr>\n",
       "      <th>12710</th>\n",
       "      <td>2006</td>\n",
       "      <td>1695</td>\n",
       "      <td>Automatic</td>\n",
       "      <td>153000</td>\n",
       "      <td>300</td>\n",
       "      <td>33.6</td>\n",
       "      <td>1.8</td>\n",
       "    </tr>\n",
       "    <tr>\n",
       "      <th>12766</th>\n",
       "      <td>2004</td>\n",
       "      <td>1780</td>\n",
       "      <td>Automatic</td>\n",
       "      <td>118000</td>\n",
       "      <td>265</td>\n",
       "      <td>41.5</td>\n",
       "      <td>2.2</td>\n",
       "    </tr>\n",
       "    <tr>\n",
       "      <th>12009</th>\n",
       "      <td>2007</td>\n",
       "      <td>1800</td>\n",
       "      <td>Automatic</td>\n",
       "      <td>84000</td>\n",
       "      <td>200</td>\n",
       "      <td>42.8</td>\n",
       "      <td>1.5</td>\n",
       "    </tr>\n",
       "    <tr>\n",
       "      <th>11764</th>\n",
       "      <td>1998</td>\n",
       "      <td>1990</td>\n",
       "      <td>Automatic</td>\n",
       "      <td>99300</td>\n",
       "      <td>265</td>\n",
       "      <td>32.1</td>\n",
       "      <td>2.3</td>\n",
       "    </tr>\n",
       "  </tbody>\n",
       "</table>\n",
       "</div>"
      ],
      "text/plain": [
       "       year  price transmission  mileage  tax   mpg  engineSize\n",
       "11816  2003    650       Manual   109090  235  40.0         1.4\n",
       "12008  2010   1350       Manual   116126  145  54.3         2.0\n",
       "11765  2000   1490    Automatic    87000  265  27.2         3.2\n",
       "11549  2002   1495    Automatic    13800  305  39.8         2.7\n",
       "12594  2004   1495       Manual   119000  300  34.5         1.8\n",
       "11174  2001   1695    Automatic   108800  325  31.7         3.2\n",
       "12710  2006   1695    Automatic   153000  300  33.6         1.8\n",
       "12766  2004   1780    Automatic   118000  265  41.5         2.2\n",
       "12009  2007   1800    Automatic    84000  200  42.8         1.5\n",
       "11764  1998   1990    Automatic    99300  265  32.1         2.3"
      ]
     },
     "execution_count": 23,
     "metadata": {},
     "output_type": "execute_result"
    }
   ],
   "source": [
    "dataFrame.sort_values(\"price\",ascending=True).head(10)\n",
    "# increasing form\n",
    "# en dusuk fiyatli 10 araba"
   ]
  },
  {
   "cell_type": "code",
   "execution_count": 28,
   "id": "48c0e8f5",
   "metadata": {},
   "outputs": [
    {
     "name": "stdout",
     "output_type": "stream",
     "text": [
      "13119\n",
      "%0.01 --> 131.19\n"
     ]
    }
   ],
   "source": [
    "print(len(dataFrame))\n",
    "print(\"%0.01 -->\",len(dataFrame) *0.01)\n",
    "# en yuksek fiyatli arabalari data setimizden cikaracagiz\n",
    "# bunu grafikten anladik, grafikte absurd pahali arabalar oldugu icin tahmini bozabilir.\n",
    "# bu yuzden cikariyoruz, %0.01'ini cikarsak bir problem olmaz"
   ]
  },
  {
   "cell_type": "code",
   "execution_count": 31,
   "id": "34181189",
   "metadata": {},
   "outputs": [],
   "source": [
    "newDataFrame = dataFrame.sort_values(\"price\",ascending=False).iloc[131:]\n",
    "# iloc --> starting from 131 to end"
   ]
  },
  {
   "cell_type": "code",
   "execution_count": 32,
   "id": "9f46258a",
   "metadata": {},
   "outputs": [
    {
     "data": {
      "text/html": [
       "<div>\n",
       "<style scoped>\n",
       "    .dataframe tbody tr th:only-of-type {\n",
       "        vertical-align: middle;\n",
       "    }\n",
       "\n",
       "    .dataframe tbody tr th {\n",
       "        vertical-align: top;\n",
       "    }\n",
       "\n",
       "    .dataframe thead th {\n",
       "        text-align: right;\n",
       "    }\n",
       "</style>\n",
       "<table border=\"1\" class=\"dataframe\">\n",
       "  <thead>\n",
       "    <tr style=\"text-align: right;\">\n",
       "      <th></th>\n",
       "      <th>year</th>\n",
       "      <th>price</th>\n",
       "      <th>mileage</th>\n",
       "      <th>tax</th>\n",
       "      <th>mpg</th>\n",
       "      <th>engineSize</th>\n",
       "    </tr>\n",
       "  </thead>\n",
       "  <tbody>\n",
       "    <tr>\n",
       "      <th>count</th>\n",
       "      <td>12988.000000</td>\n",
       "      <td>12988.000000</td>\n",
       "      <td>12988.000000</td>\n",
       "      <td>12988.000000</td>\n",
       "      <td>12988.000000</td>\n",
       "      <td>12988.000000</td>\n",
       "    </tr>\n",
       "    <tr>\n",
       "      <th>mean</th>\n",
       "      <td>2017.281876</td>\n",
       "      <td>24074.926933</td>\n",
       "      <td>22132.741146</td>\n",
       "      <td>129.689714</td>\n",
       "      <td>55.437142</td>\n",
       "      <td>2.050901</td>\n",
       "    </tr>\n",
       "    <tr>\n",
       "      <th>std</th>\n",
       "      <td>2.228515</td>\n",
       "      <td>9866.224575</td>\n",
       "      <td>21196.776401</td>\n",
       "      <td>65.183076</td>\n",
       "      <td>15.025999</td>\n",
       "      <td>0.532596</td>\n",
       "    </tr>\n",
       "    <tr>\n",
       "      <th>min</th>\n",
       "      <td>1970.000000</td>\n",
       "      <td>650.000000</td>\n",
       "      <td>1.000000</td>\n",
       "      <td>0.000000</td>\n",
       "      <td>1.100000</td>\n",
       "      <td>0.000000</td>\n",
       "    </tr>\n",
       "    <tr>\n",
       "      <th>25%</th>\n",
       "      <td>2016.000000</td>\n",
       "      <td>17357.500000</td>\n",
       "      <td>6322.000000</td>\n",
       "      <td>125.000000</td>\n",
       "      <td>45.600000</td>\n",
       "      <td>1.675000</td>\n",
       "    </tr>\n",
       "    <tr>\n",
       "      <th>50%</th>\n",
       "      <td>2018.000000</td>\n",
       "      <td>22299.000000</td>\n",
       "      <td>15369.500000</td>\n",
       "      <td>145.000000</td>\n",
       "      <td>56.500000</td>\n",
       "      <td>2.000000</td>\n",
       "    </tr>\n",
       "    <tr>\n",
       "      <th>75%</th>\n",
       "      <td>2019.000000</td>\n",
       "      <td>28706.000000</td>\n",
       "      <td>31982.250000</td>\n",
       "      <td>145.000000</td>\n",
       "      <td>64.200000</td>\n",
       "      <td>2.100000</td>\n",
       "    </tr>\n",
       "    <tr>\n",
       "      <th>max</th>\n",
       "      <td>2020.000000</td>\n",
       "      <td>65990.000000</td>\n",
       "      <td>259000.000000</td>\n",
       "      <td>580.000000</td>\n",
       "      <td>217.300000</td>\n",
       "      <td>6.200000</td>\n",
       "    </tr>\n",
       "  </tbody>\n",
       "</table>\n",
       "</div>"
      ],
      "text/plain": [
       "               year         price        mileage           tax           mpg  \\\n",
       "count  12988.000000  12988.000000   12988.000000  12988.000000  12988.000000   \n",
       "mean    2017.281876  24074.926933   22132.741146    129.689714     55.437142   \n",
       "std        2.228515   9866.224575   21196.776401     65.183076     15.025999   \n",
       "min     1970.000000    650.000000       1.000000      0.000000      1.100000   \n",
       "25%     2016.000000  17357.500000    6322.000000    125.000000     45.600000   \n",
       "50%     2018.000000  22299.000000   15369.500000    145.000000     56.500000   \n",
       "75%     2019.000000  28706.000000   31982.250000    145.000000     64.200000   \n",
       "max     2020.000000  65990.000000  259000.000000    580.000000    217.300000   \n",
       "\n",
       "         engineSize  \n",
       "count  12988.000000  \n",
       "mean       2.050901  \n",
       "std        0.532596  \n",
       "min        0.000000  \n",
       "25%        1.675000  \n",
       "50%        2.000000  \n",
       "75%        2.100000  \n",
       "max        6.200000  "
      ]
     },
     "execution_count": 32,
     "metadata": {},
     "output_type": "execute_result"
    }
   ],
   "source": [
    "newDataFrame.describe()"
   ]
  },
  {
   "cell_type": "code",
   "execution_count": 34,
   "id": "d672e2b3",
   "metadata": {},
   "outputs": [
    {
     "name": "stderr",
     "output_type": "stream",
     "text": [
      "C:\\Users\\ecem\\anaconda3\\envs\\tf\\lib\\site-packages\\seaborn\\distributions.py:2619: FutureWarning: `distplot` is a deprecated function and will be removed in a future version. Please adapt your code to use either `displot` (a figure-level function with similar flexibility) or `histplot` (an axes-level function for histograms).\n",
      "  warnings.warn(msg, FutureWarning)\n"
     ]
    },
    {
     "data": {
      "text/plain": [
       "<AxesSubplot:xlabel='price', ylabel='Density'>"
      ]
     },
     "execution_count": 34,
     "metadata": {},
     "output_type": "execute_result"
    },
    {
     "data": {
      "image/png": "[encoded data removed]",
      "text/plain": [
       "<Figure size 504x360 with 1 Axes>"
      ]
     },
     "metadata": {
      "needs_background": "light"
     },
     "output_type": "display_data"
    }
   ],
   "source": [
    "plt.figure(figsize=(7,5))\n",
    "sbn.distplot(newDataFrame[\"price\"])"
   ]
  },
  {
   "cell_type": "code",
   "execution_count": 35,
   "id": "812ef03f",
   "metadata": {},
   "outputs": [
    {
     "data": {
      "text/plain": [
       "<seaborn.axisgrid.FacetGrid at 0x28728dced90>"
      ]
     },
     "execution_count": 35,
     "metadata": {},
     "output_type": "execute_result"
    },
    {
     "data": {
      "text/plain": [
       "<Figure size 504x360 with 0 Axes>"
      ]
     },
     "metadata": {},
     "output_type": "display_data"
    },
    {
     "data": {
      "image/png": "[encoded data removed]",
      "text/plain": [
       "<Figure size 360x360 with 1 Axes>"
      ]
     },
     "metadata": {
      "needs_background": "light"
     },
     "output_type": "display_data"
    }
   ],
   "source": [
    "plt.figure(figsize=(7,5))\n",
    "sbn.displot(newDataFrame[\"price\"])"
   ]
  },
  {
   "cell_type": "code",
   "execution_count": 40,
   "id": "0476a25a",
   "metadata": {},
   "outputs": [
    {
     "data": {
      "text/plain": [
       "year\n",
       "1970    24999.000000\n",
       "1997     9995.000000\n",
       "1998     8605.000000\n",
       "1999     5995.000000\n",
       "2000     5743.333333\n",
       "2001     4957.900000\n",
       "2002     5820.444444\n",
       "2003     4878.000000\n",
       "2004     4727.615385\n",
       "2005     4426.111111\n",
       "2006     4036.875000\n",
       "2007     5136.045455\n",
       "2008     6967.437500\n",
       "2009     6166.764706\n",
       "2010     8308.473684\n",
       "2011    12624.894737\n",
       "2012    10845.140351\n",
       "2013    11939.842466\n",
       "2014    14042.936864\n",
       "2015    16731.780020\n",
       "2016    19307.892948\n",
       "2017    21514.307854\n",
       "2018    25720.162918\n",
       "2019    31290.020865\n",
       "2020    35433.282337\n",
       "Name: price, dtype: float64"
      ]
     },
     "execution_count": 40,
     "metadata": {},
     "output_type": "execute_result"
    }
   ],
   "source": [
    "dataFrame.groupby(\"year\").mean()[\"price\"]\n",
    "# get mean of cars by grouping them by their year\n",
    "\n",
    "#1970 verisinin butunlugu bozdugu gorulebilir"
   ]
  },
  {
   "cell_type": "code",
   "execution_count": 41,
   "id": "a2403c0d",
   "metadata": {},
   "outputs": [
    {
     "data": {
      "text/plain": [
       "year\n",
       "1970    24999.000000\n",
       "1997     9995.000000\n",
       "1998     8605.000000\n",
       "1999     5995.000000\n",
       "2000     5743.333333\n",
       "2001     4957.900000\n",
       "2002     5820.444444\n",
       "2003     4878.000000\n",
       "2004     4727.615385\n",
       "2005     4426.111111\n",
       "2006     4036.875000\n",
       "2007     5136.045455\n",
       "2008     6967.437500\n",
       "2009     6166.764706\n",
       "2010     8308.473684\n",
       "2011     8913.459459\n",
       "2012    10845.140351\n",
       "2013    11939.842466\n",
       "2014    14042.936864\n",
       "2015    16647.822222\n",
       "2016    19223.558943\n",
       "2017    21356.280421\n",
       "2018    24800.844506\n",
       "2019    30289.524832\n",
       "2020    34234.794872\n",
       "Name: price, dtype: float64"
      ]
     },
     "execution_count": 41,
     "metadata": {},
     "output_type": "execute_result"
    }
   ],
   "source": [
    "newDataFrame.groupby(\"year\").mean()[\"price\"]\n",
    "# en yuksek fiyatlari cikararak olusturdugumuz df'de de 1970 verisi bulunuyor"
   ]
  },
  {
   "cell_type": "code",
   "execution_count": 42,
   "id": "c5687559",
   "metadata": {},
   "outputs": [
    {
     "data": {
      "text/plain": [
       "year\n",
       "1997     9995.000000\n",
       "1998     8605.000000\n",
       "1999     5995.000000\n",
       "2000     5743.333333\n",
       "2001     4957.900000\n",
       "2002     5820.444444\n",
       "2003     4878.000000\n",
       "2004     4727.615385\n",
       "2005     4426.111111\n",
       "2006     4036.875000\n",
       "2007     5136.045455\n",
       "2008     6967.437500\n",
       "2009     6166.764706\n",
       "2010     8308.473684\n",
       "2011    12624.894737\n",
       "2012    10845.140351\n",
       "2013    11939.842466\n",
       "2014    14042.936864\n",
       "2015    16731.780020\n",
       "2016    19307.892948\n",
       "2017    21514.307854\n",
       "2018    25720.162918\n",
       "2019    31290.020865\n",
       "2020    35433.282337\n",
       "Name: price, dtype: float64"
      ]
     },
     "execution_count": 42,
     "metadata": {},
     "output_type": "execute_result"
    }
   ],
   "source": [
    "dataFrame[dataFrame.year != 1970].groupby(\"year\").mean()[\"price\"]\n",
    "# 1970 verisini cikarabiliriz"
   ]
  },
  {
   "cell_type": "code",
   "execution_count": 45,
   "id": "8c2f4561",
   "metadata": {},
   "outputs": [],
   "source": [
    "dataFrame = newDataFrame\n",
    "# update the dataFrame"
   ]
  },
  {
   "cell_type": "code",
   "execution_count": 46,
   "id": "15614046",
   "metadata": {},
   "outputs": [
    {
     "data": {
      "text/html": [
       "<div>\n",
       "<style scoped>\n",
       "    .dataframe tbody tr th:only-of-type {\n",
       "        vertical-align: middle;\n",
       "    }\n",
       "\n",
       "    .dataframe tbody tr th {\n",
       "        vertical-align: top;\n",
       "    }\n",
       "\n",
       "    .dataframe thead th {\n",
       "        text-align: right;\n",
       "    }\n",
       "</style>\n",
       "<table border=\"1\" class=\"dataframe\">\n",
       "  <thead>\n",
       "    <tr style=\"text-align: right;\">\n",
       "      <th></th>\n",
       "      <th>year</th>\n",
       "      <th>price</th>\n",
       "      <th>mileage</th>\n",
       "      <th>tax</th>\n",
       "      <th>mpg</th>\n",
       "      <th>engineSize</th>\n",
       "    </tr>\n",
       "  </thead>\n",
       "  <tbody>\n",
       "    <tr>\n",
       "      <th>count</th>\n",
       "      <td>12988.000000</td>\n",
       "      <td>12988.000000</td>\n",
       "      <td>12988.000000</td>\n",
       "      <td>12988.000000</td>\n",
       "      <td>12988.000000</td>\n",
       "      <td>12988.000000</td>\n",
       "    </tr>\n",
       "    <tr>\n",
       "      <th>mean</th>\n",
       "      <td>2017.281876</td>\n",
       "      <td>24074.926933</td>\n",
       "      <td>22132.741146</td>\n",
       "      <td>129.689714</td>\n",
       "      <td>55.437142</td>\n",
       "      <td>2.050901</td>\n",
       "    </tr>\n",
       "    <tr>\n",
       "      <th>std</th>\n",
       "      <td>2.228515</td>\n",
       "      <td>9866.224575</td>\n",
       "      <td>21196.776401</td>\n",
       "      <td>65.183076</td>\n",
       "      <td>15.025999</td>\n",
       "      <td>0.532596</td>\n",
       "    </tr>\n",
       "    <tr>\n",
       "      <th>min</th>\n",
       "      <td>1970.000000</td>\n",
       "      <td>650.000000</td>\n",
       "      <td>1.000000</td>\n",
       "      <td>0.000000</td>\n",
       "      <td>1.100000</td>\n",
       "      <td>0.000000</td>\n",
       "    </tr>\n",
       "    <tr>\n",
       "      <th>25%</th>\n",
       "      <td>2016.000000</td>\n",
       "      <td>17357.500000</td>\n",
       "      <td>6322.000000</td>\n",
       "      <td>125.000000</td>\n",
       "      <td>45.600000</td>\n",
       "      <td>1.675000</td>\n",
       "    </tr>\n",
       "    <tr>\n",
       "      <th>50%</th>\n",
       "      <td>2018.000000</td>\n",
       "      <td>22299.000000</td>\n",
       "      <td>15369.500000</td>\n",
       "      <td>145.000000</td>\n",
       "      <td>56.500000</td>\n",
       "      <td>2.000000</td>\n",
       "    </tr>\n",
       "    <tr>\n",
       "      <th>75%</th>\n",
       "      <td>2019.000000</td>\n",
       "      <td>28706.000000</td>\n",
       "      <td>31982.250000</td>\n",
       "      <td>145.000000</td>\n",
       "      <td>64.200000</td>\n",
       "      <td>2.100000</td>\n",
       "    </tr>\n",
       "    <tr>\n",
       "      <th>max</th>\n",
       "      <td>2020.000000</td>\n",
       "      <td>65990.000000</td>\n",
       "      <td>259000.000000</td>\n",
       "      <td>580.000000</td>\n",
       "      <td>217.300000</td>\n",
       "      <td>6.200000</td>\n",
       "    </tr>\n",
       "  </tbody>\n",
       "</table>\n",
       "</div>"
      ],
      "text/plain": [
       "               year         price        mileage           tax           mpg  \\\n",
       "count  12988.000000  12988.000000   12988.000000  12988.000000  12988.000000   \n",
       "mean    2017.281876  24074.926933   22132.741146    129.689714     55.437142   \n",
       "std        2.228515   9866.224575   21196.776401     65.183076     15.025999   \n",
       "min     1970.000000    650.000000       1.000000      0.000000      1.100000   \n",
       "25%     2016.000000  17357.500000    6322.000000    125.000000     45.600000   \n",
       "50%     2018.000000  22299.000000   15369.500000    145.000000     56.500000   \n",
       "75%     2019.000000  28706.000000   31982.250000    145.000000     64.200000   \n",
       "max     2020.000000  65990.000000  259000.000000    580.000000    217.300000   \n",
       "\n",
       "         engineSize  \n",
       "count  12988.000000  \n",
       "mean       2.050901  \n",
       "std        0.532596  \n",
       "min        0.000000  \n",
       "25%        1.675000  \n",
       "50%        2.000000  \n",
       "75%        2.100000  \n",
       "max        6.200000  "
      ]
     },
     "execution_count": 46,
     "metadata": {},
     "output_type": "execute_result"
    }
   ],
   "source": [
    "dataFrame.describe()"
   ]
  },
  {
   "cell_type": "code",
   "execution_count": 47,
   "id": "ff0b88cb",
   "metadata": {},
   "outputs": [],
   "source": [
    "dataFrame = dataFrame[dataFrame.year!=1970]\n",
    "# delete the 1970's data"
   ]
  },
  {
   "cell_type": "code",
   "execution_count": 48,
   "id": "7dafa80a",
   "metadata": {},
   "outputs": [
    {
     "data": {
      "text/plain": [
       "year\n",
       "1997     9995.000000\n",
       "1998     8605.000000\n",
       "1999     5995.000000\n",
       "2000     5743.333333\n",
       "2001     4957.900000\n",
       "2002     5820.444444\n",
       "2003     4878.000000\n",
       "2004     4727.615385\n",
       "2005     4426.111111\n",
       "2006     4036.875000\n",
       "2007     5136.045455\n",
       "2008     6967.437500\n",
       "2009     6166.764706\n",
       "2010     8308.473684\n",
       "2011     8913.459459\n",
       "2012    10845.140351\n",
       "2013    11939.842466\n",
       "2014    14042.936864\n",
       "2015    16647.822222\n",
       "2016    19223.558943\n",
       "2017    21356.280421\n",
       "2018    24800.844506\n",
       "2019    30289.524832\n",
       "2020    34234.794872\n",
       "Name: price, dtype: float64"
      ]
     },
     "execution_count": 48,
     "metadata": {},
     "output_type": "execute_result"
    }
   ],
   "source": [
    "dataFrame.groupby(\"year\").mean()[\"price\"]"
   ]
  },
  {
   "cell_type": "code",
   "execution_count": 49,
   "id": "e5388e43",
   "metadata": {},
   "outputs": [
    {
     "data": {
      "text/html": [
       "<div>\n",
       "<style scoped>\n",
       "    .dataframe tbody tr th:only-of-type {\n",
       "        vertical-align: middle;\n",
       "    }\n",
       "\n",
       "    .dataframe tbody tr th {\n",
       "        vertical-align: top;\n",
       "    }\n",
       "\n",
       "    .dataframe thead th {\n",
       "        text-align: right;\n",
       "    }\n",
       "</style>\n",
       "<table border=\"1\" class=\"dataframe\">\n",
       "  <thead>\n",
       "    <tr style=\"text-align: right;\">\n",
       "      <th></th>\n",
       "      <th>year</th>\n",
       "      <th>price</th>\n",
       "      <th>transmission</th>\n",
       "      <th>mileage</th>\n",
       "      <th>tax</th>\n",
       "      <th>mpg</th>\n",
       "      <th>engineSize</th>\n",
       "    </tr>\n",
       "  </thead>\n",
       "  <tbody>\n",
       "    <tr>\n",
       "      <th>6177</th>\n",
       "      <td>2019</td>\n",
       "      <td>65990</td>\n",
       "      <td>Semi-Auto</td>\n",
       "      <td>5076</td>\n",
       "      <td>150</td>\n",
       "      <td>30.4</td>\n",
       "      <td>3.0</td>\n",
       "    </tr>\n",
       "    <tr>\n",
       "      <th>5779</th>\n",
       "      <td>2020</td>\n",
       "      <td>65990</td>\n",
       "      <td>Semi-Auto</td>\n",
       "      <td>999</td>\n",
       "      <td>145</td>\n",
       "      <td>28.0</td>\n",
       "      <td>4.0</td>\n",
       "    </tr>\n",
       "    <tr>\n",
       "      <th>3191</th>\n",
       "      <td>2020</td>\n",
       "      <td>65980</td>\n",
       "      <td>Semi-Auto</td>\n",
       "      <td>3999</td>\n",
       "      <td>145</td>\n",
       "      <td>28.0</td>\n",
       "      <td>4.0</td>\n",
       "    </tr>\n",
       "    <tr>\n",
       "      <th>4727</th>\n",
       "      <td>2019</td>\n",
       "      <td>65000</td>\n",
       "      <td>Semi-Auto</td>\n",
       "      <td>3398</td>\n",
       "      <td>145</td>\n",
       "      <td>27.2</td>\n",
       "      <td>4.0</td>\n",
       "    </tr>\n",
       "    <tr>\n",
       "      <th>8814</th>\n",
       "      <td>2019</td>\n",
       "      <td>64999</td>\n",
       "      <td>Semi-Auto</td>\n",
       "      <td>119</td>\n",
       "      <td>145</td>\n",
       "      <td>40.9</td>\n",
       "      <td>3.0</td>\n",
       "    </tr>\n",
       "  </tbody>\n",
       "</table>\n",
       "</div>"
      ],
      "text/plain": [
       "      year  price transmission  mileage  tax   mpg  engineSize\n",
       "6177  2019  65990    Semi-Auto     5076  150  30.4         3.0\n",
       "5779  2020  65990    Semi-Auto      999  145  28.0         4.0\n",
       "3191  2020  65980    Semi-Auto     3999  145  28.0         4.0\n",
       "4727  2019  65000    Semi-Auto     3398  145  27.2         4.0\n",
       "8814  2019  64999    Semi-Auto      119  145  40.9         3.0"
      ]
     },
     "execution_count": 49,
     "metadata": {},
     "output_type": "execute_result"
    }
   ],
   "source": [
    "dataFrame.head()\n",
    "# we can also delete the \"transmission\" data"
   ]
  },
  {
   "cell_type": "code",
   "execution_count": 50,
   "id": "6c2a1d29",
   "metadata": {},
   "outputs": [],
   "source": [
    "dataFrame = dataFrame.drop(\"transmission\",axis=1)"
   ]
  },
  {
   "cell_type": "code",
   "execution_count": 52,
   "id": "4630e676",
   "metadata": {},
   "outputs": [
    {
     "data": {
      "text/html": [
       "<div>\n",
       "<style scoped>\n",
       "    .dataframe tbody tr th:only-of-type {\n",
       "        vertical-align: middle;\n",
       "    }\n",
       "\n",
       "    .dataframe tbody tr th {\n",
       "        vertical-align: top;\n",
       "    }\n",
       "\n",
       "    .dataframe thead th {\n",
       "        text-align: right;\n",
       "    }\n",
       "</style>\n",
       "<table border=\"1\" class=\"dataframe\">\n",
       "  <thead>\n",
       "    <tr style=\"text-align: right;\">\n",
       "      <th></th>\n",
       "      <th>year</th>\n",
       "      <th>price</th>\n",
       "      <th>mileage</th>\n",
       "      <th>tax</th>\n",
       "      <th>mpg</th>\n",
       "      <th>engineSize</th>\n",
       "    </tr>\n",
       "  </thead>\n",
       "  <tbody>\n",
       "    <tr>\n",
       "      <th>6177</th>\n",
       "      <td>2019</td>\n",
       "      <td>65990</td>\n",
       "      <td>5076</td>\n",
       "      <td>150</td>\n",
       "      <td>30.4</td>\n",
       "      <td>3.0</td>\n",
       "    </tr>\n",
       "    <tr>\n",
       "      <th>5779</th>\n",
       "      <td>2020</td>\n",
       "      <td>65990</td>\n",
       "      <td>999</td>\n",
       "      <td>145</td>\n",
       "      <td>28.0</td>\n",
       "      <td>4.0</td>\n",
       "    </tr>\n",
       "    <tr>\n",
       "      <th>3191</th>\n",
       "      <td>2020</td>\n",
       "      <td>65980</td>\n",
       "      <td>3999</td>\n",
       "      <td>145</td>\n",
       "      <td>28.0</td>\n",
       "      <td>4.0</td>\n",
       "    </tr>\n",
       "    <tr>\n",
       "      <th>4727</th>\n",
       "      <td>2019</td>\n",
       "      <td>65000</td>\n",
       "      <td>3398</td>\n",
       "      <td>145</td>\n",
       "      <td>27.2</td>\n",
       "      <td>4.0</td>\n",
       "    </tr>\n",
       "    <tr>\n",
       "      <th>8814</th>\n",
       "      <td>2019</td>\n",
       "      <td>64999</td>\n",
       "      <td>119</td>\n",
       "      <td>145</td>\n",
       "      <td>40.9</td>\n",
       "      <td>3.0</td>\n",
       "    </tr>\n",
       "  </tbody>\n",
       "</table>\n",
       "</div>"
      ],
      "text/plain": [
       "      year  price  mileage  tax   mpg  engineSize\n",
       "6177  2019  65990     5076  150  30.4         3.0\n",
       "5779  2020  65990      999  145  28.0         4.0\n",
       "3191  2020  65980     3999  145  28.0         4.0\n",
       "4727  2019  65000     3398  145  27.2         4.0\n",
       "8814  2019  64999      119  145  40.9         3.0"
      ]
     },
     "execution_count": 52,
     "metadata": {},
     "output_type": "execute_result"
    }
   ],
   "source": [
    "dataFrame.head()\n",
    "# now, data is ready"
   ]
  },
  {
   "cell_type": "code",
   "execution_count": 53,
   "id": "a37df794",
   "metadata": {},
   "outputs": [],
   "source": [
    "y = dataFrame[\"price\"].values # output\n",
    "x = dataFrame.drop(\"price\",axis=1).values # input"
   ]
  },
  {
   "cell_type": "code",
   "execution_count": 54,
   "id": "fe97b2f5",
   "metadata": {},
   "outputs": [
    {
     "data": {
      "text/plain": [
       "array([65990, 65990, 65980, ...,  1490,  1350,   650], dtype=int64)"
      ]
     },
     "execution_count": 54,
     "metadata": {},
     "output_type": "execute_result"
    }
   ],
   "source": [
    "y"
   ]
  },
  {
   "cell_type": "code",
   "execution_count": 55,
   "id": "a1fffeae",
   "metadata": {},
   "outputs": [
    {
     "data": {
      "text/plain": [
       "array([[2.01900e+03, 5.07600e+03, 1.50000e+02, 3.04000e+01, 3.00000e+00],\n",
       "       [2.02000e+03, 9.99000e+02, 1.45000e+02, 2.80000e+01, 4.00000e+00],\n",
       "       [2.02000e+03, 3.99900e+03, 1.45000e+02, 2.80000e+01, 4.00000e+00],\n",
       "       ...,\n",
       "       [2.00000e+03, 8.70000e+04, 2.65000e+02, 2.72000e+01, 3.20000e+00],\n",
       "       [2.01000e+03, 1.16126e+05, 1.45000e+02, 5.43000e+01, 2.00000e+00],\n",
       "       [2.00300e+03, 1.09090e+05, 2.35000e+02, 4.00000e+01, 1.40000e+00]])"
      ]
     },
     "execution_count": 55,
     "metadata": {},
     "output_type": "execute_result"
    }
   ],
   "source": [
    "x"
   ]
  },
  {
   "cell_type": "code",
   "execution_count": 56,
   "id": "dec38b65",
   "metadata": {},
   "outputs": [],
   "source": [
    "from sklearn.model_selection import train_test_split"
   ]
  },
  {
   "cell_type": "code",
   "execution_count": 57,
   "id": "43bf973c",
   "metadata": {},
   "outputs": [],
   "source": [
    "x_train, x_test, y_train, y_test = train_test_split(x,y,test_size=0.30,random_state=10)"
   ]
  },
  {
   "cell_type": "code",
   "execution_count": 58,
   "id": "47d84f75",
   "metadata": {},
   "outputs": [
    {
     "data": {
      "text/plain": [
       "9090"
      ]
     },
     "execution_count": 58,
     "metadata": {},
     "output_type": "execute_result"
    }
   ],
   "source": [
    "len(x_train)"
   ]
  },
  {
   "cell_type": "code",
   "execution_count": 59,
   "id": "507eede3",
   "metadata": {},
   "outputs": [
    {
     "data": {
      "text/plain": [
       "3897"
      ]
     },
     "execution_count": 59,
     "metadata": {},
     "output_type": "execute_result"
    }
   ],
   "source": [
    "len(x_test)"
   ]
  },
  {
   "cell_type": "code",
   "execution_count": 60,
   "id": "8f80f689",
   "metadata": {},
   "outputs": [],
   "source": [
    "from sklearn.preprocessing import MinMaxScaler"
   ]
  },
  {
   "cell_type": "code",
   "execution_count": 61,
   "id": "8e64e2cc",
   "metadata": {},
   "outputs": [],
   "source": [
    "scaler = MinMaxScaler()"
   ]
  },
  {
   "cell_type": "code",
   "execution_count": 62,
   "id": "b392024b",
   "metadata": {},
   "outputs": [],
   "source": [
    "x_train = scaler.fit_transform(x_train)\n",
    "# fit and transform"
   ]
  },
  {
   "cell_type": "code",
   "execution_count": 63,
   "id": "37eac8df",
   "metadata": {},
   "outputs": [],
   "source": [
    "x_test = scaler.transform(x_test)"
   ]
  },
  {
   "cell_type": "code",
   "execution_count": 64,
   "id": "45d015e7",
   "metadata": {},
   "outputs": [],
   "source": [
    "from tensorflow.keras.models import Sequential\n",
    "from tensorflow.keras.layers import Dense"
   ]
  },
  {
   "cell_type": "code",
   "execution_count": 66,
   "id": "56282e0a",
   "metadata": {},
   "outputs": [
    {
     "data": {
      "text/plain": [
       "(9090, 5)"
      ]
     },
     "execution_count": 66,
     "metadata": {},
     "output_type": "execute_result"
    }
   ],
   "source": [
    "x_train.shape"
   ]
  },
  {
   "cell_type": "code",
   "execution_count": 68,
   "id": "5f947351",
   "metadata": {},
   "outputs": [],
   "source": [
    "model = Sequential()\n",
    "\n",
    "model.add(Dense(12,activation=\"relu\"))\n",
    "model.add(Dense(12,activation=\"relu\"))\n",
    "model.add(Dense(12,activation=\"relu\"))\n",
    "model.add(Dense(12,activation=\"relu\"))\n",
    "\n",
    "model.add(Dense(1))\n",
    "\n",
    "model.compile(optimizer=\"adam\",loss=\"mse\")"
   ]
  },
  {
   "cell_type": "code",
   "execution_count": 70,
   "id": "8aa1377a",
   "metadata": {},
   "outputs": [
    {
     "name": "stdout",
     "output_type": "stream",
     "text": [
      "Epoch 1/300\n",
      "37/37 [==============================] - 0s 3ms/step - loss: 672140544.0000 - val_loss: 688092608.0000\n",
      "Epoch 2/300\n",
      "37/37 [==============================] - 0s 676us/step - loss: 672105472.0000 - val_loss: 688036288.0000\n",
      "Epoch 3/300\n",
      "37/37 [==============================] - 0s 676us/step - loss: 672003328.0000 - val_loss: 687853888.0000\n",
      "Epoch 4/300\n",
      "37/37 [==============================] - 0s 676us/step - loss: 671667840.0000 - val_loss: 687263296.0000\n",
      "Epoch 5/300\n",
      "37/37 [==============================] - 0s 649us/step - loss: 670624704.0000 - val_loss: 685501376.0000\n",
      "Epoch 6/300\n",
      "37/37 [==============================] - 0s 676us/step - loss: 667734400.0000 - val_loss: 680888384.0000\n",
      "Epoch 7/300\n",
      "37/37 [==============================] - 0s 703us/step - loss: 660738176.0000 - val_loss: 670411392.0000\n",
      "Epoch 8/300\n",
      "37/37 [==============================] - 0s 676us/step - loss: 645941184.0000 - val_loss: 649617088.0000\n",
      "Epoch 9/300\n",
      "37/37 [==============================] - 0s 649us/step - loss: 618261632.0000 - val_loss: 612588096.0000\n",
      "Epoch 10/300\n",
      "37/37 [==============================] - 0s 649us/step - loss: 571809216.0000 - val_loss: 553567424.0000\n",
      "Epoch 11/300\n",
      "37/37 [==============================] - 0s 703us/step - loss: 502024032.0000 - val_loss: 469948704.0000\n",
      "Epoch 12/300\n",
      "37/37 [==============================] - 0s 757us/step - loss: 409469888.0000 - val_loss: 366036640.0000\n",
      "Epoch 13/300\n",
      "37/37 [==============================] - 0s 757us/step - loss: 303505536.0000 - val_loss: 257495264.0000\n",
      "Epoch 14/300\n",
      "37/37 [==============================] - 0s 730us/step - loss: 204225296.0000 - val_loss: 167651024.0000\n",
      "Epoch 15/300\n",
      "37/37 [==============================] - 0s 784us/step - loss: 134040080.0000 - val_loss: 115366456.0000\n",
      "Epoch 16/300\n",
      "37/37 [==============================] - 0s 676us/step - loss: 100887232.0000 - val_loss: 95918336.0000\n",
      "Epoch 17/300\n",
      "37/37 [==============================] - 0s 649us/step - loss: 91100744.0000 - val_loss: 91167288.0000\n",
      "Epoch 18/300\n",
      "37/37 [==============================] - 0s 676us/step - loss: 88871624.0000 - val_loss: 89889224.0000\n",
      "Epoch 19/300\n",
      "37/37 [==============================] - 0s 703us/step - loss: 88038248.0000 - val_loss: 89081800.0000\n",
      "Epoch 20/300\n",
      "37/37 [==============================] - 0s 676us/step - loss: 87394840.0000 - val_loss: 88448952.0000\n",
      "Epoch 21/300\n",
      "37/37 [==============================] - 0s 703us/step - loss: 86791080.0000 - val_loss: 87890560.0000\n",
      "Epoch 22/300\n",
      "37/37 [==============================] - 0s 676us/step - loss: 86215784.0000 - val_loss: 87304176.0000\n",
      "Epoch 23/300\n",
      "37/37 [==============================] - 0s 703us/step - loss: 85665880.0000 - val_loss: 86768424.0000\n",
      "Epoch 24/300\n",
      "37/37 [==============================] - 0s 730us/step - loss: 85127384.0000 - val_loss: 86237624.0000\n",
      "Epoch 25/300\n",
      "37/37 [==============================] - 0s 703us/step - loss: 84593136.0000 - val_loss: 85688432.0000\n",
      "Epoch 26/300\n",
      "37/37 [==============================] - 0s 703us/step - loss: 84075888.0000 - val_loss: 85191656.0000\n",
      "Epoch 27/300\n",
      "37/37 [==============================] - 0s 703us/step - loss: 83578568.0000 - val_loss: 84692760.0000\n",
      "Epoch 28/300\n",
      "37/37 [==============================] - 0s 703us/step - loss: 83073728.0000 - val_loss: 84202080.0000\n",
      "Epoch 29/300\n",
      "37/37 [==============================] - 0s 703us/step - loss: 82553624.0000 - val_loss: 83692904.0000\n",
      "Epoch 30/300\n",
      "37/37 [==============================] - 0s 703us/step - loss: 82063408.0000 - val_loss: 83199176.0000\n",
      "Epoch 31/300\n",
      "37/37 [==============================] - 0s 676us/step - loss: 81574640.0000 - val_loss: 82720160.0000\n",
      "Epoch 32/300\n",
      "37/37 [==============================] - 0s 676us/step - loss: 81081912.0000 - val_loss: 82280264.0000\n",
      "Epoch 33/300\n",
      "37/37 [==============================] - 0s 676us/step - loss: 80593864.0000 - val_loss: 81745696.0000\n",
      "Epoch 34/300\n",
      "37/37 [==============================] - 0s 757us/step - loss: 80110384.0000 - val_loss: 81275368.0000\n",
      "Epoch 35/300\n",
      "37/37 [==============================] - 0s 730us/step - loss: 79624328.0000 - val_loss: 80822256.0000\n",
      "Epoch 36/300\n",
      "37/37 [==============================] - 0s 703us/step - loss: 79148696.0000 - val_loss: 80334504.0000\n",
      "Epoch 37/300\n",
      "37/37 [==============================] - 0s 676us/step - loss: 78664880.0000 - val_loss: 79831872.0000\n",
      "Epoch 38/300\n",
      "37/37 [==============================] - 0s 730us/step - loss: 78180136.0000 - val_loss: 79363368.0000\n",
      "Epoch 39/300\n",
      "37/37 [==============================] - 0s 703us/step - loss: 77696040.0000 - val_loss: 78895496.0000\n",
      "Epoch 40/300\n",
      "37/37 [==============================] - 0s 649us/step - loss: 77220176.0000 - val_loss: 78392616.0000\n",
      "Epoch 41/300\n",
      "37/37 [==============================] - 0s 676us/step - loss: 76735432.0000 - val_loss: 77910400.0000\n",
      "Epoch 42/300\n",
      "37/37 [==============================] - 0s 703us/step - loss: 76248472.0000 - val_loss: 77467976.0000\n",
      "Epoch 43/300\n",
      "37/37 [==============================] - 0s 649us/step - loss: 75771472.0000 - val_loss: 77027992.0000\n",
      "Epoch 44/300\n",
      "37/37 [==============================] - 0s 676us/step - loss: 75293496.0000 - val_loss: 76488272.0000\n",
      "Epoch 45/300\n",
      "37/37 [==============================] - 0s 649us/step - loss: 74789600.0000 - val_loss: 76054808.0000\n",
      "Epoch 46/300\n",
      "37/37 [==============================] - 0s 649us/step - loss: 74298704.0000 - val_loss: 75513112.0000\n",
      "Epoch 47/300\n",
      "37/37 [==============================] - 0s 649us/step - loss: 73823528.0000 - val_loss: 75062176.0000\n",
      "Epoch 48/300\n",
      "37/37 [==============================] - 0s 676us/step - loss: 73316240.0000 - val_loss: 74556720.0000\n",
      "Epoch 49/300\n",
      "37/37 [==============================] - 0s 622us/step - loss: 72823232.0000 - val_loss: 74060832.0000\n",
      "Epoch 50/300\n",
      "37/37 [==============================] - 0s 649us/step - loss: 72319664.0000 - val_loss: 73572584.0000\n",
      "Epoch 51/300\n",
      "37/37 [==============================] - 0s 676us/step - loss: 71820784.0000 - val_loss: 73049352.0000\n",
      "Epoch 52/300\n",
      "37/37 [==============================] - 0s 676us/step - loss: 71312984.0000 - val_loss: 72580760.0000\n",
      "Epoch 53/300\n",
      "37/37 [==============================] - 0s 676us/step - loss: 70815056.0000 - val_loss: 72085112.0000\n",
      "Epoch 54/300\n",
      "37/37 [==============================] - 0s 743us/step - loss: 70295544.0000 - val_loss: 71550472.0000\n",
      "Epoch 55/300\n",
      "37/37 [==============================] - 0s 784us/step - loss: 69781232.0000 - val_loss: 71038272.0000\n",
      "Epoch 56/300\n",
      "37/37 [==============================] - 0s 757us/step - loss: 69259032.0000 - val_loss: 70504336.0000\n",
      "Epoch 57/300\n",
      "37/37 [==============================] - 0s 730us/step - loss: 68739536.0000 - val_loss: 69991240.0000\n",
      "Epoch 58/300\n",
      "37/37 [==============================] - 0s 703us/step - loss: 68203776.0000 - val_loss: 69458624.0000\n",
      "Epoch 59/300\n",
      "37/37 [==============================] - 0s 703us/step - loss: 67657856.0000 - val_loss: 68920744.0000\n",
      "Epoch 60/300\n",
      "37/37 [==============================] - 0s 703us/step - loss: 67120064.0000 - val_loss: 68403288.0000\n",
      "Epoch 61/300\n",
      "37/37 [==============================] - 0s 730us/step - loss: 66575824.0000 - val_loss: 67842952.0000\n",
      "Epoch 62/300\n",
      "37/37 [==============================] - 0s 730us/step - loss: 66025408.0000 - val_loss: 67275888.0000\n",
      "Epoch 63/300\n",
      "37/37 [==============================] - 0s 730us/step - loss: 65456836.0000 - val_loss: 66726424.0000\n",
      "Epoch 64/300\n",
      "37/37 [==============================] - 0s 716us/step - loss: 64882116.0000 - val_loss: 66160556.0000\n",
      "Epoch 65/300\n",
      "37/37 [==============================] - 0s 703us/step - loss: 64321760.0000 - val_loss: 65599968.0000\n",
      "Epoch 66/300\n",
      "37/37 [==============================] - 0s 730us/step - loss: 63722548.0000 - val_loss: 65015100.0000\n",
      "Epoch 67/300\n",
      "37/37 [==============================] - 0s 784us/step - loss: 63133324.0000 - val_loss: 64427976.0000\n",
      "Epoch 68/300\n",
      "37/37 [==============================] - 0s 730us/step - loss: 62546576.0000 - val_loss: 63814092.0000\n",
      "Epoch 69/300\n",
      "37/37 [==============================] - 0s 784us/step - loss: 61918364.0000 - val_loss: 63193896.0000\n",
      "Epoch 70/300\n",
      "37/37 [==============================] - 0s 757us/step - loss: 61301640.0000 - val_loss: 62622948.0000\n",
      "Epoch 71/300\n"
     ]
    },
    {
     "name": "stdout",
     "output_type": "stream",
     "text": [
      "37/37 [==============================] - 0s 811us/step - loss: 60695688.0000 - val_loss: 61958164.0000\n",
      "Epoch 72/300\n",
      "37/37 [==============================] - 0s 730us/step - loss: 60035428.0000 - val_loss: 61340720.0000\n",
      "Epoch 73/300\n",
      "37/37 [==============================] - 0s 865us/step - loss: 59370100.0000 - val_loss: 60652296.0000\n",
      "Epoch 74/300\n",
      "37/37 [==============================] - 0s 730us/step - loss: 58699904.0000 - val_loss: 59985012.0000\n",
      "Epoch 75/300\n",
      "37/37 [==============================] - 0s 757us/step - loss: 58021036.0000 - val_loss: 59305260.0000\n",
      "Epoch 76/300\n",
      "37/37 [==============================] - 0s 730us/step - loss: 57352464.0000 - val_loss: 58600264.0000\n",
      "Epoch 77/300\n",
      "37/37 [==============================] - 0s 730us/step - loss: 56645596.0000 - val_loss: 57919436.0000\n",
      "Epoch 78/300\n",
      "37/37 [==============================] - 0s 703us/step - loss: 55924400.0000 - val_loss: 57180396.0000\n",
      "Epoch 79/300\n",
      "37/37 [==============================] - 0s 703us/step - loss: 55199644.0000 - val_loss: 56478724.0000\n",
      "Epoch 80/300\n",
      "37/37 [==============================] - 0s 730us/step - loss: 54508608.0000 - val_loss: 55694448.0000\n",
      "Epoch 81/300\n",
      "37/37 [==============================] - 0s 730us/step - loss: 53712788.0000 - val_loss: 54965220.0000\n",
      "Epoch 82/300\n",
      "37/37 [==============================] - 0s 676us/step - loss: 52941800.0000 - val_loss: 54197444.0000\n",
      "Epoch 83/300\n",
      "37/37 [==============================] - 0s 703us/step - loss: 52166804.0000 - val_loss: 53408288.0000\n",
      "Epoch 84/300\n",
      "37/37 [==============================] - 0s 703us/step - loss: 51378448.0000 - val_loss: 52607232.0000\n",
      "Epoch 85/300\n",
      "37/37 [==============================] - 0s 676us/step - loss: 50564240.0000 - val_loss: 51765288.0000\n",
      "Epoch 86/300\n",
      "37/37 [==============================] - 0s 676us/step - loss: 49744272.0000 - val_loss: 50945856.0000\n",
      "Epoch 87/300\n",
      "37/37 [==============================] - 0s 703us/step - loss: 48920268.0000 - val_loss: 50090828.0000\n",
      "Epoch 88/300\n",
      "37/37 [==============================] - 0s 701us/step - loss: 48077440.0000 - val_loss: 49229504.0000\n",
      "Epoch 89/300\n",
      "37/37 [==============================] - 0s 676us/step - loss: 47236184.0000 - val_loss: 48368440.0000\n",
      "Epoch 90/300\n",
      "37/37 [==============================] - 0s 703us/step - loss: 46361248.0000 - val_loss: 47523060.0000\n",
      "Epoch 91/300\n",
      "37/37 [==============================] - 0s 703us/step - loss: 45500816.0000 - val_loss: 46593956.0000\n",
      "Epoch 92/300\n",
      "37/37 [==============================] - 0s 676us/step - loss: 44634052.0000 - val_loss: 45725544.0000\n",
      "Epoch 93/300\n",
      "37/37 [==============================] - 0s 676us/step - loss: 43785560.0000 - val_loss: 44813272.0000\n",
      "Epoch 94/300\n",
      "37/37 [==============================] - 0s 676us/step - loss: 42892576.0000 - val_loss: 43936180.0000\n",
      "Epoch 95/300\n",
      "37/37 [==============================] - 0s 703us/step - loss: 42048096.0000 - val_loss: 43053136.0000\n",
      "Epoch 96/300\n",
      "37/37 [==============================] - 0s 676us/step - loss: 41184808.0000 - val_loss: 42177116.0000\n",
      "Epoch 97/300\n",
      "37/37 [==============================] - 0s 676us/step - loss: 40342492.0000 - val_loss: 41329272.0000\n",
      "Epoch 98/300\n",
      "37/37 [==============================] - 0s 676us/step - loss: 39509228.0000 - val_loss: 40467768.0000\n",
      "Epoch 99/300\n",
      "37/37 [==============================] - 0s 703us/step - loss: 38691196.0000 - val_loss: 39659024.0000\n",
      "Epoch 100/300\n",
      "37/37 [==============================] - 0s 703us/step - loss: 37909636.0000 - val_loss: 38878096.0000\n",
      "Epoch 101/300\n",
      "37/37 [==============================] - 0s 703us/step - loss: 37144820.0000 - val_loss: 38078052.0000\n",
      "Epoch 102/300\n",
      "37/37 [==============================] - 0s 726us/step - loss: 36394312.0000 - val_loss: 37305404.0000\n",
      "Epoch 103/300\n",
      "37/37 [==============================] - 0s 730us/step - loss: 35652904.0000 - val_loss: 36584244.0000\n",
      "Epoch 104/300\n",
      "37/37 [==============================] - 0s 703us/step - loss: 34969600.0000 - val_loss: 35851656.0000\n",
      "Epoch 105/300\n",
      "37/37 [==============================] - 0s 703us/step - loss: 34248648.0000 - val_loss: 35162900.0000\n",
      "Epoch 106/300\n",
      "37/37 [==============================] - 0s 730us/step - loss: 33591156.0000 - val_loss: 34483084.0000\n",
      "Epoch 107/300\n",
      "37/37 [==============================] - 0s 730us/step - loss: 32929886.0000 - val_loss: 33828108.0000\n",
      "Epoch 108/300\n",
      "37/37 [==============================] - 0s 757us/step - loss: 32304270.0000 - val_loss: 33223424.0000\n",
      "Epoch 109/300\n",
      "37/37 [==============================] - 0s 730us/step - loss: 31719608.0000 - val_loss: 32590482.0000\n",
      "Epoch 110/300\n",
      "37/37 [==============================] - 0s 730us/step - loss: 31135598.0000 - val_loss: 32032766.0000\n",
      "Epoch 111/300\n",
      "37/37 [==============================] - 0s 730us/step - loss: 30591516.0000 - val_loss: 31462672.0000\n",
      "Epoch 112/300\n",
      "37/37 [==============================] - 0s 730us/step - loss: 30052018.0000 - val_loss: 30966700.0000\n",
      "Epoch 113/300\n",
      "37/37 [==============================] - 0s 757us/step - loss: 29530100.0000 - val_loss: 30423870.0000\n",
      "Epoch 114/300\n",
      "37/37 [==============================] - 0s 728us/step - loss: 29034266.0000 - val_loss: 29933486.0000\n",
      "Epoch 115/300\n",
      "37/37 [==============================] - 0s 730us/step - loss: 28600784.0000 - val_loss: 29519450.0000\n",
      "Epoch 116/300\n",
      "37/37 [==============================] - 0s 757us/step - loss: 28126196.0000 - val_loss: 29054376.0000\n",
      "Epoch 117/300\n",
      "37/37 [==============================] - 0s 757us/step - loss: 27715244.0000 - val_loss: 28662170.0000\n",
      "Epoch 118/300\n",
      "37/37 [==============================] - 0s 703us/step - loss: 27351908.0000 - val_loss: 28261232.0000\n",
      "Epoch 119/300\n",
      "37/37 [==============================] - 0s 730us/step - loss: 26977116.0000 - val_loss: 27915024.0000\n",
      "Epoch 120/300\n",
      "37/37 [==============================] - 0s 730us/step - loss: 26648480.0000 - val_loss: 27587862.0000\n",
      "Epoch 121/300\n",
      "37/37 [==============================] - 0s 703us/step - loss: 26352018.0000 - val_loss: 27308256.0000\n",
      "Epoch 122/300\n",
      "37/37 [==============================] - 0s 676us/step - loss: 26071230.0000 - val_loss: 27085666.0000\n",
      "Epoch 123/300\n",
      "37/37 [==============================] - 0s 676us/step - loss: 25862230.0000 - val_loss: 26749454.0000\n",
      "Epoch 124/300\n",
      "37/37 [==============================] - 0s 676us/step - loss: 25577268.0000 - val_loss: 26515604.0000\n",
      "Epoch 125/300\n",
      "37/37 [==============================] - 0s 703us/step - loss: 25351276.0000 - val_loss: 26282366.0000\n",
      "Epoch 126/300\n",
      "37/37 [==============================] - 0s 703us/step - loss: 25128726.0000 - val_loss: 26088044.0000\n",
      "Epoch 127/300\n",
      "37/37 [==============================] - 0s 703us/step - loss: 24944504.0000 - val_loss: 25883026.0000\n",
      "Epoch 128/300\n",
      "37/37 [==============================] - 0s 676us/step - loss: 24767574.0000 - val_loss: 25677072.0000\n",
      "Epoch 129/300\n",
      "37/37 [==============================] - 0s 676us/step - loss: 24586394.0000 - val_loss: 25499714.0000\n",
      "Epoch 130/300\n",
      "37/37 [==============================] - 0s 676us/step - loss: 24388840.0000 - val_loss: 25343180.0000\n",
      "Epoch 131/300\n",
      "37/37 [==============================] - 0s 676us/step - loss: 24235182.0000 - val_loss: 25184466.0000\n",
      "Epoch 132/300\n",
      "37/37 [==============================] - 0s 676us/step - loss: 24075078.0000 - val_loss: 25032716.0000\n",
      "Epoch 133/300\n",
      "37/37 [==============================] - 0s 703us/step - loss: 23944422.0000 - val_loss: 24879944.0000\n",
      "Epoch 134/300\n",
      "37/37 [==============================] - 0s 676us/step - loss: 23792168.0000 - val_loss: 24722838.0000\n",
      "Epoch 135/300\n",
      "37/37 [==============================] - 0s 676us/step - loss: 23653610.0000 - val_loss: 24571316.0000\n",
      "Epoch 136/300\n",
      "37/37 [==============================] - 0s 676us/step - loss: 23489848.0000 - val_loss: 24459832.0000\n",
      "Epoch 137/300\n",
      "37/37 [==============================] - 0s 676us/step - loss: 23336062.0000 - val_loss: 24284334.0000\n",
      "Epoch 138/300\n",
      "37/37 [==============================] - 0s 676us/step - loss: 23180550.0000 - val_loss: 24150782.0000\n",
      "Epoch 139/300\n",
      "37/37 [==============================] - 0s 676us/step - loss: 23036050.0000 - val_loss: 24022254.0000\n",
      "Epoch 140/300\n",
      "37/37 [==============================] - 0s 676us/step - loss: 22879654.0000 - val_loss: 23868672.0000\n",
      "Epoch 141/300\n"
     ]
    },
    {
     "name": "stdout",
     "output_type": "stream",
     "text": [
      "37/37 [==============================] - 0s 676us/step - loss: 22731564.0000 - val_loss: 23740192.0000\n",
      "Epoch 142/300\n",
      "37/37 [==============================] - 0s 676us/step - loss: 22602278.0000 - val_loss: 23609886.0000\n",
      "Epoch 143/300\n",
      "37/37 [==============================] - 0s 703us/step - loss: 22480436.0000 - val_loss: 23485310.0000\n",
      "Epoch 144/300\n",
      "37/37 [==============================] - 0s 703us/step - loss: 22354312.0000 - val_loss: 23374064.0000\n",
      "Epoch 145/300\n",
      "37/37 [==============================] - 0s 676us/step - loss: 22223980.0000 - val_loss: 23267802.0000\n",
      "Epoch 146/300\n",
      "37/37 [==============================] - 0s 676us/step - loss: 22118944.0000 - val_loss: 23157354.0000\n",
      "Epoch 147/300\n",
      "37/37 [==============================] - 0s 757us/step - loss: 22047378.0000 - val_loss: 23100788.0000\n",
      "Epoch 148/300\n",
      "37/37 [==============================] - 0s 704us/step - loss: 21898968.0000 - val_loss: 22975078.0000\n",
      "Epoch 149/300\n",
      "37/37 [==============================] - 0s 703us/step - loss: 21810144.0000 - val_loss: 22898614.0000\n",
      "Epoch 150/300\n",
      "37/37 [==============================] - 0s 676us/step - loss: 21724358.0000 - val_loss: 22836182.0000\n",
      "Epoch 151/300\n",
      "37/37 [==============================] - 0s 676us/step - loss: 21652742.0000 - val_loss: 22751764.0000\n",
      "Epoch 152/300\n",
      "37/37 [==============================] - 0s 730us/step - loss: 21567672.0000 - val_loss: 22688100.0000\n",
      "Epoch 153/300\n",
      "37/37 [==============================] - 0s 676us/step - loss: 21519600.0000 - val_loss: 22624374.0000\n",
      "Epoch 154/300\n",
      "37/37 [==============================] - 0s 703us/step - loss: 21433942.0000 - val_loss: 22583344.0000\n",
      "Epoch 155/300\n",
      "37/37 [==============================] - 0s 730us/step - loss: 21376274.0000 - val_loss: 22525626.0000\n",
      "Epoch 156/300\n",
      "37/37 [==============================] - 0s 676us/step - loss: 21315152.0000 - val_loss: 22490816.0000\n",
      "Epoch 157/300\n",
      "37/37 [==============================] - 0s 703us/step - loss: 21257206.0000 - val_loss: 22423444.0000\n",
      "Epoch 158/300\n",
      "37/37 [==============================] - 0s 676us/step - loss: 21189082.0000 - val_loss: 22405084.0000\n",
      "Epoch 159/300\n",
      "37/37 [==============================] - 0s 703us/step - loss: 21141430.0000 - val_loss: 22328768.0000\n",
      "Epoch 160/300\n",
      "37/37 [==============================] - 0s 676us/step - loss: 21095412.0000 - val_loss: 22295944.0000\n",
      "Epoch 161/300\n",
      "37/37 [==============================] - 0s 676us/step - loss: 21033710.0000 - val_loss: 22245534.0000\n",
      "Epoch 162/300\n",
      "37/37 [==============================] - 0s 703us/step - loss: 21017740.0000 - val_loss: 22212510.0000\n",
      "Epoch 163/300\n",
      "37/37 [==============================] - 0s 676us/step - loss: 20940902.0000 - val_loss: 22245942.0000\n",
      "Epoch 164/300\n",
      "37/37 [==============================] - 0s 676us/step - loss: 20890522.0000 - val_loss: 22140962.0000\n",
      "Epoch 165/300\n",
      "37/37 [==============================] - 0s 703us/step - loss: 20843468.0000 - val_loss: 22101330.0000\n",
      "Epoch 166/300\n",
      "37/37 [==============================] - 0s 676us/step - loss: 20803440.0000 - val_loss: 22077418.0000\n",
      "Epoch 167/300\n",
      "37/37 [==============================] - 0s 649us/step - loss: 20779702.0000 - val_loss: 22051614.0000\n",
      "Epoch 168/300\n",
      "37/37 [==============================] - 0s 676us/step - loss: 20750878.0000 - val_loss: 22024066.0000\n",
      "Epoch 169/300\n",
      "37/37 [==============================] - 0s 703us/step - loss: 20695372.0000 - val_loss: 21983870.0000\n",
      "Epoch 170/300\n",
      "37/37 [==============================] - 0s 676us/step - loss: 20648084.0000 - val_loss: 21985964.0000\n",
      "Epoch 171/300\n",
      "37/37 [==============================] - 0s 676us/step - loss: 20632428.0000 - val_loss: 21953336.0000\n",
      "Epoch 172/300\n",
      "37/37 [==============================] - 0s 702us/step - loss: 20616484.0000 - val_loss: 21894450.0000\n",
      "Epoch 173/300\n",
      "37/37 [==============================] - 0s 676us/step - loss: 20556586.0000 - val_loss: 21868356.0000\n",
      "Epoch 174/300\n",
      "37/37 [==============================] - 0s 703us/step - loss: 20501822.0000 - val_loss: 21851182.0000\n",
      "Epoch 175/300\n",
      "37/37 [==============================] - 0s 703us/step - loss: 20449586.0000 - val_loss: 21908296.0000\n",
      "Epoch 176/300\n",
      "37/37 [==============================] - 0s 676us/step - loss: 20459300.0000 - val_loss: 21789622.0000\n",
      "Epoch 177/300\n",
      "37/37 [==============================] - 0s 676us/step - loss: 20413790.0000 - val_loss: 21756670.0000\n",
      "Epoch 178/300\n",
      "37/37 [==============================] - 0s 703us/step - loss: 20362648.0000 - val_loss: 21774826.0000\n",
      "Epoch 179/300\n",
      "37/37 [==============================] - 0s 649us/step - loss: 20351212.0000 - val_loss: 21704558.0000\n",
      "Epoch 180/300\n",
      "37/37 [==============================] - 0s 676us/step - loss: 20299430.0000 - val_loss: 21683630.0000\n",
      "Epoch 181/300\n",
      "37/37 [==============================] - 0s 676us/step - loss: 20283804.0000 - val_loss: 21684058.0000\n",
      "Epoch 182/300\n",
      "37/37 [==============================] - 0s 676us/step - loss: 20249592.0000 - val_loss: 21637050.0000\n",
      "Epoch 183/300\n",
      "37/37 [==============================] - 0s 676us/step - loss: 20206322.0000 - val_loss: 21610284.0000\n",
      "Epoch 184/300\n",
      "37/37 [==============================] - 0s 676us/step - loss: 20206454.0000 - val_loss: 21579768.0000\n",
      "Epoch 185/300\n",
      "37/37 [==============================] - 0s 676us/step - loss: 20179654.0000 - val_loss: 21580368.0000\n",
      "Epoch 186/300\n",
      "37/37 [==============================] - 0s 676us/step - loss: 20123088.0000 - val_loss: 21542936.0000\n",
      "Epoch 187/300\n",
      "37/37 [==============================] - 0s 676us/step - loss: 20099748.0000 - val_loss: 21516234.0000\n",
      "Epoch 188/300\n",
      "37/37 [==============================] - 0s 676us/step - loss: 20076174.0000 - val_loss: 21505912.0000\n",
      "Epoch 189/300\n",
      "37/37 [==============================] - 0s 730us/step - loss: 20105972.0000 - val_loss: 21487562.0000\n",
      "Epoch 190/300\n",
      "37/37 [==============================] - 0s 730us/step - loss: 20019998.0000 - val_loss: 21459056.0000\n",
      "Epoch 191/300\n",
      "37/37 [==============================] - 0s 730us/step - loss: 19999048.0000 - val_loss: 21446770.0000\n",
      "Epoch 192/300\n",
      "37/37 [==============================] - 0s 730us/step - loss: 19973254.0000 - val_loss: 21413156.0000\n",
      "Epoch 193/300\n",
      "37/37 [==============================] - 0s 730us/step - loss: 19933348.0000 - val_loss: 21446056.0000\n",
      "Epoch 194/300\n",
      "37/37 [==============================] - 0s 703us/step - loss: 19921330.0000 - val_loss: 21389494.0000\n",
      "Epoch 195/300\n",
      "37/37 [==============================] - 0s 703us/step - loss: 19908306.0000 - val_loss: 21353932.0000\n",
      "Epoch 196/300\n",
      "37/37 [==============================] - 0s 703us/step - loss: 19879150.0000 - val_loss: 21335426.0000\n",
      "Epoch 197/300\n",
      "37/37 [==============================] - 0s 703us/step - loss: 19844186.0000 - val_loss: 21363608.0000\n",
      "Epoch 198/300\n",
      "37/37 [==============================] - 0s 676us/step - loss: 19860438.0000 - val_loss: 21312444.0000\n",
      "Epoch 199/300\n",
      "37/37 [==============================] - 0s 676us/step - loss: 19799122.0000 - val_loss: 21307384.0000\n",
      "Epoch 200/300\n",
      "37/37 [==============================] - 0s 703us/step - loss: 19783476.0000 - val_loss: 21264378.0000\n",
      "Epoch 201/300\n",
      "37/37 [==============================] - 0s 676us/step - loss: 19768718.0000 - val_loss: 21255918.0000\n",
      "Epoch 202/300\n",
      "37/37 [==============================] - 0s 676us/step - loss: 19773586.0000 - val_loss: 21257920.0000\n",
      "Epoch 203/300\n",
      "37/37 [==============================] - 0s 649us/step - loss: 19764354.0000 - val_loss: 21258408.0000\n",
      "Epoch 204/300\n",
      "37/37 [==============================] - 0s 703us/step - loss: 19732788.0000 - val_loss: 21205588.0000\n",
      "Epoch 205/300\n",
      "37/37 [==============================] - 0s 676us/step - loss: 19686196.0000 - val_loss: 21193926.0000\n",
      "Epoch 206/300\n",
      "37/37 [==============================] - 0s 703us/step - loss: 19676290.0000 - val_loss: 21181630.0000\n",
      "Epoch 207/300\n",
      "37/37 [==============================] - 0s 676us/step - loss: 19670106.0000 - val_loss: 21156978.0000\n",
      "Epoch 208/300\n",
      "37/37 [==============================] - 0s 676us/step - loss: 19636672.0000 - val_loss: 21141666.0000\n",
      "Epoch 209/300\n",
      "37/37 [==============================] - 0s 664us/step - loss: 19643298.0000 - val_loss: 21124788.0000\n",
      "Epoch 210/300\n",
      "37/37 [==============================] - 0s 649us/step - loss: 19606356.0000 - val_loss: 21132052.0000\n",
      "Epoch 211/300\n"
     ]
    },
    {
     "name": "stdout",
     "output_type": "stream",
     "text": [
      "37/37 [==============================] - 0s 865us/step - loss: 19619448.0000 - val_loss: 21148112.0000\n",
      "Epoch 212/300\n",
      "37/37 [==============================] - 0s 676us/step - loss: 19565292.0000 - val_loss: 21075282.0000\n",
      "Epoch 213/300\n",
      "37/37 [==============================] - 0s 676us/step - loss: 19547454.0000 - val_loss: 21063194.0000\n",
      "Epoch 214/300\n",
      "37/37 [==============================] - 0s 676us/step - loss: 19551690.0000 - val_loss: 21052816.0000\n",
      "Epoch 215/300\n",
      "37/37 [==============================] - 0s 649us/step - loss: 19535092.0000 - val_loss: 21037876.0000\n",
      "Epoch 216/300\n",
      "37/37 [==============================] - 0s 676us/step - loss: 19528402.0000 - val_loss: 21025654.0000\n",
      "Epoch 217/300\n",
      "37/37 [==============================] - 0s 676us/step - loss: 19494574.0000 - val_loss: 21003818.0000\n",
      "Epoch 218/300\n",
      "37/37 [==============================] - 0s 676us/step - loss: 19486426.0000 - val_loss: 20994560.0000\n",
      "Epoch 219/300\n",
      "37/37 [==============================] - 0s 649us/step - loss: 19473926.0000 - val_loss: 20986208.0000\n",
      "Epoch 220/300\n",
      "37/37 [==============================] - 0s 671us/step - loss: 19459492.0000 - val_loss: 20979302.0000\n",
      "Epoch 221/300\n",
      "37/37 [==============================] - 0s 676us/step - loss: 19459576.0000 - val_loss: 21014654.0000\n",
      "Epoch 222/300\n",
      "37/37 [==============================] - 0s 676us/step - loss: 19448330.0000 - val_loss: 20940724.0000\n",
      "Epoch 223/300\n",
      "37/37 [==============================] - 0s 676us/step - loss: 19415744.0000 - val_loss: 20930014.0000\n",
      "Epoch 224/300\n",
      "37/37 [==============================] - 0s 676us/step - loss: 19391760.0000 - val_loss: 20904282.0000\n",
      "Epoch 225/300\n",
      "37/37 [==============================] - 0s 676us/step - loss: 19380748.0000 - val_loss: 20888178.0000\n",
      "Epoch 226/300\n",
      "37/37 [==============================] - 0s 730us/step - loss: 19365584.0000 - val_loss: 20892880.0000\n",
      "Epoch 227/300\n",
      "37/37 [==============================] - 0s 730us/step - loss: 19383110.0000 - val_loss: 20887900.0000\n",
      "Epoch 228/300\n",
      "37/37 [==============================] - 0s 703us/step - loss: 19323838.0000 - val_loss: 20855614.0000\n",
      "Epoch 229/300\n",
      "37/37 [==============================] - 0s 730us/step - loss: 19322364.0000 - val_loss: 20833944.0000\n",
      "Epoch 230/300\n",
      "37/37 [==============================] - 0s 730us/step - loss: 19322898.0000 - val_loss: 20836966.0000\n",
      "Epoch 231/300\n",
      "37/37 [==============================] - 0s 730us/step - loss: 19313278.0000 - val_loss: 20817690.0000\n",
      "Epoch 232/300\n",
      "37/37 [==============================] - 0s 730us/step - loss: 19274104.0000 - val_loss: 20848000.0000\n",
      "Epoch 233/300\n",
      "37/37 [==============================] - 0s 757us/step - loss: 19260632.0000 - val_loss: 20761462.0000\n",
      "Epoch 234/300\n",
      "37/37 [==============================] - 0s 730us/step - loss: 19245014.0000 - val_loss: 20743738.0000\n",
      "Epoch 235/300\n",
      "37/37 [==============================] - 0s 676us/step - loss: 19223600.0000 - val_loss: 20737234.0000\n",
      "Epoch 236/300\n",
      "37/37 [==============================] - 0s 676us/step - loss: 19212166.0000 - val_loss: 20711772.0000\n",
      "Epoch 237/300\n",
      "37/37 [==============================] - 0s 676us/step - loss: 19190698.0000 - val_loss: 20703792.0000\n",
      "Epoch 238/300\n",
      "37/37 [==============================] - 0s 703us/step - loss: 19182346.0000 - val_loss: 20681986.0000\n",
      "Epoch 239/300\n",
      "37/37 [==============================] - 0s 676us/step - loss: 19170940.0000 - val_loss: 20686280.0000\n",
      "Epoch 240/300\n",
      "37/37 [==============================] - 0s 676us/step - loss: 19163634.0000 - val_loss: 20646598.0000\n",
      "Epoch 241/300\n",
      "37/37 [==============================] - 0s 676us/step - loss: 19135026.0000 - val_loss: 20675346.0000\n",
      "Epoch 242/300\n",
      "37/37 [==============================] - 0s 676us/step - loss: 19164010.0000 - val_loss: 20618860.0000\n",
      "Epoch 243/300\n",
      "37/37 [==============================] - 0s 676us/step - loss: 19133976.0000 - val_loss: 20647662.0000\n",
      "Epoch 244/300\n",
      "37/37 [==============================] - 0s 676us/step - loss: 19098392.0000 - val_loss: 20584342.0000\n",
      "Epoch 245/300\n",
      "37/37 [==============================] - 0s 676us/step - loss: 19099562.0000 - val_loss: 20614740.0000\n",
      "Epoch 246/300\n",
      "37/37 [==============================] - 0s 703us/step - loss: 19082272.0000 - val_loss: 20566956.0000\n",
      "Epoch 247/300\n",
      "37/37 [==============================] - 0s 676us/step - loss: 19058740.0000 - val_loss: 20533900.0000\n",
      "Epoch 248/300\n",
      "37/37 [==============================] - 0s 649us/step - loss: 19045874.0000 - val_loss: 20517160.0000\n",
      "Epoch 249/300\n",
      "37/37 [==============================] - 0s 676us/step - loss: 19028282.0000 - val_loss: 20494074.0000\n",
      "Epoch 250/300\n",
      "37/37 [==============================] - 0s 649us/step - loss: 19027744.0000 - val_loss: 20479520.0000\n",
      "Epoch 251/300\n",
      "37/37 [==============================] - 0s 676us/step - loss: 18983200.0000 - val_loss: 20461472.0000\n",
      "Epoch 252/300\n",
      "37/37 [==============================] - 0s 676us/step - loss: 18987490.0000 - val_loss: 20460734.0000\n",
      "Epoch 253/300\n",
      "37/37 [==============================] - 0s 649us/step - loss: 18949966.0000 - val_loss: 20468146.0000\n",
      "Epoch 254/300\n",
      "37/37 [==============================] - 0s 703us/step - loss: 18946404.0000 - val_loss: 20422824.0000\n",
      "Epoch 255/300\n",
      "37/37 [==============================] - 0s 676us/step - loss: 18955824.0000 - val_loss: 20408212.0000\n",
      "Epoch 256/300\n",
      "37/37 [==============================] - 0s 703us/step - loss: 18918494.0000 - val_loss: 20393598.0000\n",
      "Epoch 257/300\n",
      "37/37 [==============================] - 0s 676us/step - loss: 18907736.0000 - val_loss: 20385172.0000\n",
      "Epoch 258/300\n",
      "37/37 [==============================] - 0s 676us/step - loss: 18903182.0000 - val_loss: 20381192.0000\n",
      "Epoch 259/300\n",
      "37/37 [==============================] - 0s 703us/step - loss: 18876908.0000 - val_loss: 20364164.0000\n",
      "Epoch 260/300\n",
      "37/37 [==============================] - 0s 730us/step - loss: 18866420.0000 - val_loss: 20363706.0000\n",
      "Epoch 261/300\n",
      "37/37 [==============================] - 0s 727us/step - loss: 18865672.0000 - val_loss: 20325390.0000\n",
      "Epoch 262/300\n",
      "37/37 [==============================] - 0s 703us/step - loss: 18839450.0000 - val_loss: 20325258.0000\n",
      "Epoch 263/300\n",
      "37/37 [==============================] - 0s 757us/step - loss: 18819678.0000 - val_loss: 20368616.0000\n",
      "Epoch 264/300\n",
      "37/37 [==============================] - 0s 730us/step - loss: 18816536.0000 - val_loss: 20298418.0000\n",
      "Epoch 265/300\n",
      "37/37 [==============================] - 0s 703us/step - loss: 18798080.0000 - val_loss: 20276640.0000\n",
      "Epoch 266/300\n",
      "37/37 [==============================] - 0s 703us/step - loss: 18785300.0000 - val_loss: 20287442.0000\n",
      "Epoch 267/300\n",
      "37/37 [==============================] - 0s 676us/step - loss: 18792752.0000 - val_loss: 20255476.0000\n",
      "Epoch 268/300\n",
      "37/37 [==============================] - 0s 676us/step - loss: 18763198.0000 - val_loss: 20241834.0000\n",
      "Epoch 269/300\n",
      "37/37 [==============================] - 0s 676us/step - loss: 18757360.0000 - val_loss: 20228326.0000\n",
      "Epoch 270/300\n",
      "37/37 [==============================] - 0s 676us/step - loss: 18742630.0000 - val_loss: 20224624.0000\n",
      "Epoch 271/300\n",
      "37/37 [==============================] - 0s 703us/step - loss: 18749448.0000 - val_loss: 20201992.0000\n",
      "Epoch 272/300\n",
      "37/37 [==============================] - 0s 676us/step - loss: 18728896.0000 - val_loss: 20209282.0000\n",
      "Epoch 273/300\n",
      "37/37 [==============================] - 0s 676us/step - loss: 18711714.0000 - val_loss: 20230302.0000\n",
      "Epoch 274/300\n",
      "37/37 [==============================] - 0s 703us/step - loss: 18718920.0000 - val_loss: 20191340.0000\n",
      "Epoch 275/300\n",
      "37/37 [==============================] - 0s 703us/step - loss: 18689658.0000 - val_loss: 20153028.0000\n",
      "Epoch 276/300\n",
      "37/37 [==============================] - 0s 703us/step - loss: 18690466.0000 - val_loss: 20210686.0000\n",
      "Epoch 277/300\n",
      "37/37 [==============================] - 0s 730us/step - loss: 18704260.0000 - val_loss: 20145176.0000\n",
      "Epoch 278/300\n",
      "37/37 [==============================] - 0s 730us/step - loss: 18654544.0000 - val_loss: 20135606.0000\n",
      "Epoch 279/300\n",
      "37/37 [==============================] - 0s 730us/step - loss: 18653930.0000 - val_loss: 20121536.0000\n",
      "Epoch 280/300\n",
      "37/37 [==============================] - 0s 730us/step - loss: 18640066.0000 - val_loss: 20114684.0000\n",
      "Epoch 281/300\n"
     ]
    },
    {
     "name": "stdout",
     "output_type": "stream",
     "text": [
      "37/37 [==============================] - 0s 703us/step - loss: 18626102.0000 - val_loss: 20101220.0000\n",
      "Epoch 282/300\n",
      "37/37 [==============================] - 0s 703us/step - loss: 18626276.0000 - val_loss: 20096136.0000\n",
      "Epoch 283/300\n",
      "37/37 [==============================] - 0s 730us/step - loss: 18636388.0000 - val_loss: 20073124.0000\n",
      "Epoch 284/300\n",
      "37/37 [==============================] - 0s 730us/step - loss: 18600720.0000 - val_loss: 20065802.0000\n",
      "Epoch 285/300\n",
      "37/37 [==============================] - 0s 703us/step - loss: 18581472.0000 - val_loss: 20063912.0000\n",
      "Epoch 286/300\n",
      "37/37 [==============================] - 0s 717us/step - loss: 18583606.0000 - val_loss: 20043686.0000\n",
      "Epoch 287/300\n",
      "37/37 [==============================] - 0s 730us/step - loss: 18576268.0000 - val_loss: 20093216.0000\n",
      "Epoch 288/300\n",
      "37/37 [==============================] - 0s 730us/step - loss: 18571358.0000 - val_loss: 20041650.0000\n",
      "Epoch 289/300\n",
      "37/37 [==============================] - 0s 730us/step - loss: 18552916.0000 - val_loss: 20029908.0000\n",
      "Epoch 290/300\n",
      "37/37 [==============================] - 0s 730us/step - loss: 18544502.0000 - val_loss: 20027580.0000\n",
      "Epoch 291/300\n",
      "37/37 [==============================] - 0s 730us/step - loss: 18539088.0000 - val_loss: 20016816.0000\n",
      "Epoch 292/300\n",
      "37/37 [==============================] - 0s 730us/step - loss: 18524618.0000 - val_loss: 19986818.0000\n",
      "Epoch 293/300\n",
      "37/37 [==============================] - 0s 730us/step - loss: 18530546.0000 - val_loss: 19973974.0000\n",
      "Epoch 294/300\n",
      "37/37 [==============================] - 0s 703us/step - loss: 18525990.0000 - val_loss: 19975926.0000\n",
      "Epoch 295/300\n",
      "37/37 [==============================] - 0s 703us/step - loss: 18505298.0000 - val_loss: 19962530.0000\n",
      "Epoch 296/300\n",
      "37/37 [==============================] - 0s 730us/step - loss: 18506082.0000 - val_loss: 20072780.0000\n",
      "Epoch 297/300\n",
      "37/37 [==============================] - 0s 703us/step - loss: 18538466.0000 - val_loss: 19946460.0000\n",
      "Epoch 298/300\n",
      "37/37 [==============================] - 0s 703us/step - loss: 18477140.0000 - val_loss: 19944256.0000\n",
      "Epoch 299/300\n",
      "37/37 [==============================] - 0s 703us/step - loss: 18470306.0000 - val_loss: 19930192.0000\n",
      "Epoch 300/300\n",
      "37/37 [==============================] - 0s 676us/step - loss: 18462700.0000 - val_loss: 19913054.0000\n"
     ]
    },
    {
     "data": {
      "text/plain": [
       "<tensorflow.python.keras.callbacks.History at 0x2872790a5b0>"
      ]
     },
     "execution_count": 70,
     "metadata": {},
     "output_type": "execute_result"
    }
   ],
   "source": [
    "model.fit(x = x_train, y = y_train, validation_data=(x_test,y_test), batch_size=250, epochs=300)"
   ]
  },
  {
   "cell_type": "code",
   "execution_count": 71,
   "id": "c3690164",
   "metadata": {},
   "outputs": [],
   "source": [
    "lossData = pd.DataFrame(model.history.history)"
   ]
  },
  {
   "cell_type": "code",
   "execution_count": 72,
   "id": "3bace985",
   "metadata": {},
   "outputs": [
    {
     "data": {
      "text/html": [
       "<div>\n",
       "<style scoped>\n",
       "    .dataframe tbody tr th:only-of-type {\n",
       "        vertical-align: middle;\n",
       "    }\n",
       "\n",
       "    .dataframe tbody tr th {\n",
       "        vertical-align: top;\n",
       "    }\n",
       "\n",
       "    .dataframe thead th {\n",
       "        text-align: right;\n",
       "    }\n",
       "</style>\n",
       "<table border=\"1\" class=\"dataframe\">\n",
       "  <thead>\n",
       "    <tr style=\"text-align: right;\">\n",
       "      <th></th>\n",
       "      <th>loss</th>\n",
       "      <th>val_loss</th>\n",
       "    </tr>\n",
       "  </thead>\n",
       "  <tbody>\n",
       "    <tr>\n",
       "      <th>0</th>\n",
       "      <td>672140544.0</td>\n",
       "      <td>688092608.0</td>\n",
       "    </tr>\n",
       "    <tr>\n",
       "      <th>1</th>\n",
       "      <td>672105472.0</td>\n",
       "      <td>688036288.0</td>\n",
       "    </tr>\n",
       "    <tr>\n",
       "      <th>2</th>\n",
       "      <td>672003328.0</td>\n",
       "      <td>687853888.0</td>\n",
       "    </tr>\n",
       "    <tr>\n",
       "      <th>3</th>\n",
       "      <td>671667840.0</td>\n",
       "      <td>687263296.0</td>\n",
       "    </tr>\n",
       "    <tr>\n",
       "      <th>4</th>\n",
       "      <td>670624704.0</td>\n",
       "      <td>685501376.0</td>\n",
       "    </tr>\n",
       "  </tbody>\n",
       "</table>\n",
       "</div>"
      ],
      "text/plain": [
       "          loss     val_loss\n",
       "0  672140544.0  688092608.0\n",
       "1  672105472.0  688036288.0\n",
       "2  672003328.0  687853888.0\n",
       "3  671667840.0  687263296.0\n",
       "4  670624704.0  685501376.0"
      ]
     },
     "execution_count": 72,
     "metadata": {},
     "output_type": "execute_result"
    }
   ],
   "source": [
    "lossData.head()"
   ]
  },
  {
   "cell_type": "code",
   "execution_count": 74,
   "id": "7d4529a4",
   "metadata": {},
   "outputs": [
    {
     "data": {
      "text/plain": [
       "<AxesSubplot:>"
      ]
     },
     "execution_count": 74,
     "metadata": {},
     "output_type": "execute_result"
    },
    {
     "data": {
      "image/png": "[encoded data removed]",
      "text/plain": [
       "<Figure size 432x288 with 1 Axes>"
      ]
     },
     "metadata": {
      "needs_background": "light"
     },
     "output_type": "display_data"
    }
   ],
   "source": [
    "lossData.plot()\n",
    "# birlikte hareket etmeleri bildigimiz gibi onemlidir"
   ]
  },
  {
   "cell_type": "code",
   "execution_count": 75,
   "id": "083f686a",
   "metadata": {},
   "outputs": [],
   "source": [
    "from sklearn.metrics import mean_squared_error, mean_absolute_error"
   ]
  },
  {
   "cell_type": "code",
   "execution_count": 76,
   "id": "a1494334",
   "metadata": {},
   "outputs": [],
   "source": [
    "predArr = model.predict(x_test)"
   ]
  },
  {
   "cell_type": "code",
   "execution_count": 77,
   "id": "8f8cb006",
   "metadata": {},
   "outputs": [
    {
     "data": {
      "text/plain": [
       "array([[22301.055],\n",
       "       [23396.824],\n",
       "       [24864.725],\n",
       "       ...,\n",
       "       [26226.6  ],\n",
       "       [16093.869],\n",
       "       [24733.256]], dtype=float32)"
      ]
     },
     "execution_count": 77,
     "metadata": {},
     "output_type": "execute_result"
    }
   ],
   "source": [
    "predArr"
   ]
  },
  {
   "cell_type": "code",
   "execution_count": 79,
   "id": "0108ecbc",
   "metadata": {},
   "outputs": [
    {
     "data": {
      "text/plain": [
       "3171.13253358954"
      ]
     },
     "execution_count": 79,
     "metadata": {},
     "output_type": "execute_result"
    }
   ],
   "source": [
    "mean_absolute_error(y_test,predArr)\n",
    "# aralarindaki fark"
   ]
  },
  {
   "cell_type": "code",
   "execution_count": 80,
   "id": "9942d337",
   "metadata": {},
   "outputs": [
    {
     "data": {
      "text/html": [
       "<div>\n",
       "<style scoped>\n",
       "    .dataframe tbody tr th:only-of-type {\n",
       "        vertical-align: middle;\n",
       "    }\n",
       "\n",
       "    .dataframe tbody tr th {\n",
       "        vertical-align: top;\n",
       "    }\n",
       "\n",
       "    .dataframe thead th {\n",
       "        text-align: right;\n",
       "    }\n",
       "</style>\n",
       "<table border=\"1\" class=\"dataframe\">\n",
       "  <thead>\n",
       "    <tr style=\"text-align: right;\">\n",
       "      <th></th>\n",
       "      <th>year</th>\n",
       "      <th>price</th>\n",
       "      <th>mileage</th>\n",
       "      <th>tax</th>\n",
       "      <th>mpg</th>\n",
       "      <th>engineSize</th>\n",
       "    </tr>\n",
       "  </thead>\n",
       "  <tbody>\n",
       "    <tr>\n",
       "      <th>count</th>\n",
       "      <td>12987.000000</td>\n",
       "      <td>12987.000000</td>\n",
       "      <td>12987.000000</td>\n",
       "      <td>12987.000000</td>\n",
       "      <td>12987.000000</td>\n",
       "      <td>12987.000000</td>\n",
       "    </tr>\n",
       "    <tr>\n",
       "      <th>mean</th>\n",
       "      <td>2017.285516</td>\n",
       "      <td>24074.855779</td>\n",
       "      <td>22133.367367</td>\n",
       "      <td>129.676215</td>\n",
       "      <td>55.438392</td>\n",
       "      <td>2.051059</td>\n",
       "    </tr>\n",
       "    <tr>\n",
       "      <th>std</th>\n",
       "      <td>2.189633</td>\n",
       "      <td>9866.601115</td>\n",
       "      <td>21197.472376</td>\n",
       "      <td>65.167429</td>\n",
       "      <td>15.025902</td>\n",
       "      <td>0.532313</td>\n",
       "    </tr>\n",
       "    <tr>\n",
       "      <th>min</th>\n",
       "      <td>1997.000000</td>\n",
       "      <td>650.000000</td>\n",
       "      <td>1.000000</td>\n",
       "      <td>0.000000</td>\n",
       "      <td>1.100000</td>\n",
       "      <td>0.000000</td>\n",
       "    </tr>\n",
       "    <tr>\n",
       "      <th>25%</th>\n",
       "      <td>2016.000000</td>\n",
       "      <td>17355.000000</td>\n",
       "      <td>6320.000000</td>\n",
       "      <td>125.000000</td>\n",
       "      <td>45.600000</td>\n",
       "      <td>1.700000</td>\n",
       "    </tr>\n",
       "    <tr>\n",
       "      <th>50%</th>\n",
       "      <td>2018.000000</td>\n",
       "      <td>22299.000000</td>\n",
       "      <td>15371.000000</td>\n",
       "      <td>145.000000</td>\n",
       "      <td>56.500000</td>\n",
       "      <td>2.000000</td>\n",
       "    </tr>\n",
       "    <tr>\n",
       "      <th>75%</th>\n",
       "      <td>2019.000000</td>\n",
       "      <td>28706.000000</td>\n",
       "      <td>31986.500000</td>\n",
       "      <td>145.000000</td>\n",
       "      <td>64.200000</td>\n",
       "      <td>2.100000</td>\n",
       "    </tr>\n",
       "    <tr>\n",
       "      <th>max</th>\n",
       "      <td>2020.000000</td>\n",
       "      <td>65990.000000</td>\n",
       "      <td>259000.000000</td>\n",
       "      <td>580.000000</td>\n",
       "      <td>217.300000</td>\n",
       "      <td>6.200000</td>\n",
       "    </tr>\n",
       "  </tbody>\n",
       "</table>\n",
       "</div>"
      ],
      "text/plain": [
       "               year         price        mileage           tax           mpg  \\\n",
       "count  12987.000000  12987.000000   12987.000000  12987.000000  12987.000000   \n",
       "mean    2017.285516  24074.855779   22133.367367    129.676215     55.438392   \n",
       "std        2.189633   9866.601115   21197.472376     65.167429     15.025902   \n",
       "min     1997.000000    650.000000       1.000000      0.000000      1.100000   \n",
       "25%     2016.000000  17355.000000    6320.000000    125.000000     45.600000   \n",
       "50%     2018.000000  22299.000000   15371.000000    145.000000     56.500000   \n",
       "75%     2019.000000  28706.000000   31986.500000    145.000000     64.200000   \n",
       "max     2020.000000  65990.000000  259000.000000    580.000000    217.300000   \n",
       "\n",
       "         engineSize  \n",
       "count  12987.000000  \n",
       "mean       2.051059  \n",
       "std        0.532313  \n",
       "min        0.000000  \n",
       "25%        1.700000  \n",
       "50%        2.000000  \n",
       "75%        2.100000  \n",
       "max        6.200000  "
      ]
     },
     "execution_count": 80,
     "metadata": {},
     "output_type": "execute_result"
    }
   ],
   "source": [
    "dataFrame.describe()"
   ]
  },
  {
   "cell_type": "code",
   "execution_count": 83,
   "id": "d92798c9",
   "metadata": {},
   "outputs": [
    {
     "data": {
      "text/plain": [
       "[<matplotlib.lines.Line2D at 0x2872d8e02b0>]"
      ]
     },
     "execution_count": 83,
     "metadata": {},
     "output_type": "execute_result"
    },
    {
     "data": {
      "image/png": "[encoded data removed]",
      "text/plain": [
       "<Figure size 432x288 with 1 Axes>"
      ]
     },
     "metadata": {
      "needs_background": "light"
     },
     "output_type": "display_data"
    }
   ],
   "source": [
    "plt.scatter(y_test,predArr)\n",
    "plt.plot(y_test,y_test,\"g-*\")"
   ]
  },
  {
   "cell_type": "code",
   "execution_count": 85,
   "id": "683cadbe",
   "metadata": {},
   "outputs": [
    {
     "data": {
      "text/plain": [
       "year           2020.0\n",
       "price         65980.0\n",
       "mileage        3999.0\n",
       "tax             145.0\n",
       "mpg              28.0\n",
       "engineSize        4.0\n",
       "Name: 3191, dtype: float64"
      ]
     },
     "execution_count": 85,
     "metadata": {},
     "output_type": "execute_result"
    }
   ],
   "source": [
    "dataFrame.iloc[2]\n",
    "# returns index=2"
   ]
  },
  {
   "cell_type": "code",
   "execution_count": 88,
   "id": "faa80728",
   "metadata": {},
   "outputs": [],
   "source": [
    "newCarSeries = dataFrame.drop(\"price\",axis=1).iloc[2]"
   ]
  },
  {
   "cell_type": "code",
   "execution_count": 89,
   "id": "57bfd243",
   "metadata": {},
   "outputs": [
    {
     "data": {
      "text/plain": [
       "year          2020.0\n",
       "mileage       3999.0\n",
       "tax            145.0\n",
       "mpg             28.0\n",
       "engineSize       4.0\n",
       "Name: 3191, dtype: float64"
      ]
     },
     "execution_count": 89,
     "metadata": {},
     "output_type": "execute_result"
    }
   ],
   "source": [
    "newCarSeries"
   ]
  },
  {
   "cell_type": "code",
   "execution_count": 90,
   "id": "597bf5e7",
   "metadata": {},
   "outputs": [],
   "source": [
    "newCarSeries = scaler.transform(newCarSeries.values.reshape(-1,5))"
   ]
  },
  {
   "cell_type": "code",
   "execution_count": 92,
   "id": "90c08c80",
   "metadata": {},
   "outputs": [
    {
     "data": {
      "text/plain": [
       "array([[62742.965]], dtype=float32)"
      ]
     },
     "execution_count": 92,
     "metadata": {},
     "output_type": "execute_result"
    }
   ],
   "source": [
    "model.predict(newCarSeries)\n",
    "# gercek degeri 65980, benim buldugum tahmin deger 62742"
   ]
  }
 ],
 "metadata": {
  "kernelspec": {
   "display_name": "Python 3",
   "language": "python",
   "name": "python3"
  },
  "language_info": {
   "codemirror_mode": {
    "name": "ipython",
    "version": 3
   },
   "file_extension": ".py",
   "mimetype": "text/x-python",
   "name": "python",
   "nbconvert_exporter": "python",
   "pygments_lexer": "ipython3",
   "version": "3.8.10"
  }
 },
 "nbformat": 4,
 "nbformat_minor": 5
}
