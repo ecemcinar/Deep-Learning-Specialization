{
 "cells": [
  {
   "cell_type": "code",
   "execution_count": 1,
   "id": "9432b1e9",
   "metadata": {},
   "outputs": [],
   "source": [
    "import numpy as np"
   ]
  },
  {
   "cell_type": "markdown",
   "id": "21a723c7",
   "metadata": {},
   "source": [
    "## listi numpy arrayine (matrise) donusturur"
   ]
  },
  {
   "cell_type": "code",
   "execution_count": 34,
   "id": "803a2835",
   "metadata": {},
   "outputs": [
    {
     "data": {
      "text/plain": [
       "array([20, 30, 40])"
      ]
     },
     "execution_count": 34,
     "metadata": {},
     "output_type": "execute_result"
    }
   ],
   "source": [
    "list=[20,30,40]\n",
    "np.array(list)"
   ]
  },
  {
   "cell_type": "code",
   "execution_count": 6,
   "id": "d9052002",
   "metadata": {},
   "outputs": [],
   "source": [
    "matrixList= [[10,20,30],[50,40,30],[10,20,60]]"
   ]
  },
  {
   "cell_type": "code",
   "execution_count": 8,
   "id": "f35f3c3e",
   "metadata": {},
   "outputs": [
    {
     "data": {
      "text/plain": [
       "array([[10, 20, 30],\n",
       "       [50, 40, 30],\n",
       "       [10, 20, 60]])"
      ]
     },
     "execution_count": 8,
     "metadata": {},
     "output_type": "execute_result"
    }
   ],
   "source": [
    "np.array(matrixList)"
   ]
  },
  {
   "cell_type": "code",
   "execution_count": 9,
   "id": "4ca175b1",
   "metadata": {},
   "outputs": [
    {
     "data": {
      "text/plain": [
       "array([ 0,  1,  2,  3,  4,  5,  6,  7,  8,  9, 10, 11, 12, 13, 14])"
      ]
     },
     "execution_count": 9,
     "metadata": {},
     "output_type": "execute_result"
    }
   ],
   "source": [
    "np.arange(0,15)"
   ]
  },
  {
   "cell_type": "code",
   "execution_count": 12,
   "id": "6409f090",
   "metadata": {},
   "outputs": [
    {
     "data": {
      "text/plain": [
       "array([ 0,  2,  4,  6,  8, 10, 12, 14])"
      ]
     },
     "execution_count": 12,
     "metadata": {},
     "output_type": "execute_result"
    }
   ],
   "source": [
    "np.arange(0,15,2) #step=2"
   ]
  },
  {
   "cell_type": "code",
   "execution_count": 16,
   "id": "e4d80fa0",
   "metadata": {},
   "outputs": [
    {
     "data": {
      "text/plain": [
       "array([[0., 0.],\n",
       "       [0., 0.]])"
      ]
     },
     "execution_count": 16,
     "metadata": {},
     "output_type": "execute_result"
    }
   ],
   "source": [
    "np.zeros((2,2))\n",
    "#np.zeros((dim))\n",
    "#(dim)"
   ]
  },
  {
   "cell_type": "code",
   "execution_count": 17,
   "id": "b14f488d",
   "metadata": {},
   "outputs": [
    {
     "data": {
      "text/plain": [
       "array([[1.],\n",
       "       [1.],\n",
       "       [1.]])"
      ]
     },
     "execution_count": 17,
     "metadata": {},
     "output_type": "execute_result"
    }
   ],
   "source": [
    "np.ones((3,1))"
   ]
  },
  {
   "cell_type": "code",
   "execution_count": 20,
   "id": "a2ac8c29",
   "metadata": {},
   "outputs": [
    {
     "data": {
      "text/plain": [
       "array([5.        , 5.04081633, 5.08163265, 5.12244898, 5.16326531,\n",
       "       5.20408163, 5.24489796, 5.28571429, 5.32653061, 5.36734694,\n",
       "       5.40816327, 5.44897959, 5.48979592, 5.53061224, 5.57142857,\n",
       "       5.6122449 , 5.65306122, 5.69387755, 5.73469388, 5.7755102 ,\n",
       "       5.81632653, 5.85714286, 5.89795918, 5.93877551, 5.97959184,\n",
       "       6.02040816, 6.06122449, 6.10204082, 6.14285714, 6.18367347,\n",
       "       6.2244898 , 6.26530612, 6.30612245, 6.34693878, 6.3877551 ,\n",
       "       6.42857143, 6.46938776, 6.51020408, 6.55102041, 6.59183673,\n",
       "       6.63265306, 6.67346939, 6.71428571, 6.75510204, 6.79591837,\n",
       "       6.83673469, 6.87755102, 6.91836735, 6.95918367, 7.        ])"
      ]
     },
     "execution_count": 20,
     "metadata": {},
     "output_type": "execute_result"
    }
   ],
   "source": [
    "#linspace\n",
    "np.linspace(5,7)\n",
    "#5'ten 7'ye esit araliklarli array olusturur"
   ]
  },
  {
   "cell_type": "code",
   "execution_count": 30,
   "id": "886753b7",
   "metadata": {},
   "outputs": [
    {
     "data": {
      "text/plain": [
       "array([[1., 0., 0., 0., 0.],\n",
       "       [0., 1., 0., 0., 0.],\n",
       "       [0., 0., 1., 0., 0.],\n",
       "       [0., 0., 0., 1., 0.],\n",
       "       [0., 0., 0., 0., 1.]])"
      ]
     },
     "execution_count": 30,
     "metadata": {},
     "output_type": "execute_result"
    }
   ],
   "source": [
    "np.eye(5)\n",
    "#identity matrix\n",
    "#when i=j, array[i][j]=1"
   ]
  },
  {
   "cell_type": "markdown",
   "id": "0e365fa2",
   "metadata": {},
   "source": [
    "# 0'dan 10'a kadar esit aralikli 20 tane sayi"
   ]
  },
  {
   "cell_type": "code",
   "execution_count": 33,
   "id": "7f3c42ee",
   "metadata": {},
   "outputs": [
    {
     "data": {
      "text/plain": [
       "array([ 0.        ,  0.52631579,  1.05263158,  1.57894737,  2.10526316,\n",
       "        2.63157895,  3.15789474,  3.68421053,  4.21052632,  4.73684211,\n",
       "        5.26315789,  5.78947368,  6.31578947,  6.84210526,  7.36842105,\n",
       "        7.89473684,  8.42105263,  8.94736842,  9.47368421, 10.        ])"
      ]
     },
     "execution_count": 33,
     "metadata": {},
     "output_type": "execute_result"
    }
   ],
   "source": [
    "np.linspace(0,10,20)"
   ]
  },
  {
   "cell_type": "markdown",
   "id": "77666197",
   "metadata": {},
   "source": [
    "## random"
   ]
  },
  {
   "cell_type": "code",
   "execution_count": 37,
   "id": "8d471487",
   "metadata": {},
   "outputs": [
    {
     "data": {
      "text/plain": [
       "array([[0.05842562, 0.08380412, 0.91818446, 0.32269813],\n",
       "       [0.21965482, 0.22586376, 0.24083935, 0.32270803],\n",
       "       [0.69495476, 0.84221855, 0.62378648, 0.34653394]])"
      ]
     },
     "execution_count": 37,
     "metadata": {},
     "output_type": "execute_result"
    }
   ],
   "source": [
    "np.random.rand(3,4)\n",
    "#3x4'luk array olusturma\n",
    "#row,column"
   ]
  },
  {
   "cell_type": "code",
   "execution_count": 50,
   "id": "a11b10b4",
   "metadata": {},
   "outputs": [
    {
     "data": {
      "text/plain": [
       "0"
      ]
     },
     "execution_count": 50,
     "metadata": {},
     "output_type": "execute_result"
    }
   ],
   "source": [
    "np.random.randint(0,10)\n",
    "#returns integer\n",
    "#0 dahil, 10 dahil degil"
   ]
  },
  {
   "cell_type": "code",
   "execution_count": 52,
   "id": "eb27f3b9",
   "metadata": {},
   "outputs": [
    {
     "data": {
      "text/plain": [
       "array([17, 16,  9, 18,  5])"
      ]
     },
     "execution_count": 52,
     "metadata": {},
     "output_type": "execute_result"
    }
   ],
   "source": [
    "np.random.randint(0,20,5)\n",
    "#0'dan 20'ye 5 elemanli integer array dondurur"
   ]
  },
  {
   "cell_type": "code",
   "execution_count": 53,
   "id": "54ed325c",
   "metadata": {},
   "outputs": [],
   "source": [
    "array=np.arange(30)"
   ]
  },
  {
   "cell_type": "code",
   "execution_count": 55,
   "id": "1e1b75f2",
   "metadata": {},
   "outputs": [
    {
     "name": "stdout",
     "output_type": "stream",
     "text": [
      "[ 0  1  2  3  4  5  6  7  8  9 10 11 12 13 14 15 16 17 18 19 20 21 22 23\n",
      " 24 25 26 27 28 29]\n"
     ]
    }
   ],
   "source": [
    "print(array)"
   ]
  },
  {
   "cell_type": "code",
   "execution_count": 56,
   "id": "f6ae0f68",
   "metadata": {},
   "outputs": [
    {
     "name": "stdout",
     "output_type": "stream",
     "text": [
      "[[0.18206792 0.11544724 0.44316474 0.85121949 0.59946184]\n",
      " [0.59722497 0.9453377  0.01203699 0.01854057 0.41460999]]\n"
     ]
    }
   ],
   "source": [
    "array=np.random.rand(2,5)\n",
    "print(array)"
   ]
  },
  {
   "cell_type": "code",
   "execution_count": 61,
   "id": "fecefb56",
   "metadata": {},
   "outputs": [
    {
     "name": "stdout",
     "output_type": "stream",
     "text": [
      "[[-5  7  2  6]\n",
      " [-4  6  4  0]]\n"
     ]
    }
   ],
   "source": [
    "array2=np.random.randint(-5,10,(2,4))\n",
    "print(array2)\n",
    "#2x4'luk matris"
   ]
  },
  {
   "cell_type": "code",
   "execution_count": 81,
   "id": "ef551f09",
   "metadata": {},
   "outputs": [],
   "source": [
    "arrWith20elements=np.random.randint(1,11,20)"
   ]
  },
  {
   "cell_type": "code",
   "execution_count": 82,
   "id": "b228f8ae",
   "metadata": {},
   "outputs": [
    {
     "name": "stdout",
     "output_type": "stream",
     "text": [
      "[ 9  7  5  4  6 10  6 10  7  7  5  2  2  2  7  5 10  2  6  8]\n"
     ]
    }
   ],
   "source": [
    "print(arrWith20elements)"
   ]
  },
  {
   "cell_type": "code",
   "execution_count": 84,
   "id": "2760bca5",
   "metadata": {},
   "outputs": [
    {
     "data": {
      "text/plain": [
       "array([[ 9,  7,  5,  4,  6],\n",
       "       [10,  6, 10,  7,  7],\n",
       "       [ 5,  2,  2,  2,  7],\n",
       "       [ 5, 10,  2,  6,  8]])"
      ]
     },
     "execution_count": 84,
     "metadata": {},
     "output_type": "execute_result"
    }
   ],
   "source": [
    "arrWith20elements.reshape(4,5)\n",
    "#20 elemani 4x5'lik matrise donusturdu\n",
    "#row x column sayisi, bolunecek dizinin eleman sayisine esit olmalidir"
   ]
  },
  {
   "cell_type": "code",
   "execution_count": 85,
   "id": "61e43098",
   "metadata": {},
   "outputs": [
    {
     "data": {
      "text/plain": [
       "10"
      ]
     },
     "execution_count": 85,
     "metadata": {},
     "output_type": "execute_result"
    }
   ],
   "source": [
    "arrWith20elements.max()"
   ]
  },
  {
   "cell_type": "code",
   "execution_count": 86,
   "id": "1ac8e331",
   "metadata": {},
   "outputs": [
    {
     "data": {
      "text/plain": [
       "2"
      ]
     },
     "execution_count": 86,
     "metadata": {},
     "output_type": "execute_result"
    }
   ],
   "source": [
    "arrWith20elements.min()"
   ]
  },
  {
   "cell_type": "code",
   "execution_count": 87,
   "id": "a5535cda",
   "metadata": {},
   "outputs": [
    {
     "data": {
      "text/plain": [
       "5"
      ]
     },
     "execution_count": 87,
     "metadata": {},
     "output_type": "execute_result"
    }
   ],
   "source": [
    "arrWith20elements.argmax() \n",
    "#max elemanin kacinci indexte oldugunu verir"
   ]
  },
  {
   "cell_type": "code",
   "execution_count": 89,
   "id": "bef15475",
   "metadata": {},
   "outputs": [
    {
     "data": {
      "text/plain": [
       "11"
      ]
     },
     "execution_count": 89,
     "metadata": {},
     "output_type": "execute_result"
    }
   ],
   "source": [
    "arrWith20elements.argmin() \n",
    "#min elemanin kacinci indexte oldugunu verir"
   ]
  },
  {
   "cell_type": "code",
   "execution_count": 92,
   "id": "9676ef51",
   "metadata": {},
   "outputs": [
    {
     "data": {
      "text/plain": [
       "(20,)"
      ]
     },
     "execution_count": 92,
     "metadata": {},
     "output_type": "execute_result"
    }
   ],
   "source": [
    "arrWith20elements.shape"
   ]
  },
  {
   "cell_type": "code",
   "execution_count": 94,
   "id": "bf915974",
   "metadata": {},
   "outputs": [
    {
     "data": {
      "text/plain": [
       "array([ 9,  7,  5,  4,  6, 10,  6, 10,  7,  7,  5,  2,  2,  2,  7,  5, 10,\n",
       "        2,  6,  8])"
      ]
     },
     "execution_count": 94,
     "metadata": {},
     "output_type": "execute_result"
    }
   ],
   "source": [
    "arrWith20elements\n",
    "#reshape yapmamiza ragmen ilk bastaki hali degismedi"
   ]
  },
  {
   "cell_type": "code",
   "execution_count": 95,
   "id": "28c067dd",
   "metadata": {},
   "outputs": [],
   "source": [
    "reshapedArray= arrWith20elements.reshape(4,5)"
   ]
  },
  {
   "cell_type": "code",
   "execution_count": 96,
   "id": "1c3928a0",
   "metadata": {},
   "outputs": [
    {
     "data": {
      "text/plain": [
       "array([[ 9,  7,  5,  4,  6],\n",
       "       [10,  6, 10,  7,  7],\n",
       "       [ 5,  2,  2,  2,  7],\n",
       "       [ 5, 10,  2,  6,  8]])"
      ]
     },
     "execution_count": 96,
     "metadata": {},
     "output_type": "execute_result"
    }
   ],
   "source": [
    "reshapedArray"
   ]
  },
  {
   "cell_type": "code",
   "execution_count": 97,
   "id": "054ab5d6",
   "metadata": {},
   "outputs": [
    {
     "data": {
      "text/plain": [
       "(4, 5)"
      ]
     },
     "execution_count": 97,
     "metadata": {},
     "output_type": "execute_result"
    }
   ],
   "source": [
    "reshapedArray.shape"
   ]
  },
  {
   "cell_type": "code",
   "execution_count": null,
   "id": "46725452",
   "metadata": {},
   "outputs": [],
   "source": []
  }
 ],
 "metadata": {
  "kernelspec": {
   "display_name": "Python 3 (ipykernel)",
   "language": "python",
   "name": "python3"
  },
  "language_info": {
   "codemirror_mode": {
    "name": "ipython",
    "version": 3
   },
   "file_extension": ".py",
   "mimetype": "text/x-python",
   "name": "python",
   "nbconvert_exporter": "python",
   "pygments_lexer": "ipython3",
   "version": "3.9.7"
  }
 },
 "nbformat": 4,
 "nbformat_minor": 5
}
