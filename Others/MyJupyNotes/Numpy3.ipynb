{
 "cells": [
  {
   "cell_type": "code",
   "execution_count": 2,
   "id": "52d0cd97",
   "metadata": {},
   "outputs": [],
   "source": [
    "import numpy as np"
   ]
  },
  {
   "cell_type": "code",
   "execution_count": 3,
   "id": "11482511",
   "metadata": {},
   "outputs": [],
   "source": [
    "myList=[[10,40,50],[20,30,70],[10,30,90]]"
   ]
  },
  {
   "cell_type": "code",
   "execution_count": 4,
   "id": "5d054d7a",
   "metadata": {},
   "outputs": [
    {
     "data": {
      "text/plain": [
       "[[10, 40, 50], [20, 30, 70], [10, 30, 90]]"
      ]
     },
     "execution_count": 4,
     "metadata": {},
     "output_type": "execute_result"
    }
   ],
   "source": [
    "myList"
   ]
  },
  {
   "cell_type": "code",
   "execution_count": 5,
   "id": "12165f83",
   "metadata": {},
   "outputs": [
    {
     "data": {
      "text/plain": [
       "array([[10, 40, 50],\n",
       "       [20, 30, 70],\n",
       "       [10, 30, 90]])"
      ]
     },
     "execution_count": 5,
     "metadata": {},
     "output_type": "execute_result"
    }
   ],
   "source": [
    "myMatrix=np.array(myList)\n",
    "myMatrix"
   ]
  },
  {
   "cell_type": "code",
   "execution_count": 6,
   "id": "73ddf923",
   "metadata": {},
   "outputs": [
    {
     "data": {
      "text/plain": [
       "(3, 3)"
      ]
     },
     "execution_count": 6,
     "metadata": {},
     "output_type": "execute_result"
    }
   ],
   "source": [
    "myMatrix.shape"
   ]
  },
  {
   "cell_type": "code",
   "execution_count": 7,
   "id": "bda2ac73",
   "metadata": {},
   "outputs": [
    {
     "data": {
      "text/plain": [
       "array([10, 40, 50])"
      ]
     },
     "execution_count": 7,
     "metadata": {},
     "output_type": "execute_result"
    }
   ],
   "source": [
    "myMatrix[0]"
   ]
  },
  {
   "cell_type": "code",
   "execution_count": 8,
   "id": "7979e44e",
   "metadata": {},
   "outputs": [
    {
     "data": {
      "text/plain": [
       "40"
      ]
     },
     "execution_count": 8,
     "metadata": {},
     "output_type": "execute_result"
    }
   ],
   "source": [
    "myMatrix[0][1]"
   ]
  },
  {
   "cell_type": "code",
   "execution_count": 9,
   "id": "8fc5cb8a",
   "metadata": {},
   "outputs": [
    {
     "data": {
      "text/plain": [
       "40"
      ]
     },
     "execution_count": 9,
     "metadata": {},
     "output_type": "execute_result"
    }
   ],
   "source": [
    "myMatrix[0,1]"
   ]
  },
  {
   "cell_type": "code",
   "execution_count": 10,
   "id": "bd116e45",
   "metadata": {},
   "outputs": [],
   "source": [
    "#myMatrix[0][1] ve myMatrix[0,1] yazmak ayni islemler"
   ]
  },
  {
   "cell_type": "code",
   "execution_count": 11,
   "id": "6380d203",
   "metadata": {},
   "outputs": [
    {
     "data": {
      "text/plain": [
       "array([70, 90])"
      ]
     },
     "execution_count": 11,
     "metadata": {},
     "output_type": "execute_result"
    }
   ],
   "source": [
    "myMatrix[1:,2]\n",
    "#index=1 satirdan baslayip son satira kadar, 0-2 arasi index degerine sahip\n",
    "#sutunlari getirir"
   ]
  },
  {
   "cell_type": "code",
   "execution_count": 12,
   "id": "2af26f7e",
   "metadata": {},
   "outputs": [
    {
     "data": {
      "text/plain": [
       "array([[10, 40, 50, 25],\n",
       "       [20, 15, 30, 70],\n",
       "       [10, 45, 30, 90],\n",
       "       [15, 25, 35, 50],\n",
       "       [20, 70, 85, 90]])"
      ]
     },
     "execution_count": 12,
     "metadata": {},
     "output_type": "execute_result"
    }
   ],
   "source": [
    "anotherMatrix=np.array([[10,40,50,25],[20,15,30,70],[10,45,30,90],\n",
    "                        [15,25,35,50],[20,70,85,90]])\n",
    "anotherMatrix"
   ]
  },
  {
   "cell_type": "code",
   "execution_count": 13,
   "id": "5abc7cd0",
   "metadata": {},
   "outputs": [
    {
     "data": {
      "text/plain": [
       "array([70, 90, 50, 90])"
      ]
     },
     "execution_count": 13,
     "metadata": {},
     "output_type": "execute_result"
    }
   ],
   "source": [
    "anotherMatrix[1:,3]"
   ]
  },
  {
   "cell_type": "code",
   "execution_count": 14,
   "id": "079565d0",
   "metadata": {
    "scrolled": true
   },
   "outputs": [
    {
     "data": {
      "text/plain": [
       "array([[50, 25],\n",
       "       [30, 70],\n",
       "       [30, 90],\n",
       "       [35, 50],\n",
       "       [85, 90]])"
      ]
     },
     "execution_count": 14,
     "metadata": {},
     "output_type": "execute_result"
    }
   ],
   "source": [
    "anotherMatrix[0:,2:]"
   ]
  },
  {
   "cell_type": "code",
   "execution_count": 15,
   "id": "3c99b0a9",
   "metadata": {},
   "outputs": [
    {
     "data": {
      "text/plain": [
       "array([[25],\n",
       "       [70],\n",
       "       [90],\n",
       "       [50],\n",
       "       [90]])"
      ]
     },
     "execution_count": 15,
     "metadata": {},
     "output_type": "execute_result"
    }
   ],
   "source": [
    "anotherMatrix[0:,3:]"
   ]
  },
  {
   "cell_type": "code",
   "execution_count": 16,
   "id": "a470e193",
   "metadata": {},
   "outputs": [],
   "source": [
    "newList=[[0,1,2,3,4],[5,6,7,8,9],[10,11,12,13,14],\n",
    "         [15,16,17,18,19],[20,21,22,23,24]]"
   ]
  },
  {
   "cell_type": "code",
   "execution_count": 17,
   "id": "4c3124db",
   "metadata": {},
   "outputs": [
    {
     "data": {
      "text/plain": [
       "array([[ 0,  1,  2,  3,  4],\n",
       "       [ 5,  6,  7,  8,  9],\n",
       "       [10, 11, 12, 13, 14],\n",
       "       [15, 16, 17, 18, 19],\n",
       "       [20, 21, 22, 23, 24]])"
      ]
     },
     "execution_count": 17,
     "metadata": {},
     "output_type": "execute_result"
    }
   ],
   "source": [
    "newMatrix=np.array(newList)\n",
    "newMatrix"
   ]
  },
  {
   "cell_type": "code",
   "execution_count": 18,
   "id": "ba904c9f",
   "metadata": {},
   "outputs": [
    {
     "data": {
      "text/plain": [
       "array([[ 0,  1,  2,  3,  4],\n",
       "       [10, 11, 12, 13, 14],\n",
       "       [20, 21, 22, 23, 24]])"
      ]
     },
     "execution_count": 18,
     "metadata": {},
     "output_type": "execute_result"
    }
   ],
   "source": [
    "newMatrix[[0,2,4]] #0,2 ve 4. indexleri getirdi"
   ]
  },
  {
   "cell_type": "code",
   "execution_count": 19,
   "id": "64905f0e",
   "metadata": {},
   "outputs": [
    {
     "data": {
      "text/plain": [
       "array([[ 5,  6,  7,  8,  9],\n",
       "       [15, 16, 17, 18, 19],\n",
       "       [ 0,  1,  2,  3,  4]])"
      ]
     },
     "execution_count": 19,
     "metadata": {},
     "output_type": "execute_result"
    }
   ],
   "source": [
    "newMatrix[[1,3,0]]"
   ]
  }
 ],
 "metadata": {
  "celltoolbar": "Raw Cell Format",
  "kernelspec": {
   "display_name": "Python 3 (ipykernel)",
   "language": "python",
   "name": "python3"
  },
  "language_info": {
   "codemirror_mode": {
    "name": "ipython",
    "version": 3
   },
   "file_extension": ".py",
   "mimetype": "text/x-python",
   "name": "python",
   "nbconvert_exporter": "python",
   "pygments_lexer": "ipython3",
   "version": "3.9.7"
  }
 },
 "nbformat": 4,
 "nbformat_minor": 5
}
