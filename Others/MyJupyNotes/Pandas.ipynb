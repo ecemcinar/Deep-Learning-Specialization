{
 "cells": [
  {
   "cell_type": "code",
   "execution_count": 2,
   "id": "3d572147",
   "metadata": {},
   "outputs": [],
   "source": [
    "import numpy as np\n",
    "import pandas as pd"
   ]
  },
  {
   "cell_type": "markdown",
   "id": "797d2f51",
   "metadata": {},
   "source": [
    "## series"
   ]
  },
  {
   "cell_type": "code",
   "execution_count": 3,
   "id": "bab7da11",
   "metadata": {},
   "outputs": [],
   "source": [
    "myDict={\"Ecem\":21,\"Simge\":22,\"Dila\":20}"
   ]
  },
  {
   "cell_type": "code",
   "execution_count": 4,
   "id": "6ea3b601",
   "metadata": {},
   "outputs": [
    {
     "data": {
      "text/plain": [
       "Ecem     21\n",
       "Simge    22\n",
       "Dila     20\n",
       "dtype: int64"
      ]
     },
     "execution_count": 4,
     "metadata": {},
     "output_type": "execute_result"
    }
   ],
   "source": [
    "pd.Series(myDict)"
   ]
  },
  {
   "cell_type": "code",
   "execution_count": 5,
   "id": "1f8957a1",
   "metadata": {},
   "outputs": [],
   "source": [
    "agesList=[21,22,20]\n",
    "namesList=[\"Ecem\",\"Simge\",\"Dila\"]"
   ]
  },
  {
   "cell_type": "code",
   "execution_count": 6,
   "id": "dffd6fac",
   "metadata": {},
   "outputs": [
    {
     "data": {
      "text/plain": [
       "0    21\n",
       "1    22\n",
       "2    20\n",
       "dtype: int64"
      ]
     },
     "execution_count": 6,
     "metadata": {},
     "output_type": "execute_result"
    }
   ],
   "source": [
    "pd.Series(agesList)"
   ]
  },
  {
   "cell_type": "code",
   "execution_count": 7,
   "id": "ef0406bb",
   "metadata": {},
   "outputs": [
    {
     "data": {
      "text/plain": [
       "Ecem     21\n",
       "Simge    22\n",
       "Dila     20\n",
       "dtype: int64"
      ]
     },
     "execution_count": 7,
     "metadata": {},
     "output_type": "execute_result"
    }
   ],
   "source": [
    "pd.Series(agesList,namesList)"
   ]
  },
  {
   "cell_type": "code",
   "execution_count": 8,
   "id": "947615d9",
   "metadata": {},
   "outputs": [
    {
     "data": {
      "text/plain": [
       "Ecem     21\n",
       "Simge    22\n",
       "Dila     20\n",
       "dtype: int64"
      ]
     },
     "execution_count": 8,
     "metadata": {},
     "output_type": "execute_result"
    }
   ],
   "source": [
    "pd.Series(data=agesList,index=namesList)"
   ]
  },
  {
   "cell_type": "code",
   "execution_count": 9,
   "id": "86fbbcc4",
   "metadata": {},
   "outputs": [],
   "source": [
    "numpArr=np.array([21,22,20])"
   ]
  },
  {
   "cell_type": "code",
   "execution_count": 10,
   "id": "6fba4c67",
   "metadata": {},
   "outputs": [
    {
     "data": {
      "text/plain": [
       "array([21, 22, 20])"
      ]
     },
     "execution_count": 10,
     "metadata": {},
     "output_type": "execute_result"
    }
   ],
   "source": [
    "numpArr"
   ]
  },
  {
   "cell_type": "code",
   "execution_count": 11,
   "id": "df0221b2",
   "metadata": {},
   "outputs": [
    {
     "data": {
      "text/plain": [
       "0    21\n",
       "1    22\n",
       "2    20\n",
       "dtype: int32"
      ]
     },
     "execution_count": 11,
     "metadata": {},
     "output_type": "execute_result"
    }
   ],
   "source": [
    "pd.Series(numpArr)"
   ]
  },
  {
   "cell_type": "code",
   "execution_count": 12,
   "id": "a419d127",
   "metadata": {},
   "outputs": [
    {
     "data": {
      "text/plain": [
       "Ecem     21\n",
       "Simge    22\n",
       "Dila     20\n",
       "dtype: int32"
      ]
     },
     "execution_count": 12,
     "metadata": {},
     "output_type": "execute_result"
    }
   ],
   "source": [
    "pd.Series(numpArr,namesList)"
   ]
  },
  {
   "cell_type": "code",
   "execution_count": 13,
   "id": "f74872f0",
   "metadata": {},
   "outputs": [
    {
     "data": {
      "text/plain": [
       "Ecem     Ceng\n",
       "Simge     ACL\n",
       "Dila       IR\n",
       "dtype: object"
      ]
     },
     "execution_count": 13,
     "metadata": {},
     "output_type": "execute_result"
    }
   ],
   "source": [
    "pd.Series([\"Ceng\",\"ACL\",\"IR\"],[\"Ecem\",\"Simge\",\"Dila\"])"
   ]
  },
  {
   "cell_type": "code",
   "execution_count": 20,
   "id": "4b39c031",
   "metadata": {},
   "outputs": [],
   "source": [
    "ranks1=pd.Series([10,1,5],[\"Ecem\",\"Simge\",\"Dila\"])"
   ]
  },
  {
   "cell_type": "code",
   "execution_count": 21,
   "id": "d4112532",
   "metadata": {},
   "outputs": [
    {
     "data": {
      "text/plain": [
       "Ecem     10\n",
       "Simge     1\n",
       "Dila      5\n",
       "dtype: int64"
      ]
     },
     "execution_count": 21,
     "metadata": {},
     "output_type": "execute_result"
    }
   ],
   "source": [
    "ranks1"
   ]
  },
  {
   "cell_type": "code",
   "execution_count": 27,
   "id": "918703e9",
   "metadata": {},
   "outputs": [],
   "source": [
    "ranks2=pd.Series([20,10,8],[\"Ecem\",\"Dila\",\"Simge\"])"
   ]
  },
  {
   "cell_type": "code",
   "execution_count": 28,
   "id": "bf4438dd",
   "metadata": {},
   "outputs": [
    {
     "data": {
      "text/plain": [
       "Ecem     20\n",
       "Dila     10\n",
       "Simge     8\n",
       "dtype: int64"
      ]
     },
     "execution_count": 28,
     "metadata": {},
     "output_type": "execute_result"
    }
   ],
   "source": [
    "ranks2"
   ]
  },
  {
   "cell_type": "code",
   "execution_count": 29,
   "id": "1f7bb123",
   "metadata": {},
   "outputs": [
    {
     "data": {
      "text/plain": [
       "20"
      ]
     },
     "execution_count": 29,
     "metadata": {},
     "output_type": "execute_result"
    }
   ],
   "source": [
    "ranks2[\"Ecem\"]"
   ]
  },
  {
   "cell_type": "code",
   "execution_count": 30,
   "id": "aa317d10",
   "metadata": {},
   "outputs": [],
   "source": [
    "lastRanks = ranks1+ranks2"
   ]
  },
  {
   "cell_type": "code",
   "execution_count": 31,
   "id": "bc9e2b4c",
   "metadata": {},
   "outputs": [
    {
     "data": {
      "text/plain": [
       "Dila     15\n",
       "Ecem     30\n",
       "Simge     9\n",
       "dtype: int64"
      ]
     },
     "execution_count": 31,
     "metadata": {},
     "output_type": "execute_result"
    }
   ],
   "source": [
    "lastRanks"
   ]
  },
  {
   "cell_type": "code",
   "execution_count": 33,
   "id": "4a35d221",
   "metadata": {},
   "outputs": [],
   "source": [
    "series2=pd.Series([20,30,40,50],[\"a\",\"b\",\"c\",\"d\"])"
   ]
  },
  {
   "cell_type": "code",
   "execution_count": 34,
   "id": "28c980dc",
   "metadata": {},
   "outputs": [],
   "source": [
    "series3=pd.Series([10,5,4,2],[\"a\",\"c\",\"f\",\"g\"])"
   ]
  },
  {
   "cell_type": "code",
   "execution_count": 35,
   "id": "cd56f7d4",
   "metadata": {},
   "outputs": [],
   "source": [
    "series4=series2+series3"
   ]
  },
  {
   "cell_type": "code",
   "execution_count": 37,
   "id": "d251ba18",
   "metadata": {},
   "outputs": [
    {
     "data": {
      "text/plain": [
       "a    30.0\n",
       "b     NaN\n",
       "c    45.0\n",
       "d     NaN\n",
       "f     NaN\n",
       "g     NaN\n",
       "dtype: float64"
      ]
     },
     "execution_count": 37,
     "metadata": {},
     "output_type": "execute_result"
    }
   ],
   "source": [
    "series4"
   ]
  },
  {
   "cell_type": "code",
   "execution_count": null,
   "id": "35da8c86",
   "metadata": {},
   "outputs": [],
   "source": []
  }
 ],
 "metadata": {
  "kernelspec": {
   "display_name": "Python 3 (ipykernel)",
   "language": "python",
   "name": "python3"
  },
  "language_info": {
   "codemirror_mode": {
    "name": "ipython",
    "version": 3
   },
   "file_extension": ".py",
   "mimetype": "text/x-python",
   "name": "python",
   "nbconvert_exporter": "python",
   "pygments_lexer": "ipython3",
   "version": "3.9.7"
  }
 },
 "nbformat": 4,
 "nbformat_minor": 5
}
