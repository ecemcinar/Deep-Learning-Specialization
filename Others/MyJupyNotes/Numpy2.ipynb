{
 "cells": [
  {
   "cell_type": "code",
   "execution_count": 1,
   "id": "d02aa6a7",
   "metadata": {},
   "outputs": [],
   "source": [
    "import numpy as np"
   ]
  },
  {
   "cell_type": "code",
   "execution_count": 3,
   "id": "6cbf9727",
   "metadata": {},
   "outputs": [],
   "source": [
    "arr=np.arange(20)"
   ]
  },
  {
   "cell_type": "code",
   "execution_count": 6,
   "id": "f981e57f",
   "metadata": {},
   "outputs": [
    {
     "data": {
      "text/plain": [
       "array([ 0,  1,  2,  3,  4,  5,  6,  7,  8,  9, 10, 11, 12, 13, 14, 15, 16,\n",
       "       17, 18, 19])"
      ]
     },
     "execution_count": 6,
     "metadata": {},
     "output_type": "execute_result"
    }
   ],
   "source": [
    "arr"
   ]
  },
  {
   "cell_type": "code",
   "execution_count": 7,
   "id": "2692e66e",
   "metadata": {},
   "outputs": [
    {
     "data": {
      "text/plain": [
       "5"
      ]
     },
     "execution_count": 7,
     "metadata": {},
     "output_type": "execute_result"
    }
   ],
   "source": [
    "arr[5]"
   ]
  },
  {
   "cell_type": "code",
   "execution_count": 12,
   "id": "d299cfcf",
   "metadata": {},
   "outputs": [
    {
     "data": {
      "text/plain": [
       "array([3, 4, 5, 6, 7, 8, 9])"
      ]
     },
     "execution_count": 12,
     "metadata": {},
     "output_type": "execute_result"
    }
   ],
   "source": [
    "arr[3:10]\n",
    "#3-10. indexler arasindaki elemanlari getirir.\n",
    "#stopping index yani 10 dahil degildir"
   ]
  },
  {
   "cell_type": "code",
   "execution_count": 15,
   "id": "4696ec0a",
   "metadata": {},
   "outputs": [],
   "source": [
    "arr[3:10]=-2\n",
    "#start ve end indexler arasi tum elemanlari \"-2\" yapti"
   ]
  },
  {
   "cell_type": "code",
   "execution_count": 16,
   "id": "96f37656",
   "metadata": {},
   "outputs": [
    {
     "data": {
      "text/plain": [
       "array([ 0,  1,  2, -2, -2, -2, -2, -2, -2, -2, 10, 11, 12, 13, 14, 15, 16,\n",
       "       17, 18, 19])"
      ]
     },
     "execution_count": 16,
     "metadata": {},
     "output_type": "execute_result"
    }
   ],
   "source": [
    "arr"
   ]
  },
  {
   "cell_type": "code",
   "execution_count": 18,
   "id": "e5d8bb81",
   "metadata": {},
   "outputs": [],
   "source": [
    "newArr=np.arange(0,16)"
   ]
  },
  {
   "cell_type": "code",
   "execution_count": 19,
   "id": "88c33165",
   "metadata": {},
   "outputs": [
    {
     "data": {
      "text/plain": [
       "array([ 0,  1,  2,  3,  4,  5,  6,  7,  8,  9, 10, 11, 12, 13, 14, 15])"
      ]
     },
     "execution_count": 19,
     "metadata": {},
     "output_type": "execute_result"
    }
   ],
   "source": [
    "newArr"
   ]
  },
  {
   "cell_type": "code",
   "execution_count": 20,
   "id": "13f9aaa9",
   "metadata": {},
   "outputs": [],
   "source": [
    "slicingArr=newArr[4:9]"
   ]
  },
  {
   "cell_type": "code",
   "execution_count": 22,
   "id": "448c9035",
   "metadata": {},
   "outputs": [
    {
     "data": {
      "text/plain": [
       "array([4, 5, 6, 7, 8])"
      ]
     },
     "execution_count": 22,
     "metadata": {},
     "output_type": "execute_result"
    }
   ],
   "source": [
    "slicingArr"
   ]
  },
  {
   "cell_type": "code",
   "execution_count": 29,
   "id": "13240597",
   "metadata": {},
   "outputs": [],
   "source": [
    "slicingArr[:]=5\n",
    "#changed all elements in array to \"5\""
   ]
  },
  {
   "cell_type": "code",
   "execution_count": 30,
   "id": "0bb167e1",
   "metadata": {},
   "outputs": [
    {
     "data": {
      "text/plain": [
       "array([5, 5, 5, 5, 5])"
      ]
     },
     "execution_count": 30,
     "metadata": {},
     "output_type": "execute_result"
    }
   ],
   "source": [
    "slicingArr"
   ]
  },
  {
   "cell_type": "code",
   "execution_count": 33,
   "id": "2c639a4d",
   "metadata": {},
   "outputs": [
    {
     "data": {
      "text/plain": [
       "array([ 0,  1,  2,  3,  5,  5,  5,  5,  5,  9, 10, 11, 12, 13, 14, 15])"
      ]
     },
     "execution_count": 33,
     "metadata": {},
     "output_type": "execute_result"
    }
   ],
   "source": [
    "newArr"
   ]
  },
  {
   "cell_type": "code",
   "execution_count": 34,
   "id": "a0b32928",
   "metadata": {},
   "outputs": [],
   "source": [
    "#slicing dizisinde degistirmistik, slicing dizisini turettigimiz arrayin\n",
    "#ilgili elemanlari da degistirilmis oldu"
   ]
  },
  {
   "cell_type": "code",
   "execution_count": 54,
   "id": "0a5e5e7e",
   "metadata": {},
   "outputs": [
    {
     "data": {
      "text/plain": [
       "array([ 0,  1,  2,  3,  4,  5,  6,  7,  8,  9, 10, 11, 12, 13, 14, 15, 16,\n",
       "       17, 18, 19, 20, 21, 22, 23])"
      ]
     },
     "execution_count": 54,
     "metadata": {},
     "output_type": "execute_result"
    }
   ],
   "source": [
    "anotherArr = np.arange(0,24)\n",
    "anotherArr"
   ]
  },
  {
   "cell_type": "code",
   "execution_count": 59,
   "id": "fcf9e024",
   "metadata": {},
   "outputs": [
    {
     "data": {
      "text/plain": [
       "array([ 0,  1,  2,  3,  4,  5,  6,  7,  8,  9, 10, 11, 12, 13, 14, 15, 16,\n",
       "       17, 18, 19, 20, 21, 22, 23])"
      ]
     },
     "execution_count": 59,
     "metadata": {},
     "output_type": "execute_result"
    }
   ],
   "source": [
    "tempArr= anotherArr.copy()\n",
    "tempArr\n",
    "#degismemesi icin tempArray olusturdum"
   ]
  },
  {
   "cell_type": "code",
   "execution_count": 60,
   "id": "75fd91b1",
   "metadata": {},
   "outputs": [
    {
     "data": {
      "text/plain": [
       "array([ 3,  4,  5,  6,  7,  8,  9, 10, 11, 12, 13, 14])"
      ]
     },
     "execution_count": 60,
     "metadata": {},
     "output_type": "execute_result"
    }
   ],
   "source": [
    "anotherArr3= tempArr[3:15]\n",
    "anotherArr3\n",
    "#slicing ile olusturulan array"
   ]
  },
  {
   "cell_type": "code",
   "execution_count": 57,
   "id": "ca21b12f",
   "metadata": {},
   "outputs": [
    {
     "data": {
      "text/plain": [
       "array([ 3, -6, -6, -6, -6,  8,  9, 10, 11, 12, 13, 14])"
      ]
     },
     "execution_count": 57,
     "metadata": {},
     "output_type": "execute_result"
    }
   ],
   "source": [
    "anotherArr3[1:5]=-6\n",
    "anotherArr3"
   ]
  },
  {
   "cell_type": "code",
   "execution_count": 61,
   "id": "e532d284",
   "metadata": {},
   "outputs": [
    {
     "data": {
      "text/plain": [
       "array([ 0,  1,  2,  3,  4,  5,  6,  7,  8,  9, 10, 11, 12, 13, 14, 15, 16,\n",
       "       17, 18, 19, 20, 21, 22, 23])"
      ]
     },
     "execution_count": 61,
     "metadata": {},
     "output_type": "execute_result"
    }
   ],
   "source": [
    "anotherArr\n",
    "#degismemis oldu"
   ]
  }
 ],
 "metadata": {
  "kernelspec": {
   "display_name": "Python 3 (ipykernel)",
   "language": "python",
   "name": "python3"
  },
  "language_info": {
   "codemirror_mode": {
    "name": "ipython",
    "version": 3
   },
   "file_extension": ".py",
   "mimetype": "text/x-python",
   "name": "python",
   "nbconvert_exporter": "python",
   "pygments_lexer": "ipython3",
   "version": "3.9.7"
  }
 },
 "nbformat": 4,
 "nbformat_minor": 5
}
